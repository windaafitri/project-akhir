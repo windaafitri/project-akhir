{
 "cells": [
  {
   "block_group": "4007d7d33516471aa8ce40742f8408c2",
   "cell_type": "markdown",
   "metadata": {
    "cell_id": "21be0434acbe491ea4d910959bf22dbd",
    "deepnote_cell_type": "text-cell-h1",
    "formattedRanges": []
   },
   "source": [
    "# Studi Kasus Klasifikasi Huruf Alfabet A-Z Berdasarkan Fitur Geometris yang Diekstrak dari Citra Huruf Menggunakan Dataset Letter Recognition"
   ]
  },
  {
   "block_group": "aafcdc9d4589439aa22cea515afcfb86",
   "cell_type": "markdown",
   "metadata": {
    "cell_id": "be40f84c62c74f7fbfb281c95d3a4dde",
    "deepnote_cell_type": "text-cell-h2",
    "formattedRanges": []
   },
   "source": [
    "## Tujuan Analisis"
   ]
  },
  {
   "block_group": "e43efdfef0d042208a7201fe2fa1f257",
   "cell_type": "markdown",
   "metadata": {
    "cell_id": "457626f8ccbd400abcd3c8488a4e4c06",
    "deepnote_cell_type": "text-cell-p",
    "formattedRanges": []
   },
   "source": [
    "Pekerjaan ini menggunakan analisis statistik untuk mengidentifikasi fitur-fitur utama dalam pengenalan huruf pada dataset \"Letter Recognition\". Hal ini bertujuan untuk meningkatkan akurasi model klasifikasi huruf dan memberikan panduan bagi aplikasi OCR. Dataset ini mencakup sampel huruf A-Z yang diekstrak dari gambar, dengan 16 fitur geometris seperti koordinat bounding box, lebar, tinggi, jumlah piksel aktif, dan statistik posisi piksel. Tujuannya adalah memodelkan klasifikasi huruf berdasarkan fitur-fitur."
   ]
  },
  {
   "block_group": "a382442d955042acb643ae6204eb68a8",
   "cell_type": "markdown",
   "metadata": {
    "cell_id": "1eb4f0fce6024f78afb9b0cf10eabf68",
    "deepnote_cell_type": "text-cell-h1",
    "formattedRanges": []
   },
   "source": [
    "# Data Understanding"
   ]
  },
  {
   "block_group": "3d4416765d174dc998923f71811e65d8",
   "cell_type": "markdown",
   "metadata": {
    "cell_id": "86a4475f9ee94cda9806a6acfbf49ff2",
    "deepnote_cell_type": "text-cell-h2",
    "formattedRanges": []
   },
   "source": [
    "## Deskripsi Data"
   ]
  },
  {
   "block_group": "699e6faf0ae6492b8584d5471c051ef9",
   "cell_type": "markdown",
   "metadata": {
    "cell_id": "7099915584fb4170a7ae1b076f43719c",
    "deepnote_cell_type": "text-cell-p",
    "formattedRanges": []
   },
   "source": [
    "Penggunaan dataset \"Letter Recognition\" bertujuan untuk mengembangkan algoritma pengenalan huruf yang andal dengan menggunakan fitur geometris yang diekstrak dari gambar huruf. Huruf-huruf dalam dataset ini diambil dari citra dan dikarakterisasi berdasarkan berbagai atribut seperti koordinat bounding box, lebar, tinggi, jumlah piksel aktif, dan statistik posisi piksel."
   ]
  },
  {
   "block_group": "30c196b461bc4cff992be96758be678e",
   "cell_type": "markdown",
   "metadata": {
    "cell_id": "4cafd57315034826b8239fba2b70ca5a",
    "deepnote_cell_type": "text-cell-p",
    "formattedRanges": []
   },
   "source": [
    "Pengolahan huruf-huruf ini melibatkan ekstraksi fitur dari gambar huruf menggunakan teknik-teknik tertentu. Setiap huruf dalam gambar diisolasi menggunakan bounding box, dan berbagai fitur geometris dihitung. Fitur-fitur ini mencakup rata-rata posisi piksel, jumlah piksel aktif, dan perubahan arah (edges). "
   ]
  },
  {
   "block_group": "6af137b12e4549c6b672ab293394c6ff",
   "cell_type": "markdown",
   "metadata": {
    "cell_id": "ed9fac79b384479787b88b8a484610e9",
    "deepnote_cell_type": "text-cell-p",
    "formattedRanges": []
   },
   "source": [
    "Algoritma pengenalan huruf yang berbeda dan teknik ekstraksi fitur digunakan, tergantung pada jenis pengenalan huruf yang ingin dicapai. Dalam mengembangkan model pengenalan huruf, komposisi data yang digunakan harus mencakup berbagai karakteristik huruf yang relevan untuk memastikan model dapat mengklasifikasikan huruf dengan akurasi tinggi. Hal ini mencakup variasi dalam bentuk huruf, ukuran, dan orientasi. Oleh karena itu, kualitas fitur yang diekstraksi dari gambar huruf sangat penting dalam menentukan keberhasilan model pengenalan huruf."
   ]
  },
  {
   "block_group": "ca797d3b9f664081a9c08497a0614171",
   "cell_type": "markdown",
   "metadata": {
    "cell_id": "4a9a0cae96f546308879b86873718c1e",
    "deepnote_cell_type": "text-cell-h3",
    "formattedRanges": []
   },
   "source": [
    "### Menampilkan data "
   ]
  },
  {
   "block_group": "ea85d4a859984689b836de9056111722",
   "cell_type": "code",
   "content_dependencies": {
    "codeHash": "e763c2b5",
    "definedVariables": [],
    "error": {
     "message": "invalid syntax (<unknown>, line 1)",
     "type": "SyntaxError"
    },
    "importedModules": [],
    "usedVariables": []
   },
   "execution_count": 1,
   "metadata": {
    "cell_id": "9c8a70d939af4fa89f64d96e3045fbf0",
    "deepnote_cell_type": "code",
    "deepnote_to_be_reexecuted": false,
    "execution_millis": 2143,
    "execution_start": 1719397028734,
    "source_hash": null
   },
   "outputs": [
    {
     "name": "stdout",
     "output_type": "stream",
     "text": [
      "Collecting ucimlrepo\n",
      "  Downloading ucimlrepo-0.0.7-py3-none-any.whl.metadata (5.5 kB)\n",
      "Requirement already satisfied: pandas>=1.0.0 in c:\\laragon\\bin\\python\\python-3.10\\lib\\site-packages (from ucimlrepo) (2.2.2)\n",
      "Requirement already satisfied: certifi>=2020.12.5 in c:\\laragon\\bin\\python\\python-3.10\\lib\\site-packages (from ucimlrepo) (2024.6.2)\n",
      "Requirement already satisfied: numpy>=1.22.4 in c:\\laragon\\bin\\python\\python-3.10\\lib\\site-packages (from pandas>=1.0.0->ucimlrepo) (1.26.4)\n",
      "Requirement already satisfied: python-dateutil>=2.8.2 in c:\\laragon\\bin\\python\\python-3.10\\lib\\site-packages (from pandas>=1.0.0->ucimlrepo) (2.9.0.post0)\n",
      "Requirement already satisfied: pytz>=2020.1 in c:\\laragon\\bin\\python\\python-3.10\\lib\\site-packages (from pandas>=1.0.0->ucimlrepo) (2024.1)\n",
      "Requirement already satisfied: tzdata>=2022.7 in c:\\laragon\\bin\\python\\python-3.10\\lib\\site-packages (from pandas>=1.0.0->ucimlrepo) (2024.1)\n",
      "Requirement already satisfied: six>=1.5 in c:\\laragon\\bin\\python\\python-3.10\\lib\\site-packages (from python-dateutil>=2.8.2->pandas>=1.0.0->ucimlrepo) (1.16.0)\n",
      "Downloading ucimlrepo-0.0.7-py3-none-any.whl (8.0 kB)\n",
      "Installing collected packages: ucimlrepo\n",
      "Successfully installed ucimlrepo-0.0.7\n",
      "Note: you may need to restart the kernel to use updated packages.\n"
     ]
    }
   ],
   "outputs_reference": "s3:deepnote-cell-outputs-production/1eb889d4-3198-435d-a466-e463e65484c9",
   "source": [
    "pip install ucimlrepo"
   ]
  },
  {
   "block_group": "2fc37bea41af455c81fd8b4fccff52de",
   "cell_type": "code",
   "content_dependencies": {
    "codeHash": "f6260cf8",
    "definedVariables": [
     "y",
     "X",
     "letter_recognition"
    ],
    "importedModules": [
     "fetch_ucirepo"
    ],
    "usedVariables": [
     "fetch_ucirepo",
     "letter_recognition"
    ]
   },
   "execution_count": 2,
   "metadata": {
    "cell_id": "aed303cb7b294eeb9b3a3ba6594fd4ef",
    "deepnote_cell_type": "code",
    "deepnote_to_be_reexecuted": false,
    "execution_millis": 1258,
    "execution_start": 1719397030886,
    "source_hash": null
   },
   "outputs": [
    {
     "name": "stdout",
     "output_type": "stream",
     "text": [
      "{'uci_id': 59, 'name': 'Letter Recognition', 'repository_url': 'https://archive.ics.uci.edu/dataset/59/letter+recognition', 'data_url': 'https://archive.ics.uci.edu/static/public/59/data.csv', 'abstract': 'Database of character image features; try to identify the letter', 'area': 'Computer Science', 'tasks': ['Classification'], 'characteristics': ['Multivariate'], 'num_instances': 20000, 'num_features': 16, 'feature_types': ['Integer'], 'demographics': [], 'target_col': ['lettr'], 'index_col': None, 'has_missing_values': 'no', 'missing_values_symbol': None, 'year_of_dataset_creation': 1991, 'last_updated': 'Thu Sep 28 2023', 'dataset_doi': '10.24432/C5ZP40', 'creators': ['David Slate'], 'intro_paper': None, 'additional_info': {'summary': 'The objective is to identify each of a large number of black-and-white rectangular pixel displays as one of the 26 capital letters in the English alphabet.  The character images were based on 20 different fonts and each letter within these 20 fonts was randomly distorted to produce a file of 20,000 unique stimuli.  Each stimulus was converted into 16 primitive numerical attributes (statistical moments and edge counts) which were then scaled to fit into a range of integer values from 0 through 15.  We typically train on the first 16000 items and then use the resulting model to predict the letter category for the remaining 4000.  See the article cited above for more details.', 'purpose': None, 'funded_by': None, 'instances_represent': None, 'recommended_data_splits': None, 'sensitive_data': None, 'preprocessing_description': None, 'variable_info': '\\t 1.\\tlettr\\tcapital letter\\t(26 values from A to Z)\\r\\n\\t 2.\\tx-box\\thorizontal position of box\\t(integer)\\r\\n\\t 3.\\ty-box\\tvertical position of box\\t(integer)\\r\\n\\t 4.\\twidth\\twidth of box\\t\\t\\t(integer)\\r\\n\\t 5.\\thigh \\theight of box\\t\\t\\t(integer)\\r\\n\\t 6.\\tonpix\\ttotal # on pixels\\t\\t(integer)\\r\\n\\t 7.\\tx-bar\\tmean x of on pixels in box\\t(integer)\\r\\n\\t 8.\\ty-bar\\tmean y of on pixels in box\\t(integer)\\r\\n\\t 9.\\tx2bar\\tmean x variance\\t\\t\\t(integer)\\r\\n\\t10.\\ty2bar\\tmean y variance\\t\\t\\t(integer)\\r\\n\\t11.\\txybar\\tmean x y correlation\\t\\t(integer)\\r\\n\\t12.\\tx2ybr\\tmean of x * x * y\\t\\t(integer)\\r\\n\\t13.\\txy2br\\tmean of x * y * y\\t\\t(integer)\\r\\n\\t14.\\tx-ege\\tmean edge count left to right\\t(integer)\\r\\n\\t15.\\txegvy\\tcorrelation of x-ege with y\\t(integer)\\r\\n\\t16.\\ty-ege\\tmean edge count bottom to top\\t(integer)\\r\\n\\t17.\\tyegvx\\tcorrelation of y-ege with x\\t(integer)', 'citation': None}}\n",
      "     name     role         type demographic                    description  \\\n",
      "0   lettr   Target  Categorical        None                 capital letter   \n",
      "1   x-box  Feature      Integer        None     horizontal position of box   \n",
      "2   y-box  Feature      Integer        None       vertical position of box   \n",
      "3   width  Feature      Integer        None                   width of box   \n",
      "4    high  Feature      Integer        None                  height of box   \n",
      "5   onpix  Feature      Integer        None              total # on pixels   \n",
      "6   x-bar  Feature      Integer        None     mean x of on pixels in box   \n",
      "7   y-bar  Feature      Integer        None     mean y of on pixels in box   \n",
      "8   x2bar  Feature      Integer        None                mean x variance   \n",
      "9   y2bar  Feature      Integer        None                mean y variance   \n",
      "10  xybar  Feature      Integer        None           mean x y correlation   \n",
      "11  x2ybr  Feature      Integer        None              mean of x * x * y   \n",
      "12  xy2br  Feature      Integer        None              mean of x * y * y   \n",
      "13  x-ege  Feature      Integer        None  mean edge count left to right   \n",
      "14  xegvy  Feature      Integer        None    correlation of x-ege with y   \n",
      "15  y-ege  Feature      Integer        None  mean edge count bottom to top   \n",
      "16  yegvx  Feature      Integer        None    correlation of y-ege with x   \n",
      "\n",
      "   units missing_values  \n",
      "0   None             no  \n",
      "1   None             no  \n",
      "2   None             no  \n",
      "3   None             no  \n",
      "4   None             no  \n",
      "5   None             no  \n",
      "6   None             no  \n",
      "7   None             no  \n",
      "8   None             no  \n",
      "9   None             no  \n",
      "10  None             no  \n",
      "11  None             no  \n",
      "12  None             no  \n",
      "13  None             no  \n",
      "14  None             no  \n",
      "15  None             no  \n",
      "16  None             no  \n"
     ]
    }
   ],
   "outputs_reference": "s3:deepnote-cell-outputs-production/c70a70dc-7f26-490e-81be-d70e74ee45e0",
   "source": [
    "from ucimlrepo import fetch_ucirepo \n",
    "  \n",
    "# fetch dataset \n",
    "letter_recognition = fetch_ucirepo(id=59) \n",
    "  \n",
    "# data (as pandas dataframes) \n",
    "X = letter_recognition.data.features \n",
    "y = letter_recognition.data.targets \n",
    "  \n",
    "# metadata \n",
    "print(letter_recognition.metadata) \n",
    "  \n",
    "# variable information \n",
    "print(letter_recognition.variables) \n"
   ]
  },
  {
   "block_group": "dda59effc9894fb9875ea3b6a20ded07",
   "cell_type": "code",
   "content_dependencies": {
    "codeHash": "ee6524d3",
    "definedVariables": [
     "df_data"
    ],
    "importedModules": [
     "pd"
    ],
    "usedVariables": [
     "df_data",
     "pd"
    ]
   },
   "execution_count": 3,
   "metadata": {
    "cell_id": "05c6c69b361843288f2af6047d6aceaa",
    "deepnote_cell_type": "code",
    "deepnote_table_loading": false,
    "deepnote_table_state": {
     "filters": [],
     "pageIndex": 4,
     "pageSize": 10,
     "sortBy": []
    },
    "deepnote_to_be_reexecuted": false,
    "execution_millis": 707,
    "execution_start": 1719397032148,
    "source_hash": null
   },
   "outputs": [
    {
     "data": {
      "text/html": [
       "<div>\n",
       "<style scoped>\n",
       "    .dataframe tbody tr th:only-of-type {\n",
       "        vertical-align: middle;\n",
       "    }\n",
       "\n",
       "    .dataframe tbody tr th {\n",
       "        vertical-align: top;\n",
       "    }\n",
       "\n",
       "    .dataframe thead th {\n",
       "        text-align: right;\n",
       "    }\n",
       "</style>\n",
       "<table border=\"1\" class=\"dataframe\">\n",
       "  <thead>\n",
       "    <tr style=\"text-align: right;\">\n",
       "      <th></th>\n",
       "      <th>lettr</th>\n",
       "      <th>x-box</th>\n",
       "      <th>y-box</th>\n",
       "      <th>width</th>\n",
       "      <th>high</th>\n",
       "      <th>onpix</th>\n",
       "      <th>x-bar</th>\n",
       "      <th>y-bar</th>\n",
       "      <th>x2bar</th>\n",
       "      <th>y2bar</th>\n",
       "      <th>xybar</th>\n",
       "      <th>x2ybr</th>\n",
       "      <th>xy2br</th>\n",
       "      <th>x-ege</th>\n",
       "      <th>xegvy</th>\n",
       "      <th>y-ege</th>\n",
       "      <th>yegvx</th>\n",
       "    </tr>\n",
       "  </thead>\n",
       "  <tbody>\n",
       "    <tr>\n",
       "      <th>0</th>\n",
       "      <td>T</td>\n",
       "      <td>2</td>\n",
       "      <td>8</td>\n",
       "      <td>3</td>\n",
       "      <td>5</td>\n",
       "      <td>1</td>\n",
       "      <td>8</td>\n",
       "      <td>13</td>\n",
       "      <td>0</td>\n",
       "      <td>6</td>\n",
       "      <td>6</td>\n",
       "      <td>10</td>\n",
       "      <td>8</td>\n",
       "      <td>0</td>\n",
       "      <td>8</td>\n",
       "      <td>0</td>\n",
       "      <td>8</td>\n",
       "    </tr>\n",
       "    <tr>\n",
       "      <th>1</th>\n",
       "      <td>I</td>\n",
       "      <td>5</td>\n",
       "      <td>12</td>\n",
       "      <td>3</td>\n",
       "      <td>7</td>\n",
       "      <td>2</td>\n",
       "      <td>10</td>\n",
       "      <td>5</td>\n",
       "      <td>5</td>\n",
       "      <td>4</td>\n",
       "      <td>13</td>\n",
       "      <td>3</td>\n",
       "      <td>9</td>\n",
       "      <td>2</td>\n",
       "      <td>8</td>\n",
       "      <td>4</td>\n",
       "      <td>10</td>\n",
       "    </tr>\n",
       "    <tr>\n",
       "      <th>2</th>\n",
       "      <td>D</td>\n",
       "      <td>4</td>\n",
       "      <td>11</td>\n",
       "      <td>6</td>\n",
       "      <td>8</td>\n",
       "      <td>6</td>\n",
       "      <td>10</td>\n",
       "      <td>6</td>\n",
       "      <td>2</td>\n",
       "      <td>6</td>\n",
       "      <td>10</td>\n",
       "      <td>3</td>\n",
       "      <td>7</td>\n",
       "      <td>3</td>\n",
       "      <td>7</td>\n",
       "      <td>3</td>\n",
       "      <td>9</td>\n",
       "    </tr>\n",
       "    <tr>\n",
       "      <th>3</th>\n",
       "      <td>N</td>\n",
       "      <td>7</td>\n",
       "      <td>11</td>\n",
       "      <td>6</td>\n",
       "      <td>6</td>\n",
       "      <td>3</td>\n",
       "      <td>5</td>\n",
       "      <td>9</td>\n",
       "      <td>4</td>\n",
       "      <td>6</td>\n",
       "      <td>4</td>\n",
       "      <td>4</td>\n",
       "      <td>10</td>\n",
       "      <td>6</td>\n",
       "      <td>10</td>\n",
       "      <td>2</td>\n",
       "      <td>8</td>\n",
       "    </tr>\n",
       "    <tr>\n",
       "      <th>4</th>\n",
       "      <td>G</td>\n",
       "      <td>2</td>\n",
       "      <td>1</td>\n",
       "      <td>3</td>\n",
       "      <td>1</td>\n",
       "      <td>1</td>\n",
       "      <td>8</td>\n",
       "      <td>6</td>\n",
       "      <td>6</td>\n",
       "      <td>6</td>\n",
       "      <td>6</td>\n",
       "      <td>5</td>\n",
       "      <td>9</td>\n",
       "      <td>1</td>\n",
       "      <td>7</td>\n",
       "      <td>5</td>\n",
       "      <td>10</td>\n",
       "    </tr>\n",
       "    <tr>\n",
       "      <th>...</th>\n",
       "      <td>...</td>\n",
       "      <td>...</td>\n",
       "      <td>...</td>\n",
       "      <td>...</td>\n",
       "      <td>...</td>\n",
       "      <td>...</td>\n",
       "      <td>...</td>\n",
       "      <td>...</td>\n",
       "      <td>...</td>\n",
       "      <td>...</td>\n",
       "      <td>...</td>\n",
       "      <td>...</td>\n",
       "      <td>...</td>\n",
       "      <td>...</td>\n",
       "      <td>...</td>\n",
       "      <td>...</td>\n",
       "      <td>...</td>\n",
       "    </tr>\n",
       "    <tr>\n",
       "      <th>19995</th>\n",
       "      <td>D</td>\n",
       "      <td>2</td>\n",
       "      <td>2</td>\n",
       "      <td>3</td>\n",
       "      <td>3</td>\n",
       "      <td>2</td>\n",
       "      <td>7</td>\n",
       "      <td>7</td>\n",
       "      <td>7</td>\n",
       "      <td>6</td>\n",
       "      <td>6</td>\n",
       "      <td>6</td>\n",
       "      <td>4</td>\n",
       "      <td>2</td>\n",
       "      <td>8</td>\n",
       "      <td>3</td>\n",
       "      <td>7</td>\n",
       "    </tr>\n",
       "    <tr>\n",
       "      <th>19996</th>\n",
       "      <td>C</td>\n",
       "      <td>7</td>\n",
       "      <td>10</td>\n",
       "      <td>8</td>\n",
       "      <td>8</td>\n",
       "      <td>4</td>\n",
       "      <td>4</td>\n",
       "      <td>8</td>\n",
       "      <td>6</td>\n",
       "      <td>9</td>\n",
       "      <td>12</td>\n",
       "      <td>9</td>\n",
       "      <td>13</td>\n",
       "      <td>2</td>\n",
       "      <td>9</td>\n",
       "      <td>3</td>\n",
       "      <td>7</td>\n",
       "    </tr>\n",
       "    <tr>\n",
       "      <th>19997</th>\n",
       "      <td>T</td>\n",
       "      <td>6</td>\n",
       "      <td>9</td>\n",
       "      <td>6</td>\n",
       "      <td>7</td>\n",
       "      <td>5</td>\n",
       "      <td>6</td>\n",
       "      <td>11</td>\n",
       "      <td>3</td>\n",
       "      <td>7</td>\n",
       "      <td>11</td>\n",
       "      <td>9</td>\n",
       "      <td>5</td>\n",
       "      <td>2</td>\n",
       "      <td>12</td>\n",
       "      <td>2</td>\n",
       "      <td>4</td>\n",
       "    </tr>\n",
       "    <tr>\n",
       "      <th>19998</th>\n",
       "      <td>S</td>\n",
       "      <td>2</td>\n",
       "      <td>3</td>\n",
       "      <td>4</td>\n",
       "      <td>2</td>\n",
       "      <td>1</td>\n",
       "      <td>8</td>\n",
       "      <td>7</td>\n",
       "      <td>2</td>\n",
       "      <td>6</td>\n",
       "      <td>10</td>\n",
       "      <td>6</td>\n",
       "      <td>8</td>\n",
       "      <td>1</td>\n",
       "      <td>9</td>\n",
       "      <td>5</td>\n",
       "      <td>8</td>\n",
       "    </tr>\n",
       "    <tr>\n",
       "      <th>19999</th>\n",
       "      <td>A</td>\n",
       "      <td>4</td>\n",
       "      <td>9</td>\n",
       "      <td>6</td>\n",
       "      <td>6</td>\n",
       "      <td>2</td>\n",
       "      <td>9</td>\n",
       "      <td>5</td>\n",
       "      <td>3</td>\n",
       "      <td>1</td>\n",
       "      <td>8</td>\n",
       "      <td>1</td>\n",
       "      <td>8</td>\n",
       "      <td>2</td>\n",
       "      <td>7</td>\n",
       "      <td>2</td>\n",
       "      <td>8</td>\n",
       "    </tr>\n",
       "  </tbody>\n",
       "</table>\n",
       "<p>20000 rows × 17 columns</p>\n",
       "</div>"
      ],
      "text/plain": [
       "      lettr  x-box  y-box  width  high  onpix  x-bar  y-bar  x2bar  y2bar  \\\n",
       "0         T      2      8      3     5      1      8     13      0      6   \n",
       "1         I      5     12      3     7      2     10      5      5      4   \n",
       "2         D      4     11      6     8      6     10      6      2      6   \n",
       "3         N      7     11      6     6      3      5      9      4      6   \n",
       "4         G      2      1      3     1      1      8      6      6      6   \n",
       "...     ...    ...    ...    ...   ...    ...    ...    ...    ...    ...   \n",
       "19995     D      2      2      3     3      2      7      7      7      6   \n",
       "19996     C      7     10      8     8      4      4      8      6      9   \n",
       "19997     T      6      9      6     7      5      6     11      3      7   \n",
       "19998     S      2      3      4     2      1      8      7      2      6   \n",
       "19999     A      4      9      6     6      2      9      5      3      1   \n",
       "\n",
       "       xybar  x2ybr  xy2br  x-ege  xegvy  y-ege  yegvx  \n",
       "0          6     10      8      0      8      0      8  \n",
       "1         13      3      9      2      8      4     10  \n",
       "2         10      3      7      3      7      3      9  \n",
       "3          4      4     10      6     10      2      8  \n",
       "4          6      5      9      1      7      5     10  \n",
       "...      ...    ...    ...    ...    ...    ...    ...  \n",
       "19995      6      6      4      2      8      3      7  \n",
       "19996     12      9     13      2      9      3      7  \n",
       "19997     11      9      5      2     12      2      4  \n",
       "19998     10      6      8      1      9      5      8  \n",
       "19999      8      1      8      2      7      2      8  \n",
       "\n",
       "[20000 rows x 17 columns]"
      ]
     },
     "execution_count": 3,
     "metadata": {},
     "output_type": "execute_result"
    }
   ],
   "outputs_reference": "s3:deepnote-cell-outputs-production/b4b63588-df11-4298-87c0-b73b3939c329",
   "source": [
    "import pandas as pd\n",
    "\n",
    "df_data = pd.read_csv('https://archive.ics.uci.edu/static/public/59/data.csv')\n",
    "df_data "
   ]
  },
  {
   "block_group": "da3a1ae092e24e9d8ba83a4e04c75c3c",
   "cell_type": "markdown",
   "metadata": {
    "cell_id": "4ac545ba7d4c43d0bbd53a2e664e27b8",
    "deepnote_cell_type": "text-cell-h3",
    "formattedRanges": []
   },
   "source": [
    "### Fitur"
   ]
  },
  {
   "block_group": "2d395d3e0ad646fcb80e236b2e6e9990",
   "cell_type": "code",
   "content_dependencies": {
    "codeHash": "2ee8cb3d",
    "definedVariables": [],
    "importedModules": [],
    "usedVariables": [
     "df_data"
    ]
   },
   "execution_count": 4,
   "metadata": {
    "cell_id": "d6c333c906c14e57931d87796b1c25ea",
    "deepnote_cell_type": "code",
    "deepnote_to_be_reexecuted": false,
    "execution_millis": 450,
    "execution_start": 1719397032862,
    "source_hash": null
   },
   "outputs": [
    {
     "name": "stdout",
     "output_type": "stream",
     "text": [
      "<class 'pandas.core.frame.DataFrame'>\n",
      "RangeIndex: 20000 entries, 0 to 19999\n",
      "Data columns (total 17 columns):\n",
      " #   Column  Non-Null Count  Dtype \n",
      "---  ------  --------------  ----- \n",
      " 0   lettr   20000 non-null  object\n",
      " 1   x-box   20000 non-null  int64 \n",
      " 2   y-box   20000 non-null  int64 \n",
      " 3   width   20000 non-null  int64 \n",
      " 4   high    20000 non-null  int64 \n",
      " 5   onpix   20000 non-null  int64 \n",
      " 6   x-bar   20000 non-null  int64 \n",
      " 7   y-bar   20000 non-null  int64 \n",
      " 8   x2bar   20000 non-null  int64 \n",
      " 9   y2bar   20000 non-null  int64 \n",
      " 10  xybar   20000 non-null  int64 \n",
      " 11  x2ybr   20000 non-null  int64 \n",
      " 12  xy2br   20000 non-null  int64 \n",
      " 13  x-ege   20000 non-null  int64 \n",
      " 14  xegvy   20000 non-null  int64 \n",
      " 15  y-ege   20000 non-null  int64 \n",
      " 16  yegvx   20000 non-null  int64 \n",
      "dtypes: int64(16), object(1)\n",
      "memory usage: 2.6+ MB\n"
     ]
    }
   ],
   "outputs_reference": "dbtable:cell_outputs/4c056f3e-f458-4d5c-ba0b-2cf9cfc6ba9d",
   "source": [
    "df_data.info()"
   ]
  },
  {
   "block_group": "ce26e31d25364aeda224e025c0700b2a",
   "cell_type": "markdown",
   "metadata": {
    "cell_id": "6431747ad6314ef9bfb92694545d3730",
    "deepnote_cell_type": "text-cell-p",
    "formattedRanges": []
   },
   "source": [
    "Di atas adalah informasi mengenai dataset yang saya gunakan, dengan fitur-fitur bernomor 1 hingga 16 dan lettr sebagai kelas dari dataset. Informasi tersebut juga menunjukkan bahwa tipe data yang digunakan adalah numerik. Berikut adalah penjelasan mengenai setiap fitur:"
   ]
  },
  {
   "block_group": "6bf618c9ae964525809e46f779145568",
   "cell_type": "markdown",
   "metadata": {
    "cell_id": "ec688e06b83c4ad7b97983b209654775",
    "deepnote_app_block_visible": false,
    "deepnote_cell_type": "text-cell-bullet",
    "formattedRanges": [],
    "is_collapsed": false
   },
   "source": [
    "- x-box: Koordinat piksel paling kiri dari bounding box yang mengelilingi huruf"
   ]
  },
  {
   "block_group": "0bd51f12b05f4c659e15a42986058336",
   "cell_type": "markdown",
   "metadata": {
    "cell_id": "60e37aa779f8401db35a6bb5062ed339",
    "deepnote_app_block_visible": false,
    "deepnote_cell_type": "text-cell-bullet",
    "formattedRanges": [],
    "is_collapsed": false
   },
   "source": [
    "- y-box: Koordinat piksel paling atas dari bounding box yang mengelilingi huruf"
   ]
  },
  {
   "block_group": "1bc166d76dff40ba9798a0f25e614226",
   "cell_type": "markdown",
   "metadata": {
    "cell_id": "bd4462d34aea41c980240edc4bd7c231",
    "deepnote_app_block_visible": false,
    "deepnote_cell_type": "text-cell-bullet",
    "formattedRanges": [],
    "is_collapsed": false
   },
   "source": [
    "- width: Lebar bounding box yang mengelilingi huruf dalam piksel."
   ]
  },
  {
   "block_group": "436d7aca290241cbad1dd979f19810e1",
   "cell_type": "markdown",
   "metadata": {
    "cell_id": "0249ea9b8b9f40148c11257564319a32",
    "deepnote_app_block_visible": false,
    "deepnote_cell_type": "text-cell-bullet",
    "formattedRanges": [],
    "is_collapsed": false
   },
   "source": [
    "- high: Tinggi bounding box yang mengelilingi huruf dalam piksel."
   ]
  },
  {
   "block_group": "a16f25eb60294fa1939dc89a36a9977d",
   "cell_type": "markdown",
   "metadata": {
    "cell_id": "9f7e5734d5e041f89e0dd78b8548f069",
    "deepnote_app_block_visible": false,
    "deepnote_cell_type": "text-cell-bullet",
    "formattedRanges": [],
    "is_collapsed": false
   },
   "source": [
    "- onpix: Jumlah piksel yang berada di dalam bounding box yang sebenarnya merupakan bagian dari huruf (bukan latar belakang)."
   ]
  },
  {
   "block_group": "7a5488db01304b71ab54021c158b0eb6",
   "cell_type": "markdown",
   "metadata": {
    "cell_id": "7326ee72daca425da868eb141ca8cce6",
    "deepnote_app_block_visible": false,
    "deepnote_cell_type": "text-cell-bullet",
    "formattedRanges": [],
    "is_collapsed": false
   },
   "source": [
    "- x-bar: Rata-rata posisi x dari piksel yang merupakan bagian dari huruf dalam bounding box."
   ]
  },
  {
   "block_group": "a6cbdcd55f574a72ab1b23aee70d3184",
   "cell_type": "markdown",
   "metadata": {
    "cell_id": "7703028d409945a98cf46be63a10c170",
    "deepnote_app_block_visible": false,
    "deepnote_cell_type": "text-cell-bullet",
    "formattedRanges": [],
    "is_collapsed": false
   },
   "source": [
    "- y-bar: Rata-rata posisi y dari piksel yang merupakan bagian dari huruf dalam bounding box."
   ]
  },
  {
   "block_group": "595a9232eb704a9c99f2ef59c8b51917",
   "cell_type": "markdown",
   "metadata": {
    "cell_id": "14e66f36153a498cbd81a54dbf93b259",
    "deepnote_app_block_visible": false,
    "deepnote_cell_type": "text-cell-bullet",
    "formattedRanges": [],
    "is_collapsed": false
   },
   "source": [
    "- x2bar: Rata-rata kuadrat dari posisi x dari piksel yang merupakan bagian dari huruf."
   ]
  },
  {
   "block_group": "341884f322fe43779712a0ef7e323df8",
   "cell_type": "markdown",
   "metadata": {
    "cell_id": "001b0b06e8aa4f3f8b1a8753635d41e4",
    "deepnote_app_block_visible": false,
    "deepnote_cell_type": "text-cell-bullet",
    "formattedRanges": [],
    "is_collapsed": false
   },
   "source": [
    "- y2bar: Rata-rata kuadrat dari posisi y dari piksel yang merupakan bagian dari huruf."
   ]
  },
  {
   "block_group": "c907a0b477854250b393a6016a0d1e4a",
   "cell_type": "markdown",
   "metadata": {
    "cell_id": "9dfa8f7c9b4d4aaba56dd5b668531388",
    "deepnote_app_block_visible": false,
    "deepnote_cell_type": "text-cell-bullet",
    "formattedRanges": [],
    "is_collapsed": false
   },
   "source": [
    "- xybar: Rata-rata hasil kali dari posisi x dan y dari piksel yang merupakan bagian dari huruf."
   ]
  },
  {
   "block_group": "f0eea0a7eec646e29b56b066df2f5058",
   "cell_type": "markdown",
   "metadata": {
    "cell_id": "82790dcd4f3f46f2b64bdff258ac76af",
    "deepnote_app_block_visible": false,
    "deepnote_cell_type": "text-cell-bullet",
    "formattedRanges": [],
    "is_collapsed": false
   },
   "source": [
    "- x2ybr: Rata-rata hasil kali dari posisi x dan kuadrat dari posisi y dari piksel yang merupakan bagian dari huruf."
   ]
  },
  {
   "block_group": "4e4e78aab26b432d996fe60822775473",
   "cell_type": "markdown",
   "metadata": {
    "cell_id": "9bbb9a9b6c83496aa59526f93d0babb2",
    "deepnote_app_block_visible": false,
    "deepnote_cell_type": "text-cell-bullet",
    "formattedRanges": [],
    "is_collapsed": false
   },
   "source": [
    "- xy2br: Rata-rata hasil kali dari posisi y dan kuadrat dari posisi x dari piksel yang merupakan bagian dari huruf."
   ]
  },
  {
   "block_group": "2750a5b88aaa463db140c220aa549cba",
   "cell_type": "markdown",
   "metadata": {
    "cell_id": "59338a1f90094be393fc0672d894cfee",
    "deepnote_app_block_visible": false,
    "deepnote_cell_type": "text-cell-bullet",
    "formattedRanges": [],
    "is_collapsed": false
   },
   "source": [
    "- x-ege: Jumlah perubahan arah (edges) horizontal pada huruf dalam bounding box."
   ]
  },
  {
   "block_group": "dd1deed769f64edaa53b632e0aa9f4d7",
   "cell_type": "markdown",
   "metadata": {
    "cell_id": "6e7a422fff714d5d894b0b8951d0faf1",
    "deepnote_app_block_visible": false,
    "deepnote_cell_type": "text-cell-bullet",
    "formattedRanges": [],
    "is_collapsed": false
   },
   "source": [
    "- xegvy: Jumlah perubahan arah (edges) vertikal pada huruf di tengah bounding box secara horizontal."
   ]
  },
  {
   "block_group": "fa023d25fad645b5b0cce74b9f019011",
   "cell_type": "markdown",
   "metadata": {
    "cell_id": "d60eb9cc628544d493f2f549ca33ad48",
    "deepnote_app_block_visible": false,
    "deepnote_cell_type": "text-cell-bullet",
    "formattedRanges": [],
    "is_collapsed": false
   },
   "source": [
    "- y-ege: Jumlah perubahan arah (edges) vertikal pada huruf dalam bounding box."
   ]
  },
  {
   "block_group": "8481efaa01eb45a29566e99bc6f2a1ac",
   "cell_type": "markdown",
   "metadata": {
    "cell_id": "087f220b922446b8aa8c485cca2900ac",
    "deepnote_app_block_visible": false,
    "deepnote_cell_type": "text-cell-bullet",
    "formattedRanges": [],
    "is_collapsed": false
   },
   "source": [
    "- yegvx: Jumlah perubahan arah (edges) horizontal pada huruf di tengah bounding box secara vertikal."
   ]
  },
  {
   "block_group": "173985304edb4e46982240d1eabc3fc2",
   "cell_type": "markdown",
   "metadata": {
    "cell_id": "babd5be6281b4803b794ada1c1fb3256",
    "deepnote_app_block_visible": false,
    "deepnote_cell_type": "text-cell-bullet",
    "formattedRanges": [],
    "is_collapsed": false
   },
   "source": [
    "- lettr: Huruf yang diwakili (A-Z). Ini adalah label atau target yang ingin diprediksi"
   ]
  },
  {
   "block_group": "725722830f094340999b6f2fcb7b2438",
   "cell_type": "markdown",
   "metadata": {
    "cell_id": "435abb0ef8f54d52a98f16035771c399",
    "deepnote_cell_type": "text-cell-h3",
    "formattedRanges": []
   },
   "source": [
    "### Penjelasan Class"
   ]
  },
  {
   "block_group": "7f2dde8eb56e46ec80025ed8221ab6ce",
   "cell_type": "code",
   "content_dependencies": {
    "codeHash": "78011c5",
    "definedVariables": [],
    "importedModules": [],
    "usedVariables": [
     "df_data"
    ]
   },
   "execution_count": 5,
   "metadata": {
    "cell_id": "13de7c3433b543119ca4caa71c4961df",
    "deepnote_cell_type": "code",
    "deepnote_to_be_reexecuted": false,
    "execution_millis": 421,
    "execution_start": 1719397032892,
    "source_hash": null
   },
   "outputs": [
    {
     "data": {
      "text/plain": [
       "lettr\n",
       "U    813\n",
       "D    805\n",
       "P    803\n",
       "T    796\n",
       "M    792\n",
       "A    789\n",
       "X    787\n",
       "Y    786\n",
       "Q    783\n",
       "N    783\n",
       "F    775\n",
       "G    773\n",
       "E    768\n",
       "B    766\n",
       "V    764\n",
       "L    761\n",
       "R    758\n",
       "I    755\n",
       "O    753\n",
       "W    752\n",
       "S    748\n",
       "J    747\n",
       "K    739\n",
       "C    736\n",
       "H    734\n",
       "Z    734\n",
       "Name: count, dtype: int64"
      ]
     },
     "execution_count": 5,
     "metadata": {},
     "output_type": "execute_result"
    }
   ],
   "outputs_reference": "dbtable:cell_outputs/73caaa13-d000-423f-94f2-ed23bea206b4",
   "source": [
    "df_data.value_counts('lettr')"
   ]
  },
  {
   "block_group": "abbb45b8b45840ab9051403c01aa6824",
   "cell_type": "markdown",
   "metadata": {
    "cell_id": "69a6ed88ef3d44b68968cd1f2c3d93e7",
    "deepnote_cell_type": "text-cell-p",
    "formattedRanges": []
   },
   "source": [
    "Dari hasil diatas menunjukkan bahwa class dalam dataset yang digunakan ada di dalam kolom lettr dengan jumlah 26 class, yaitu :"
   ]
  },
  {
   "block_group": "73e40c41714b439bac9b8f3ba9ff9ca0",
   "cell_type": "markdown",
   "metadata": {
    "cell_id": "e80eb6827700437588d606e26b950f1b",
    "deepnote_app_block_visible": false,
    "deepnote_cell_type": "text-cell-bullet",
    "formattedRanges": [],
    "is_collapsed": false
   },
   "source": [
    "- A"
   ]
  },
  {
   "block_group": "3830e133dc474fcbbdc84a7e9e1c07b8",
   "cell_type": "markdown",
   "metadata": {
    "cell_id": "a35bf62a2d1341e9a59cbbb9d251e3ab",
    "deepnote_app_block_visible": false,
    "deepnote_cell_type": "text-cell-bullet",
    "formattedRanges": [],
    "is_collapsed": false
   },
   "source": [
    "- B"
   ]
  },
  {
   "block_group": "195bfac9fa8d45479c04d709512fd956",
   "cell_type": "markdown",
   "metadata": {
    "cell_id": "017acbe8c28a4ae1873e884efd1f94cb",
    "deepnote_app_block_visible": false,
    "deepnote_cell_type": "text-cell-bullet",
    "formattedRanges": [],
    "is_collapsed": false
   },
   "source": [
    "- C"
   ]
  },
  {
   "block_group": "813c84cbabdf4356bd2eed3afa1d234b",
   "cell_type": "markdown",
   "metadata": {
    "cell_id": "b78db2976fa8441081c2b4249b2d8768",
    "deepnote_app_block_visible": false,
    "deepnote_cell_type": "text-cell-bullet",
    "formattedRanges": [],
    "is_collapsed": false
   },
   "source": [
    "- D"
   ]
  },
  {
   "block_group": "5854339e25bd4179ab7167391b34a8dd",
   "cell_type": "markdown",
   "metadata": {
    "cell_id": "d19f28342c76483a80146347e859b06b",
    "deepnote_app_block_visible": false,
    "deepnote_cell_type": "text-cell-bullet",
    "formattedRanges": [],
    "is_collapsed": false
   },
   "source": [
    "- E"
   ]
  },
  {
   "block_group": "a0a9ec9acc724da3aad4cc963fa875d9",
   "cell_type": "markdown",
   "metadata": {
    "cell_id": "a0bd78652fdd418295dc5dd9300dc4fb",
    "deepnote_app_block_visible": false,
    "deepnote_cell_type": "text-cell-bullet",
    "formattedRanges": [],
    "is_collapsed": false
   },
   "source": [
    "- F"
   ]
  },
  {
   "block_group": "960074d9b00a4ed4beff39c24f74b756",
   "cell_type": "markdown",
   "metadata": {
    "cell_id": "1be21906b76e47e9bce40419ff1b5b46",
    "deepnote_app_block_visible": false,
    "deepnote_cell_type": "text-cell-bullet",
    "formattedRanges": [],
    "is_collapsed": false
   },
   "source": [
    "- G"
   ]
  },
  {
   "block_group": "4b8d1262e7db45db89e2194c1e25a4f9",
   "cell_type": "markdown",
   "metadata": {
    "cell_id": "0262b4d357924172aed2f35d6e286be3",
    "deepnote_app_block_visible": false,
    "deepnote_cell_type": "text-cell-bullet",
    "formattedRanges": [],
    "is_collapsed": false
   },
   "source": [
    "- H"
   ]
  },
  {
   "block_group": "c697112eb48247d8bbcf98b67c958925",
   "cell_type": "markdown",
   "metadata": {
    "cell_id": "5576cfcc0ad24ebdb5ca5ca25a816320",
    "deepnote_app_block_visible": false,
    "deepnote_cell_type": "text-cell-bullet",
    "formattedRanges": [],
    "is_collapsed": false
   },
   "source": [
    "- I"
   ]
  },
  {
   "block_group": "e1adf00db7144bb7b3703cba67dc95af",
   "cell_type": "markdown",
   "metadata": {
    "cell_id": "ed76661c97464236a42d3329f62123ec",
    "deepnote_app_block_visible": false,
    "deepnote_cell_type": "text-cell-bullet",
    "formattedRanges": [],
    "is_collapsed": false
   },
   "source": [
    "- J"
   ]
  },
  {
   "block_group": "186225ca8839470bbac3534e71593518",
   "cell_type": "markdown",
   "metadata": {
    "cell_id": "35a5772ea4194f0caa2584c8f5571854",
    "deepnote_app_block_visible": false,
    "deepnote_cell_type": "text-cell-bullet",
    "formattedRanges": [],
    "is_collapsed": false
   },
   "source": [
    "- K"
   ]
  },
  {
   "block_group": "77fca50837b648428244baaaddd69ef2",
   "cell_type": "markdown",
   "metadata": {
    "cell_id": "46f8d67ab52b4cdc90f6f56bdb112319",
    "deepnote_app_block_visible": false,
    "deepnote_cell_type": "text-cell-bullet",
    "formattedRanges": [],
    "is_collapsed": false
   },
   "source": [
    "- L"
   ]
  },
  {
   "block_group": "63862c27d8b346e6b5eebe9902f5c5c9",
   "cell_type": "markdown",
   "metadata": {
    "cell_id": "00a3550684be4cd79f92ba28ec7eb8c3",
    "deepnote_app_block_visible": false,
    "deepnote_cell_type": "text-cell-bullet",
    "formattedRanges": [],
    "is_collapsed": false
   },
   "source": [
    "- M"
   ]
  },
  {
   "block_group": "c1ae45f80fd042e3bbc0101777d405b7",
   "cell_type": "markdown",
   "metadata": {
    "cell_id": "3b19036042994a309b070a450526c933",
    "deepnote_app_block_visible": false,
    "deepnote_cell_type": "text-cell-bullet",
    "formattedRanges": [],
    "is_collapsed": false
   },
   "source": [
    "- N"
   ]
  },
  {
   "block_group": "a91fe6663b7040a5b16051ce7828b7c4",
   "cell_type": "markdown",
   "metadata": {
    "cell_id": "021b8cc682dc4bdc978181c00c119e81",
    "deepnote_app_block_visible": false,
    "deepnote_cell_type": "text-cell-bullet",
    "formattedRanges": [],
    "is_collapsed": false
   },
   "source": [
    "- O"
   ]
  },
  {
   "block_group": "ee33a677c2344be1afbd7ac40bce6c71",
   "cell_type": "markdown",
   "metadata": {
    "cell_id": "12b9a37adcbb4baf947bf0f20cc9c815",
    "deepnote_app_block_visible": false,
    "deepnote_cell_type": "text-cell-bullet",
    "formattedRanges": [],
    "is_collapsed": false
   },
   "source": [
    "- P"
   ]
  },
  {
   "block_group": "bc97a1c92b2c4a54b898b68dce8c6e87",
   "cell_type": "markdown",
   "metadata": {
    "cell_id": "31fbf4462fd84e28b4c918573d5f7870",
    "deepnote_app_block_visible": false,
    "deepnote_cell_type": "text-cell-bullet",
    "formattedRanges": [],
    "is_collapsed": false
   },
   "source": [
    "- Q"
   ]
  },
  {
   "block_group": "aca46a0b69e54f72a495bb407121af81",
   "cell_type": "markdown",
   "metadata": {
    "cell_id": "db72f36648df4e7badde39997aeb030e",
    "deepnote_app_block_visible": false,
    "deepnote_cell_type": "text-cell-bullet",
    "formattedRanges": [],
    "is_collapsed": false
   },
   "source": [
    "- R"
   ]
  },
  {
   "block_group": "b9a6eedcb768464a98cd8f3ec75904cb",
   "cell_type": "markdown",
   "metadata": {
    "cell_id": "cfa6851a36fe4c22a03041360fd254f5",
    "deepnote_app_block_visible": false,
    "deepnote_cell_type": "text-cell-bullet",
    "formattedRanges": [],
    "is_collapsed": false
   },
   "source": [
    "- S"
   ]
  },
  {
   "block_group": "11a93344c84342ecb417d6b6091300a1",
   "cell_type": "markdown",
   "metadata": {
    "cell_id": "3055d731fad14a5692189a2bffb0f72f",
    "deepnote_app_block_visible": false,
    "deepnote_cell_type": "text-cell-bullet",
    "formattedRanges": [],
    "is_collapsed": false
   },
   "source": [
    "- T"
   ]
  },
  {
   "block_group": "d3305606939e4d6d9b091c6d8dc55865",
   "cell_type": "markdown",
   "metadata": {
    "cell_id": "77798a0c3d614b87bf88cbdd90d4e684",
    "deepnote_app_block_visible": false,
    "deepnote_cell_type": "text-cell-bullet",
    "formattedRanges": [],
    "is_collapsed": false
   },
   "source": [
    "- U"
   ]
  },
  {
   "block_group": "f065a926fbe645aaad201ddcdcc60a34",
   "cell_type": "markdown",
   "metadata": {
    "cell_id": "f441c74e62f545068f36fa73c8d0ff2b",
    "deepnote_app_block_visible": false,
    "deepnote_cell_type": "text-cell-bullet",
    "formattedRanges": [],
    "is_collapsed": false
   },
   "source": [
    "- V"
   ]
  },
  {
   "block_group": "eb8426f2ffb648888c66d9f7554ebaf5",
   "cell_type": "markdown",
   "metadata": {
    "cell_id": "3a964854ff7c4c25994f0ea30b051511",
    "deepnote_app_block_visible": false,
    "deepnote_cell_type": "text-cell-bullet",
    "formattedRanges": [],
    "is_collapsed": false
   },
   "source": [
    "- W"
   ]
  },
  {
   "block_group": "7778616bbcdd4ab7a67ca7db8b54cdeb",
   "cell_type": "markdown",
   "metadata": {
    "cell_id": "59cc329aefbb417d8581c342771c88d7",
    "deepnote_app_block_visible": false,
    "deepnote_cell_type": "text-cell-bullet",
    "formattedRanges": [],
    "is_collapsed": false
   },
   "source": [
    "- X"
   ]
  },
  {
   "block_group": "8f20607405f9411b896eb55b779673a1",
   "cell_type": "markdown",
   "metadata": {
    "cell_id": "7e02ed404d0742f7bce350b6f15629fe",
    "deepnote_app_block_visible": false,
    "deepnote_cell_type": "text-cell-bullet",
    "formattedRanges": [],
    "is_collapsed": false
   },
   "source": [
    "- Y"
   ]
  },
  {
   "block_group": "fca8956ba0c54ff296a54ee4dbf49192",
   "cell_type": "markdown",
   "metadata": {
    "cell_id": "16e64f16e2d54767a4175c6c00485a9e",
    "deepnote_app_block_visible": false,
    "deepnote_cell_type": "text-cell-bullet",
    "formattedRanges": [],
    "is_collapsed": false
   },
   "source": [
    "- Z"
   ]
  },
  {
   "block_group": "dd6bf3d179da4e24b3c6d0f425d149d7",
   "cell_type": "markdown",
   "metadata": {
    "cell_id": "ea29e57d9968429c923a2804a2787feb",
    "deepnote_cell_type": "text-cell-h2",
    "formattedRanges": []
   },
   "source": [
    "## Identifikasi kualitas data"
   ]
  },
  {
   "block_group": "a88f280b859e437f83ef5116c64029e5",
   "cell_type": "markdown",
   "metadata": {
    "cell_id": "9ea275bc4f08470b8130be8b7f9306a9",
    "deepnote_cell_type": "text-cell-h3",
    "formattedRanges": []
   },
   "source": [
    "### Identifikasi Outlier"
   ]
  },
  {
   "block_group": "de38cd41c8014897918a4bd7b9d39c37",
   "cell_type": "markdown",
   "metadata": {
    "cell_id": "6b92b00f9187459abe603855847ea52d",
    "deepnote_cell_type": "text-cell-p",
    "formattedRanges": []
   },
   "source": [
    "Algoritme Local Outlier Factor (LOF) adalah metode deteksi anomali tanpa pengawasan yang menghitung deviasi kepadatan lokal dari titik data tertentu terhadap titik data tetangganya. Ini menganggap sampel yang memiliki kepadatan jauh lebih rendah daripada sampel tetangganya sebagai outlier. Sebagai pedoman umum, nilai LOF (Local Outlier Factor) untuk data yang normal berada dalam rentang 1 hingga 1,5, sedangkan pengamatan yang bersifat anomali akan memiliki nilai LOF yang jauh lebih tinggi. Semakin tinggi nilai LOF, semakin besar kemungkinan data tersebut merupakan outlier. Jika sebuah titik data X memiliki LOF sebesar 5, ini berarti kepadatan rata-rata tetangganya adalah 5 kali lebih besar dibandingkan dengan kepadatan lokal dari titik X itu sendiri."
   ]
  },
  {
   "block_group": "a6769eb315ca4a0685ac68718e40d411",
   "cell_type": "code",
   "content_dependencies": {
    "codeHash": "93944b5b",
    "definedVariables": [
     "outlier_labels",
     "outliers",
     "letter_lettr",
     "lof",
     "df"
    ],
    "importedModules": [
     "LocalOutlierFactor"
    ],
    "usedVariables": [
     "df_data",
     "outlier_labels",
     "outliers",
     "letter_lettr",
     "lof",
     "LocalOutlierFactor",
     "df"
    ]
   },
   "execution_count": 6,
   "metadata": {
    "cell_id": "68b6dc5d2c684920888630efe1a01257",
    "deepnote_cell_type": "code",
    "deepnote_to_be_reexecuted": false,
    "execution_millis": 8869,
    "execution_start": 1719397032893,
    "source_hash": null
   },
   "outputs": [
    {
     "ename": "MemoryError",
     "evalue": "Unable to allocate 1.00 GiB for an array with shape (6710, 20000) and data type float64",
     "output_type": "error",
     "traceback": [
      "\u001b[1;31m---------------------------------------------------------------------------\u001b[0m",
      "\u001b[1;31mMemoryError\u001b[0m                               Traceback (most recent call last)",
      "Cell \u001b[1;32mIn[6], line 16\u001b[0m\n\u001b[0;32m     11\u001b[0m \u001b[38;5;66;03m# df_wine\u001b[39;00m\n\u001b[0;32m     12\u001b[0m \u001b[38;5;66;03m# df_wine.coloumns\u001b[39;00m\n\u001b[0;32m     13\u001b[0m \n\u001b[0;32m     14\u001b[0m \u001b[38;5;66;03m# # Inisialisasi dan fit model LOF\u001b[39;00m\n\u001b[0;32m     15\u001b[0m lof \u001b[38;5;241m=\u001b[39m LocalOutlierFactor(n_neighbors\u001b[38;5;241m=\u001b[39m\u001b[38;5;241m4\u001b[39m, contamination\u001b[38;5;241m=\u001b[39m\u001b[38;5;241m0.1\u001b[39m)  \u001b[38;5;66;03m# Set parameter LOF\u001b[39;00m\n\u001b[1;32m---> 16\u001b[0m outlier_labels \u001b[38;5;241m=\u001b[39m \u001b[43mlof\u001b[49m\u001b[38;5;241;43m.\u001b[39;49m\u001b[43mfit_predict\u001b[49m\u001b[43m(\u001b[49m\u001b[43mdf\u001b[49m\u001b[43m)\u001b[49m\n\u001b[0;32m     18\u001b[0m \u001b[38;5;66;03m# # Tambahkan label outlier dan quality k cve dataframe\u001b[39;00m\n\u001b[0;32m     19\u001b[0m df[\u001b[38;5;124m'\u001b[39m\u001b[38;5;124mOutlier\u001b[39m\u001b[38;5;124m'\u001b[39m] \u001b[38;5;241m=\u001b[39m outlier_labels\n",
      "File \u001b[1;32mC:\\laragon\\bin\\python\\python-3.10\\lib\\site-packages\\sklearn\\neighbors\\_lof.py:256\u001b[0m, in \u001b[0;36mLocalOutlierFactor.fit_predict\u001b[1;34m(self, X, y)\u001b[0m\n\u001b[0;32m    232\u001b[0m \u001b[38;5;250m\u001b[39m\u001b[38;5;124;03m\"\"\"Fit the model to the training set X and return the labels.\u001b[39;00m\n\u001b[0;32m    233\u001b[0m \n\u001b[0;32m    234\u001b[0m \u001b[38;5;124;03m**Not available for novelty detection (when novelty is set to True).**\u001b[39;00m\n\u001b[1;32m   (...)\u001b[0m\n\u001b[0;32m    250\u001b[0m \u001b[38;5;124;03m    Returns -1 for anomalies/outliers and 1 for inliers.\u001b[39;00m\n\u001b[0;32m    251\u001b[0m \u001b[38;5;124;03m\"\"\"\u001b[39;00m\n\u001b[0;32m    253\u001b[0m \u001b[38;5;66;03m# As fit_predict would be different from fit.predict, fit_predict is\u001b[39;00m\n\u001b[0;32m    254\u001b[0m \u001b[38;5;66;03m# only available for outlier detection (novelty=False)\u001b[39;00m\n\u001b[1;32m--> 256\u001b[0m \u001b[38;5;28;01mreturn\u001b[39;00m \u001b[38;5;28;43mself\u001b[39;49m\u001b[38;5;241;43m.\u001b[39;49m\u001b[43mfit\u001b[49m\u001b[43m(\u001b[49m\u001b[43mX\u001b[49m\u001b[43m)\u001b[49m\u001b[38;5;241m.\u001b[39m_predict()\n",
      "File \u001b[1;32mC:\\laragon\\bin\\python\\python-3.10\\lib\\site-packages\\sklearn\\base.py:1473\u001b[0m, in \u001b[0;36m_fit_context.<locals>.decorator.<locals>.wrapper\u001b[1;34m(estimator, *args, **kwargs)\u001b[0m\n\u001b[0;32m   1466\u001b[0m     estimator\u001b[38;5;241m.\u001b[39m_validate_params()\n\u001b[0;32m   1468\u001b[0m \u001b[38;5;28;01mwith\u001b[39;00m config_context(\n\u001b[0;32m   1469\u001b[0m     skip_parameter_validation\u001b[38;5;241m=\u001b[39m(\n\u001b[0;32m   1470\u001b[0m         prefer_skip_nested_validation \u001b[38;5;129;01mor\u001b[39;00m global_skip_validation\n\u001b[0;32m   1471\u001b[0m     )\n\u001b[0;32m   1472\u001b[0m ):\n\u001b[1;32m-> 1473\u001b[0m     \u001b[38;5;28;01mreturn\u001b[39;00m fit_method(estimator, \u001b[38;5;241m*\u001b[39margs, \u001b[38;5;241m*\u001b[39m\u001b[38;5;241m*\u001b[39mkwargs)\n",
      "File \u001b[1;32mC:\\laragon\\bin\\python\\python-3.10\\lib\\site-packages\\sklearn\\neighbors\\_lof.py:291\u001b[0m, in \u001b[0;36mLocalOutlierFactor.fit\u001b[1;34m(self, X, y)\u001b[0m\n\u001b[0;32m    283\u001b[0m     warnings\u001b[38;5;241m.\u001b[39mwarn(\n\u001b[0;32m    284\u001b[0m         \u001b[38;5;124m\"\u001b[39m\u001b[38;5;124mn_neighbors (\u001b[39m\u001b[38;5;132;01m%s\u001b[39;00m\u001b[38;5;124m) is greater than the \u001b[39m\u001b[38;5;124m\"\u001b[39m\n\u001b[0;32m    285\u001b[0m         \u001b[38;5;124m\"\u001b[39m\u001b[38;5;124mtotal number of samples (\u001b[39m\u001b[38;5;132;01m%s\u001b[39;00m\u001b[38;5;124m). n_neighbors \u001b[39m\u001b[38;5;124m\"\u001b[39m\n\u001b[0;32m    286\u001b[0m         \u001b[38;5;124m\"\u001b[39m\u001b[38;5;124mwill be set to (n_samples - 1) for estimation.\u001b[39m\u001b[38;5;124m\"\u001b[39m\n\u001b[0;32m    287\u001b[0m         \u001b[38;5;241m%\u001b[39m (\u001b[38;5;28mself\u001b[39m\u001b[38;5;241m.\u001b[39mn_neighbors, n_samples)\n\u001b[0;32m    288\u001b[0m     )\n\u001b[0;32m    289\u001b[0m \u001b[38;5;28mself\u001b[39m\u001b[38;5;241m.\u001b[39mn_neighbors_ \u001b[38;5;241m=\u001b[39m \u001b[38;5;28mmax\u001b[39m(\u001b[38;5;241m1\u001b[39m, \u001b[38;5;28mmin\u001b[39m(\u001b[38;5;28mself\u001b[39m\u001b[38;5;241m.\u001b[39mn_neighbors, n_samples \u001b[38;5;241m-\u001b[39m \u001b[38;5;241m1\u001b[39m))\n\u001b[1;32m--> 291\u001b[0m \u001b[38;5;28mself\u001b[39m\u001b[38;5;241m.\u001b[39m_distances_fit_X_, _neighbors_indices_fit_X_ \u001b[38;5;241m=\u001b[39m \u001b[38;5;28;43mself\u001b[39;49m\u001b[38;5;241;43m.\u001b[39;49m\u001b[43mkneighbors\u001b[49m\u001b[43m(\u001b[49m\n\u001b[0;32m    292\u001b[0m \u001b[43m    \u001b[49m\u001b[43mn_neighbors\u001b[49m\u001b[38;5;241;43m=\u001b[39;49m\u001b[38;5;28;43mself\u001b[39;49m\u001b[38;5;241;43m.\u001b[39;49m\u001b[43mn_neighbors_\u001b[49m\n\u001b[0;32m    293\u001b[0m \u001b[43m\u001b[49m\u001b[43m)\u001b[49m\n\u001b[0;32m    295\u001b[0m \u001b[38;5;28;01mif\u001b[39;00m \u001b[38;5;28mself\u001b[39m\u001b[38;5;241m.\u001b[39m_fit_X\u001b[38;5;241m.\u001b[39mdtype \u001b[38;5;241m==\u001b[39m np\u001b[38;5;241m.\u001b[39mfloat32:\n\u001b[0;32m    296\u001b[0m     \u001b[38;5;28mself\u001b[39m\u001b[38;5;241m.\u001b[39m_distances_fit_X_ \u001b[38;5;241m=\u001b[39m \u001b[38;5;28mself\u001b[39m\u001b[38;5;241m.\u001b[39m_distances_fit_X_\u001b[38;5;241m.\u001b[39mastype(\n\u001b[0;32m    297\u001b[0m         \u001b[38;5;28mself\u001b[39m\u001b[38;5;241m.\u001b[39m_fit_X\u001b[38;5;241m.\u001b[39mdtype,\n\u001b[0;32m    298\u001b[0m         copy\u001b[38;5;241m=\u001b[39m\u001b[38;5;28;01mFalse\u001b[39;00m,\n\u001b[0;32m    299\u001b[0m     )\n",
      "File \u001b[1;32mC:\\laragon\\bin\\python\\python-3.10\\lib\\site-packages\\sklearn\\neighbors\\_base.py:886\u001b[0m, in \u001b[0;36mKNeighborsMixin.kneighbors\u001b[1;34m(self, X, n_neighbors, return_distance)\u001b[0m\n\u001b[0;32m    883\u001b[0m     \u001b[38;5;28;01melse\u001b[39;00m:\n\u001b[0;32m    884\u001b[0m         kwds \u001b[38;5;241m=\u001b[39m \u001b[38;5;28mself\u001b[39m\u001b[38;5;241m.\u001b[39meffective_metric_params_\n\u001b[1;32m--> 886\u001b[0m     chunked_results \u001b[38;5;241m=\u001b[39m \u001b[38;5;28;43mlist\u001b[39;49m\u001b[43m(\u001b[49m\n\u001b[0;32m    887\u001b[0m \u001b[43m        \u001b[49m\u001b[43mpairwise_distances_chunked\u001b[49m\u001b[43m(\u001b[49m\n\u001b[0;32m    888\u001b[0m \u001b[43m            \u001b[49m\u001b[43mX\u001b[49m\u001b[43m,\u001b[49m\n\u001b[0;32m    889\u001b[0m \u001b[43m            \u001b[49m\u001b[38;5;28;43mself\u001b[39;49m\u001b[38;5;241;43m.\u001b[39;49m\u001b[43m_fit_X\u001b[49m\u001b[43m,\u001b[49m\n\u001b[0;32m    890\u001b[0m \u001b[43m            \u001b[49m\u001b[43mreduce_func\u001b[49m\u001b[38;5;241;43m=\u001b[39;49m\u001b[43mreduce_func\u001b[49m\u001b[43m,\u001b[49m\n\u001b[0;32m    891\u001b[0m \u001b[43m            \u001b[49m\u001b[43mmetric\u001b[49m\u001b[38;5;241;43m=\u001b[39;49m\u001b[38;5;28;43mself\u001b[39;49m\u001b[38;5;241;43m.\u001b[39;49m\u001b[43meffective_metric_\u001b[49m\u001b[43m,\u001b[49m\n\u001b[0;32m    892\u001b[0m \u001b[43m            \u001b[49m\u001b[43mn_jobs\u001b[49m\u001b[38;5;241;43m=\u001b[39;49m\u001b[43mn_jobs\u001b[49m\u001b[43m,\u001b[49m\n\u001b[0;32m    893\u001b[0m \u001b[43m            \u001b[49m\u001b[38;5;241;43m*\u001b[39;49m\u001b[38;5;241;43m*\u001b[39;49m\u001b[43mkwds\u001b[49m\u001b[43m,\u001b[49m\n\u001b[0;32m    894\u001b[0m \u001b[43m        \u001b[49m\u001b[43m)\u001b[49m\n\u001b[0;32m    895\u001b[0m \u001b[43m    \u001b[49m\u001b[43m)\u001b[49m\n\u001b[0;32m    897\u001b[0m \u001b[38;5;28;01melif\u001b[39;00m \u001b[38;5;28mself\u001b[39m\u001b[38;5;241m.\u001b[39m_fit_method \u001b[38;5;129;01min\u001b[39;00m [\u001b[38;5;124m\"\u001b[39m\u001b[38;5;124mball_tree\u001b[39m\u001b[38;5;124m\"\u001b[39m, \u001b[38;5;124m\"\u001b[39m\u001b[38;5;124mkd_tree\u001b[39m\u001b[38;5;124m\"\u001b[39m]:\n\u001b[0;32m    898\u001b[0m     \u001b[38;5;28;01mif\u001b[39;00m issparse(X):\n",
      "File \u001b[1;32mC:\\laragon\\bin\\python\\python-3.10\\lib\\site-packages\\sklearn\\metrics\\pairwise.py:2161\u001b[0m, in \u001b[0;36mpairwise_distances_chunked\u001b[1;34m(X, Y, reduce_func, metric, n_jobs, working_memory, **kwds)\u001b[0m\n\u001b[0;32m   2159\u001b[0m \u001b[38;5;28;01melse\u001b[39;00m:\n\u001b[0;32m   2160\u001b[0m     X_chunk \u001b[38;5;241m=\u001b[39m X[sl]\n\u001b[1;32m-> 2161\u001b[0m D_chunk \u001b[38;5;241m=\u001b[39m pairwise_distances(X_chunk, Y, metric\u001b[38;5;241m=\u001b[39mmetric, n_jobs\u001b[38;5;241m=\u001b[39mn_jobs, \u001b[38;5;241m*\u001b[39m\u001b[38;5;241m*\u001b[39mkwds)\n\u001b[0;32m   2162\u001b[0m \u001b[38;5;28;01mif\u001b[39;00m (X \u001b[38;5;129;01mis\u001b[39;00m Y \u001b[38;5;129;01mor\u001b[39;00m Y \u001b[38;5;129;01mis\u001b[39;00m \u001b[38;5;28;01mNone\u001b[39;00m) \u001b[38;5;129;01mand\u001b[39;00m PAIRWISE_DISTANCE_FUNCTIONS\u001b[38;5;241m.\u001b[39mget(\n\u001b[0;32m   2163\u001b[0m     metric, \u001b[38;5;28;01mNone\u001b[39;00m\n\u001b[0;32m   2164\u001b[0m ) \u001b[38;5;129;01mis\u001b[39;00m euclidean_distances:\n\u001b[0;32m   2165\u001b[0m     \u001b[38;5;66;03m# zeroing diagonal, taking care of aliases of \"euclidean\",\u001b[39;00m\n\u001b[0;32m   2166\u001b[0m     \u001b[38;5;66;03m# i.e. \"l2\"\u001b[39;00m\n\u001b[0;32m   2167\u001b[0m     D_chunk\u001b[38;5;241m.\u001b[39mflat[sl\u001b[38;5;241m.\u001b[39mstart :: _num_samples(X) \u001b[38;5;241m+\u001b[39m \u001b[38;5;241m1\u001b[39m] \u001b[38;5;241m=\u001b[39m \u001b[38;5;241m0\u001b[39m\n",
      "File \u001b[1;32mC:\\laragon\\bin\\python\\python-3.10\\lib\\site-packages\\sklearn\\utils\\_param_validation.py:213\u001b[0m, in \u001b[0;36mvalidate_params.<locals>.decorator.<locals>.wrapper\u001b[1;34m(*args, **kwargs)\u001b[0m\n\u001b[0;32m    207\u001b[0m \u001b[38;5;28;01mtry\u001b[39;00m:\n\u001b[0;32m    208\u001b[0m     \u001b[38;5;28;01mwith\u001b[39;00m config_context(\n\u001b[0;32m    209\u001b[0m         skip_parameter_validation\u001b[38;5;241m=\u001b[39m(\n\u001b[0;32m    210\u001b[0m             prefer_skip_nested_validation \u001b[38;5;129;01mor\u001b[39;00m global_skip_validation\n\u001b[0;32m    211\u001b[0m         )\n\u001b[0;32m    212\u001b[0m     ):\n\u001b[1;32m--> 213\u001b[0m         \u001b[38;5;28;01mreturn\u001b[39;00m func(\u001b[38;5;241m*\u001b[39margs, \u001b[38;5;241m*\u001b[39m\u001b[38;5;241m*\u001b[39mkwargs)\n\u001b[0;32m    214\u001b[0m \u001b[38;5;28;01mexcept\u001b[39;00m InvalidParameterError \u001b[38;5;28;01mas\u001b[39;00m e:\n\u001b[0;32m    215\u001b[0m     \u001b[38;5;66;03m# When the function is just a wrapper around an estimator, we allow\u001b[39;00m\n\u001b[0;32m    216\u001b[0m     \u001b[38;5;66;03m# the function to delegate validation to the estimator, but we replace\u001b[39;00m\n\u001b[0;32m    217\u001b[0m     \u001b[38;5;66;03m# the name of the estimator by the name of the function in the error\u001b[39;00m\n\u001b[0;32m    218\u001b[0m     \u001b[38;5;66;03m# message to avoid confusion.\u001b[39;00m\n\u001b[0;32m    219\u001b[0m     msg \u001b[38;5;241m=\u001b[39m re\u001b[38;5;241m.\u001b[39msub(\n\u001b[0;32m    220\u001b[0m         \u001b[38;5;124mr\u001b[39m\u001b[38;5;124m\"\u001b[39m\u001b[38;5;124mparameter of \u001b[39m\u001b[38;5;124m\\\u001b[39m\u001b[38;5;124mw+ must be\u001b[39m\u001b[38;5;124m\"\u001b[39m,\n\u001b[0;32m    221\u001b[0m         \u001b[38;5;124mf\u001b[39m\u001b[38;5;124m\"\u001b[39m\u001b[38;5;124mparameter of \u001b[39m\u001b[38;5;132;01m{\u001b[39;00mfunc\u001b[38;5;241m.\u001b[39m\u001b[38;5;18m__qualname__\u001b[39m\u001b[38;5;132;01m}\u001b[39;00m\u001b[38;5;124m must be\u001b[39m\u001b[38;5;124m\"\u001b[39m,\n\u001b[0;32m    222\u001b[0m         \u001b[38;5;28mstr\u001b[39m(e),\n\u001b[0;32m    223\u001b[0m     )\n",
      "File \u001b[1;32mC:\\laragon\\bin\\python\\python-3.10\\lib\\site-packages\\sklearn\\metrics\\pairwise.py:2364\u001b[0m, in \u001b[0;36mpairwise_distances\u001b[1;34m(X, Y, metric, n_jobs, force_all_finite, **kwds)\u001b[0m\n\u001b[0;32m   2361\u001b[0m         \u001b[38;5;28;01mreturn\u001b[39;00m distance\u001b[38;5;241m.\u001b[39msquareform(distance\u001b[38;5;241m.\u001b[39mpdist(X, metric\u001b[38;5;241m=\u001b[39mmetric, \u001b[38;5;241m*\u001b[39m\u001b[38;5;241m*\u001b[39mkwds))\n\u001b[0;32m   2362\u001b[0m     func \u001b[38;5;241m=\u001b[39m partial(distance\u001b[38;5;241m.\u001b[39mcdist, metric\u001b[38;5;241m=\u001b[39mmetric, \u001b[38;5;241m*\u001b[39m\u001b[38;5;241m*\u001b[39mkwds)\n\u001b[1;32m-> 2364\u001b[0m \u001b[38;5;28;01mreturn\u001b[39;00m _parallel_pairwise(X, Y, func, n_jobs, \u001b[38;5;241m*\u001b[39m\u001b[38;5;241m*\u001b[39mkwds)\n",
      "File \u001b[1;32mC:\\laragon\\bin\\python\\python-3.10\\lib\\site-packages\\sklearn\\metrics\\pairwise.py:1882\u001b[0m, in \u001b[0;36m_parallel_pairwise\u001b[1;34m(X, Y, func, n_jobs, **kwds)\u001b[0m\n\u001b[0;32m   1879\u001b[0m X, Y, dtype \u001b[38;5;241m=\u001b[39m _return_float_dtype(X, Y)\n\u001b[0;32m   1881\u001b[0m \u001b[38;5;28;01mif\u001b[39;00m effective_n_jobs(n_jobs) \u001b[38;5;241m==\u001b[39m \u001b[38;5;241m1\u001b[39m:\n\u001b[1;32m-> 1882\u001b[0m     \u001b[38;5;28;01mreturn\u001b[39;00m func(X, Y, \u001b[38;5;241m*\u001b[39m\u001b[38;5;241m*\u001b[39mkwds)\n\u001b[0;32m   1884\u001b[0m \u001b[38;5;66;03m# enforce a threading backend to prevent data communication overhead\u001b[39;00m\n\u001b[0;32m   1885\u001b[0m fd \u001b[38;5;241m=\u001b[39m delayed(_dist_wrapper)\n",
      "File \u001b[1;32mC:\\laragon\\bin\\python\\python-3.10\\lib\\site-packages\\sklearn\\utils\\_param_validation.py:186\u001b[0m, in \u001b[0;36mvalidate_params.<locals>.decorator.<locals>.wrapper\u001b[1;34m(*args, **kwargs)\u001b[0m\n\u001b[0;32m    184\u001b[0m global_skip_validation \u001b[38;5;241m=\u001b[39m get_config()[\u001b[38;5;124m\"\u001b[39m\u001b[38;5;124mskip_parameter_validation\u001b[39m\u001b[38;5;124m\"\u001b[39m]\n\u001b[0;32m    185\u001b[0m \u001b[38;5;28;01mif\u001b[39;00m global_skip_validation:\n\u001b[1;32m--> 186\u001b[0m     \u001b[38;5;28;01mreturn\u001b[39;00m func(\u001b[38;5;241m*\u001b[39margs, \u001b[38;5;241m*\u001b[39m\u001b[38;5;241m*\u001b[39mkwargs)\n\u001b[0;32m    188\u001b[0m func_sig \u001b[38;5;241m=\u001b[39m signature(func)\n\u001b[0;32m    190\u001b[0m \u001b[38;5;66;03m# Map *args/**kwargs to the function signature\u001b[39;00m\n",
      "File \u001b[1;32mC:\\laragon\\bin\\python\\python-3.10\\lib\\site-packages\\sklearn\\metrics\\pairwise.py:361\u001b[0m, in \u001b[0;36meuclidean_distances\u001b[1;34m(X, Y, Y_norm_squared, squared, X_norm_squared)\u001b[0m\n\u001b[0;32m    355\u001b[0m     \u001b[38;5;28;01mif\u001b[39;00m Y_norm_squared\u001b[38;5;241m.\u001b[39mshape \u001b[38;5;241m!=\u001b[39m (\u001b[38;5;241m1\u001b[39m, Y\u001b[38;5;241m.\u001b[39mshape[\u001b[38;5;241m0\u001b[39m]):\n\u001b[0;32m    356\u001b[0m         \u001b[38;5;28;01mraise\u001b[39;00m \u001b[38;5;167;01mValueError\u001b[39;00m(\n\u001b[0;32m    357\u001b[0m             \u001b[38;5;124mf\u001b[39m\u001b[38;5;124m\"\u001b[39m\u001b[38;5;124mIncompatible dimensions for Y of shape \u001b[39m\u001b[38;5;132;01m{\u001b[39;00mY\u001b[38;5;241m.\u001b[39mshape\u001b[38;5;132;01m}\u001b[39;00m\u001b[38;5;124m and \u001b[39m\u001b[38;5;124m\"\u001b[39m\n\u001b[0;32m    358\u001b[0m             \u001b[38;5;124mf\u001b[39m\u001b[38;5;124m\"\u001b[39m\u001b[38;5;124mY_norm_squared of shape \u001b[39m\u001b[38;5;132;01m{\u001b[39;00moriginal_shape\u001b[38;5;132;01m}\u001b[39;00m\u001b[38;5;124m.\u001b[39m\u001b[38;5;124m\"\u001b[39m\n\u001b[0;32m    359\u001b[0m         )\n\u001b[1;32m--> 361\u001b[0m \u001b[38;5;28;01mreturn\u001b[39;00m \u001b[43m_euclidean_distances\u001b[49m\u001b[43m(\u001b[49m\u001b[43mX\u001b[49m\u001b[43m,\u001b[49m\u001b[43m \u001b[49m\u001b[43mY\u001b[49m\u001b[43m,\u001b[49m\u001b[43m \u001b[49m\u001b[43mX_norm_squared\u001b[49m\u001b[43m,\u001b[49m\u001b[43m \u001b[49m\u001b[43mY_norm_squared\u001b[49m\u001b[43m,\u001b[49m\u001b[43m \u001b[49m\u001b[43msquared\u001b[49m\u001b[43m)\u001b[49m\n",
      "File \u001b[1;32mC:\\laragon\\bin\\python\\python-3.10\\lib\\site-packages\\sklearn\\metrics\\pairwise.py:396\u001b[0m, in \u001b[0;36m_euclidean_distances\u001b[1;34m(X, Y, X_norm_squared, Y_norm_squared, squared)\u001b[0m\n\u001b[0;32m    393\u001b[0m     distances \u001b[38;5;241m=\u001b[39m _euclidean_distances_upcast(X, XX, Y, YY)\n\u001b[0;32m    394\u001b[0m \u001b[38;5;28;01melse\u001b[39;00m:\n\u001b[0;32m    395\u001b[0m     \u001b[38;5;66;03m# if dtype is already float64, no need to chunk and upcast\u001b[39;00m\n\u001b[1;32m--> 396\u001b[0m     distances \u001b[38;5;241m=\u001b[39m \u001b[38;5;241;43m-\u001b[39;49m\u001b[38;5;241;43m2\u001b[39;49m\u001b[43m \u001b[49m\u001b[38;5;241;43m*\u001b[39;49m\u001b[43m \u001b[49m\u001b[43msafe_sparse_dot\u001b[49m\u001b[43m(\u001b[49m\u001b[43mX\u001b[49m\u001b[43m,\u001b[49m\u001b[43m \u001b[49m\u001b[43mY\u001b[49m\u001b[38;5;241;43m.\u001b[39;49m\u001b[43mT\u001b[49m\u001b[43m,\u001b[49m\u001b[43m \u001b[49m\u001b[43mdense_output\u001b[49m\u001b[38;5;241;43m=\u001b[39;49m\u001b[38;5;28;43;01mTrue\u001b[39;49;00m\u001b[43m)\u001b[49m\n\u001b[0;32m    397\u001b[0m     distances \u001b[38;5;241m+\u001b[39m\u001b[38;5;241m=\u001b[39m XX\n\u001b[0;32m    398\u001b[0m     distances \u001b[38;5;241m+\u001b[39m\u001b[38;5;241m=\u001b[39m YY\n",
      "\u001b[1;31mMemoryError\u001b[0m: Unable to allocate 1.00 GiB for an array with shape (6710, 20000) and data type float64"
     ]
    }
   ],
   "outputs_reference": "s3:deepnote-cell-outputs-production/95951f0e-a392-4523-9759-bcefffd65c4c",
   "source": [
    "from sklearn.neighbors import LocalOutlierFactor\n",
    "\n",
    "df = df_data\n",
    "# df\n",
    "\n",
    "# simpan quality\n",
    "letter_lettr = df[['lettr']]\n",
    "\n",
    "# #hapus kolom yang tidak diperlukan\n",
    "df = df.drop(['lettr'], axis=1)\n",
    "# df_wine\n",
    "# df_wine.coloumns\n",
    "\n",
    "# # Inisialisasi dan fit model LOF\n",
    "lof = LocalOutlierFactor(n_neighbors=4, contamination=0.1)  # Set parameter LOF\n",
    "outlier_labels = lof.fit_predict(df)\n",
    "\n",
    "# # Tambahkan label outlier dan quality k cve dataframe\n",
    "df['Outlier'] = outlier_labels\n",
    "df['lettr'] = letter_lettr\n",
    "# df_cleaned = df_wine[df_wine['Outlier'] != -1]\n",
    "\n",
    "# Menampilkan outlier\n",
    "outliers = df[df['Outlier'] == -1]\n",
    "print(f\"Jumlah outlier yang terdeteksi: {len(outliers)}\")\n",
    "print(outliers)\n",
    "\n",
    "# df_cleaned\n",
    "df\n",
    "# print(df_cleaned[['quality','LOF_Score']])"
   ]
  },
  {
   "block_group": "e07455b363f14878b9606661e4bf0dbb",
   "cell_type": "markdown",
   "metadata": {
    "cell_id": "2b3fe634943f489cbb9061b29399703c",
    "deepnote_cell_type": "text-cell-p",
    "formattedRanges": []
   },
   "source": [
    "Penjelasan Code:"
   ]
  },
  {
   "block_group": "3bee7510dc08470e907fbcd5fc447999",
   "cell_type": "markdown",
   "metadata": {
    "cell_id": "a724546328454b73bed1cdca71abcfed",
    "deepnote_cell_type": "text-cell-p",
    "formattedRanges": []
   },
   "source": [
    "Pada kode di atas, untuk menentukan apakah setiap dataset memiliki data anomali, saya akan menghitung setiap fiturnya. Sebelum melakukan perhitungan, saya simpan terlebih dahulu class atau lettr yang ada ke dalam variabel baru. Setelah itu, hapus kolom  dari dataframe. Lalu, kita lakukan perhitungan Local Outlier Factor (LOF) menggunakan library sklearn's Local Outlier Factor. Setelah mendapatkan nilai outlier dari setiap fitur, tampilkan hasilnya dan gabungkan ke dalam dataframe. Dari hasil perhitungan tersebut, kita dapat melihat bahwa dataframe memiliki outlier yang ditandai dengan nilai -1."
   ]
  },
  {
   "block_group": "5a7e47b3740b4b46b31f0bd77d3c4d63",
   "cell_type": "markdown",
   "metadata": {
    "cell_id": "2b6a70153bad47a1b378395d140d8886",
    "deepnote_cell_type": "text-cell-h3",
    "formattedRanges": []
   },
   "source": [
    "### Cek Missing Values"
   ]
  },
  {
   "block_group": "cbb1963bfbd143d8b663c224b3097289",
   "cell_type": "markdown",
   "metadata": {
    "cell_id": "3e37a239486a4c9184ce64304f4af920",
    "deepnote_cell_type": "text-cell-p",
    "formattedRanges": []
   },
   "source": [
    "Disini akan dilakukan pengecekan apakah dataset yang digunakan memiliki missing value atau tidak, untuk mengetahuinya bisa menggunakan code dibawah ini:"
   ]
  },
  {
   "block_group": "b8c8227df34f408b87d72bb543a65215",
   "cell_type": "code",
   "content_dependencies": {
    "codeHash": "13fa9547",
    "definedVariables": [
     "df_data"
    ],
    "importedModules": [],
    "usedVariables": [
     "df",
     "df_data"
    ]
   },
   "execution_count": null,
   "metadata": {
    "cell_id": "8950a18633504282828988c7c6350d2d",
    "deepnote_cell_type": "code",
    "deepnote_to_be_reexecuted": false,
    "execution_millis": 323,
    "execution_start": 1719397041774,
    "source_hash": null
   },
   "outputs": [
    {
     "data": {
      "text/plain": [
       "x-box      0\n",
       "y-box      0\n",
       "width      0\n",
       "high       0\n",
       "onpix      0\n",
       "x-bar      0\n",
       "y-bar      0\n",
       "x2bar      0\n",
       "y2bar      0\n",
       "xybar      0\n",
       "x2ybr      0\n",
       "xy2br      0\n",
       "x-ege      0\n",
       "xegvy      0\n",
       "y-ege      0\n",
       "yegvx      0\n",
       "Outlier    0\n",
       "lettr      0\n",
       "dtype: int64"
      ]
     },
     "execution_count": 7,
     "metadata": {},
     "output_type": "execute_result"
    }
   ],
   "outputs_reference": "dbtable:cell_outputs/a4652064-9fb9-447b-ac33-0a9047479dcd",
   "source": [
    "df_data = df.isnull().sum()\n",
    "df_data"
   ]
  },
  {
   "block_group": "829cad79ed2f4897b12303c4cd9929b5",
   "cell_type": "markdown",
   "metadata": {
    "cell_id": "670e546aace84b9b815e1d6b77f153bd",
    "deepnote_cell_type": "text-cell-p",
    "formattedRanges": []
   },
   "source": [
    "Dari kode di atas, dapat mengetahui bahwa dataset yang digunakan tidak memiliki missing value. "
   ]
  },
  {
   "block_group": "7ff74200d74a4c348f89edd5b61f8874",
   "cell_type": "markdown",
   "metadata": {
    "cell_id": "9c3cece26b20457db7712dd4bc5e417d",
    "deepnote_cell_type": "text-cell-h1",
    "formattedRanges": []
   },
   "source": [
    "# PRE PROCESSING DATA"
   ]
  },
  {
   "block_group": "c142cf2832094c6496882929fd616d81",
   "cell_type": "markdown",
   "metadata": {
    "cell_id": "eadc750e4e7c48e88c976b81888b4393",
    "deepnote_cell_type": "text-cell-p",
    "formattedRanges": []
   },
   "source": [
    "Data preprocessing adalah bagian dari persiapan data, yang mencakup berbagai jenis pemrosesan yang dilakukan pada data mentah agar siap untuk analisis lanjutan, seperti visualisasi data dan pembentukan model. Preprocessing data bertujuan untuk mengubah data menjadi format yang lebih mudah dan efektif digunakan. Proses ini merupakan langkah awal yang penting dalam data mining. Selain itu, teknik data preprocessing juga digunakan untuk melatih model machine learning. Berikut adalah tahapan pra-pemrosesan data yang dilakukan pada dataset  yang saya miliki:"
   ]
  },
  {
   "block_group": "71497412f5954efd9138bd68b206fcd3",
   "cell_type": "markdown",
   "metadata": {
    "cell_id": "c4743c56be6d492899acc410c01231cd",
    "deepnote_cell_type": "text-cell-p",
    "formattedRanges": []
   },
   "source": [
    "1. Pembersihan Data (Data Cleaning):  Tahap pertama yang perlu dilakukan ketika akan preprocessing data adalah data cleaning atau membersihkan data. Artinya, data mentah yang telah diperoleh perlu diseleksi kembali. Kemudian, hapus atau hilangkan data-data yang tidak lengkap, tidak relevan, dan tidak akurat. "
   ]
  },
  {
   "block_group": "e51404e1e3ab4173bdfc86833b934c5d",
   "cell_type": "markdown",
   "metadata": {
    "cell_id": "8ae0d4adfefa4df88bf54eb7543d3b44",
    "deepnote_cell_type": "text-cell-p",
    "formattedRanges": []
   },
   "source": [
    "2. Penggabungan Data (Data Integration): Integrasi data adalah tahapan dalam preprocessing data yang bertujuan untuk mengumpulkan data dari berbagai sumber dan menggabungkannya menjadi satu penyimpanan data yang lebih besar, seperti data warehouse."
   ]
  },
  {
   "block_group": "9a0f4a4a827745af8e73ddbc19fed496",
   "cell_type": "markdown",
   "metadata": {
    "cell_id": "bdf3a39235ca44ba8a7ff5e833d0cece",
    "deepnote_cell_type": "text-cell-h2",
    "formattedRanges": []
   },
   "source": [
    "## Penanganan Outlier Dengan Menghapus Outlier "
   ]
  },
  {
   "block_group": "3bcda221d4624dbea64115023a373dad",
   "cell_type": "markdown",
   "metadata": {
    "cell_id": "b7a2882b621942f7a981a5774959f85b",
    "deepnote_cell_type": "text-cell-p",
    "formattedRanges": []
   },
   "source": [
    "Untuk menangani data anomali, kita dapat menghapus data yang memiliki nilai outlier atau nilai anomali. Dalam dataframe di atas, diketahui bahwa data anomali memiliki nilai -1, sehingga kita akan menghapus baris-baris yang berisi data outlier tersebut. Berikut adalah hasil setelah penghapusan data anomali:"
   ]
  },
  {
   "block_group": "cf919586ca914af9bc5d906daad97874",
   "cell_type": "code",
   "content_dependencies": {
    "codeHash": "516f18cb",
    "definedVariables": [],
    "importedModules": [],
    "usedVariables": [
     "df"
    ]
   },
   "execution_count": null,
   "metadata": {
    "cell_id": "46de568b681b43f8bcf1415ab841658b",
    "deepnote_cell_type": "code",
    "deepnote_to_be_reexecuted": false,
    "execution_millis": 310,
    "execution_start": 1719397041787,
    "source_hash": null
   },
   "outputs": [
    {
     "data": {
      "application/vnd.deepnote.dataframe.v3+json": {
       "column_count": 18,
       "columns": [
        {
         "dtype": "int64",
         "name": "x-box",
         "stats": {
          "histogram": [
           {
            "bin_end": 1.4,
            "bin_start": 0,
            "count": 244
           },
           {
            "bin_end": 2.8,
            "bin_start": 1.4,
            "count": 424
           },
           {
            "bin_end": 4.199999999999999,
            "bin_start": 2.8,
            "count": 784
           },
           {
            "bin_end": 5.6,
            "bin_start": 4.199999999999999,
            "count": 246
           },
           {
            "bin_end": 7,
            "bin_start": 5.6,
            "count": 138
           },
           {
            "bin_end": 8.399999999999999,
            "bin_start": 7,
            "count": 126
           },
           {
            "bin_end": 9.799999999999999,
            "bin_start": 8.399999999999999,
            "count": 19
           },
           {
            "bin_end": 11.2,
            "bin_start": 9.799999999999999,
            "count": 17
           },
           {
            "bin_end": 12.6,
            "bin_start": 11.2,
            "count": 0
           },
           {
            "bin_end": 14,
            "bin_start": 12.6,
            "count": 2
           }
          ],
          "max": "14",
          "min": "0",
          "nan_count": 0,
          "unique_count": 14
         }
        },
        {
         "dtype": "int64",
         "name": "y-box",
         "stats": {
          "histogram": [
           {
            "bin_end": 1.5,
            "bin_start": 0,
            "count": 244
           },
           {
            "bin_end": 3,
            "bin_start": 1.5,
            "count": 70
           },
           {
            "bin_end": 4.5,
            "bin_start": 3,
            "count": 356
           },
           {
            "bin_end": 6,
            "bin_start": 4.5,
            "count": 181
           },
           {
            "bin_end": 7.5,
            "bin_start": 6,
            "count": 405
           },
           {
            "bin_end": 9,
            "bin_start": 7.5,
            "count": 144
           },
           {
            "bin_end": 10.5,
            "bin_start": 9,
            "count": 370
           },
           {
            "bin_end": 12,
            "bin_start": 10.5,
            "count": 164
           },
           {
            "bin_end": 13.5,
            "bin_start": 12,
            "count": 28
           },
           {
            "bin_end": 15,
            "bin_start": 13.5,
            "count": 38
           }
          ],
          "max": "15",
          "min": "0",
          "nan_count": 0,
          "unique_count": 16
         }
        },
        {
         "dtype": "int64",
         "name": "width",
         "stats": {
          "histogram": [
           {
            "bin_end": 1.4,
            "bin_start": 0,
            "count": 99
           },
           {
            "bin_end": 2.8,
            "bin_start": 1.4,
            "count": 227
           },
           {
            "bin_end": 4.199999999999999,
            "bin_start": 2.8,
            "count": 702
           },
           {
            "bin_end": 5.6,
            "bin_start": 4.199999999999999,
            "count": 338
           },
           {
            "bin_end": 7,
            "bin_start": 5.6,
            "count": 284
           },
           {
            "bin_end": 8.399999999999999,
            "bin_start": 7,
            "count": 244
           },
           {
            "bin_end": 9.799999999999999,
            "bin_start": 8.399999999999999,
            "count": 58
           },
           {
            "bin_end": 11.2,
            "bin_start": 9.799999999999999,
            "count": 41
           },
           {
            "bin_end": 12.6,
            "bin_start": 11.2,
            "count": 3
           },
           {
            "bin_end": 14,
            "bin_start": 12.6,
            "count": 4
           }
          ],
          "max": "14",
          "min": "0",
          "nan_count": 0,
          "unique_count": 15
         }
        },
        {
         "dtype": "int64",
         "name": "high",
         "stats": {
          "histogram": [
           {
            "bin_end": 1.5,
            "bin_start": 0,
            "count": 214
           },
           {
            "bin_end": 3,
            "bin_start": 1.5,
            "count": 178
           },
           {
            "bin_end": 4.5,
            "bin_start": 3,
            "count": 595
           },
           {
            "bin_end": 6,
            "bin_start": 4.5,
            "count": 205
           },
           {
            "bin_end": 7.5,
            "bin_start": 6,
            "count": 417
           },
           {
            "bin_end": 9,
            "bin_start": 7.5,
            "count": 322
           },
           {
            "bin_end": 10.5,
            "bin_start": 9,
            "count": 50
           },
           {
            "bin_end": 12,
            "bin_start": 10.5,
            "count": 9
           },
           {
            "bin_end": 13.5,
            "bin_start": 12,
            "count": 7
           },
           {
            "bin_end": 15,
            "bin_start": 13.5,
            "count": 3
           }
          ],
          "max": "15",
          "min": "0",
          "nan_count": 0,
          "unique_count": 15
         }
        },
        {
         "dtype": "int64",
         "name": "onpix",
         "stats": {
          "histogram": [
           {
            "bin_end": 1.5,
            "bin_start": 0,
            "count": 517
           },
           {
            "bin_end": 3,
            "bin_start": 1.5,
            "count": 460
           },
           {
            "bin_end": 4.5,
            "bin_start": 3,
            "count": 606
           },
           {
            "bin_end": 6,
            "bin_start": 4.5,
            "count": 163
           },
           {
            "bin_end": 7.5,
            "bin_start": 6,
            "count": 148
           },
           {
            "bin_end": 9,
            "bin_start": 7.5,
            "count": 38
           },
           {
            "bin_end": 10.5,
            "bin_start": 9,
            "count": 48
           },
           {
            "bin_end": 12,
            "bin_start": 10.5,
            "count": 8
           },
           {
            "bin_end": 13.5,
            "bin_start": 12,
            "count": 9
           },
           {
            "bin_end": 15,
            "bin_start": 13.5,
            "count": 3
           }
          ],
          "max": "15",
          "min": "0",
          "nan_count": 0,
          "unique_count": 16
         }
        },
        {
         "dtype": "int64",
         "name": "x-bar",
         "stats": {
          "histogram": [
           {
            "bin_end": 1.5,
            "bin_start": 0,
            "count": 23
           },
           {
            "bin_end": 3,
            "bin_start": 1.5,
            "count": 19
           },
           {
            "bin_end": 4.5,
            "bin_start": 3,
            "count": 149
           },
           {
            "bin_end": 6,
            "bin_start": 4.5,
            "count": 194
           },
           {
            "bin_end": 7.5,
            "bin_start": 6,
            "count": 921
           },
           {
            "bin_end": 9,
            "bin_start": 7.5,
            "count": 398
           },
           {
            "bin_end": 10.5,
            "bin_start": 9,
            "count": 247
           },
           {
            "bin_end": 12,
            "bin_start": 10.5,
            "count": 22
           },
           {
            "bin_end": 13.5,
            "bin_start": 12,
            "count": 24
           },
           {
            "bin_end": 15,
            "bin_start": 13.5,
            "count": 3
           }
          ],
          "max": "15",
          "min": "0",
          "nan_count": 0,
          "unique_count": 15
         }
        },
        {
         "dtype": "int64",
         "name": "y-bar",
         "stats": {
          "histogram": [
           {
            "bin_end": 1.5,
            "bin_start": 0,
            "count": 26
           },
           {
            "bin_end": 3,
            "bin_start": 1.5,
            "count": 36
           },
           {
            "bin_end": 4.5,
            "bin_start": 3,
            "count": 116
           },
           {
            "bin_end": 6,
            "bin_start": 4.5,
            "count": 85
           },
           {
            "bin_end": 7.5,
            "bin_start": 6,
            "count": 848
           },
           {
            "bin_end": 9,
            "bin_start": 7.5,
            "count": 335
           },
           {
            "bin_end": 10.5,
            "bin_start": 9,
            "count": 319
           },
           {
            "bin_end": 12,
            "bin_start": 10.5,
            "count": 104
           },
           {
            "bin_end": 13.5,
            "bin_start": 12,
            "count": 94
           },
           {
            "bin_end": 15,
            "bin_start": 13.5,
            "count": 37
           }
          ],
          "max": "15",
          "min": "0",
          "nan_count": 0,
          "unique_count": 16
         }
        },
        {
         "dtype": "int64",
         "name": "x2bar",
         "stats": {
          "histogram": [
           {
            "bin_end": 1.5,
            "bin_start": 0,
            "count": 216
           },
           {
            "bin_end": 3,
            "bin_start": 1.5,
            "count": 231
           },
           {
            "bin_end": 4.5,
            "bin_start": 3,
            "count": 605
           },
           {
            "bin_end": 6,
            "bin_start": 4.5,
            "count": 308
           },
           {
            "bin_end": 7.5,
            "bin_start": 6,
            "count": 362
           },
           {
            "bin_end": 9,
            "bin_start": 7.5,
            "count": 102
           },
           {
            "bin_end": 10.5,
            "bin_start": 9,
            "count": 85
           },
           {
            "bin_end": 12,
            "bin_start": 10.5,
            "count": 21
           },
           {
            "bin_end": 13.5,
            "bin_start": 12,
            "count": 44
           },
           {
            "bin_end": 15,
            "bin_start": 13.5,
            "count": 26
           }
          ],
          "max": "15",
          "min": "0",
          "nan_count": 0,
          "unique_count": 16
         }
        },
        {
         "dtype": "int64",
         "name": "y2bar",
         "stats": {
          "histogram": [
           {
            "bin_end": 1.5,
            "bin_start": 0,
            "count": 148
           },
           {
            "bin_end": 3,
            "bin_start": 1.5,
            "count": 175
           },
           {
            "bin_end": 4.5,
            "bin_start": 3,
            "count": 443
           },
           {
            "bin_end": 6,
            "bin_start": 4.5,
            "count": 291
           },
           {
            "bin_end": 7.5,
            "bin_start": 6,
            "count": 577
           },
           {
            "bin_end": 9,
            "bin_start": 7.5,
            "count": 173
           },
           {
            "bin_end": 10.5,
            "bin_start": 9,
            "count": 160
           },
           {
            "bin_end": 12,
            "bin_start": 10.5,
            "count": 11
           },
           {
            "bin_end": 13.5,
            "bin_start": 12,
            "count": 17
           },
           {
            "bin_end": 15,
            "bin_start": 13.5,
            "count": 5
           }
          ],
          "max": "15",
          "min": "0",
          "nan_count": 0,
          "unique_count": 15
         }
        },
        {
         "dtype": "int64",
         "name": "xybar",
         "stats": {
          "histogram": [
           {
            "bin_end": 1.5,
            "bin_start": 0,
            "count": 27
           },
           {
            "bin_end": 3,
            "bin_start": 1.5,
            "count": 2
           },
           {
            "bin_end": 4.5,
            "bin_start": 3,
            "count": 54
           },
           {
            "bin_end": 6,
            "bin_start": 4.5,
            "count": 118
           },
           {
            "bin_end": 7.5,
            "bin_start": 6,
            "count": 860
           },
           {
            "bin_end": 9,
            "bin_start": 7.5,
            "count": 202
           },
           {
            "bin_end": 10.5,
            "bin_start": 9,
            "count": 398
           },
           {
            "bin_end": 12,
            "bin_start": 10.5,
            "count": 142
           },
           {
            "bin_end": 13.5,
            "bin_start": 12,
            "count": 160
           },
           {
            "bin_end": 15,
            "bin_start": 13.5,
            "count": 37
           }
          ],
          "max": "15",
          "min": "0",
          "nan_count": 0,
          "unique_count": 16
         }
        },
        {
         "dtype": "int64",
         "name": "x2ybr",
         "stats": {
          "histogram": [
           {
            "bin_end": 1.5,
            "bin_start": 0,
            "count": 53
           },
           {
            "bin_end": 3,
            "bin_start": 1.5,
            "count": 97
           },
           {
            "bin_end": 4.5,
            "bin_start": 3,
            "count": 183
           },
           {
            "bin_end": 6,
            "bin_start": 4.5,
            "count": 230
           },
           {
            "bin_end": 7.5,
            "bin_start": 6,
            "count": 836
           },
           {
            "bin_end": 9,
            "bin_start": 7.5,
            "count": 188
           },
           {
            "bin_end": 10.5,
            "bin_start": 9,
            "count": 215
           },
           {
            "bin_end": 12,
            "bin_start": 10.5,
            "count": 99
           },
           {
            "bin_end": 13.5,
            "bin_start": 12,
            "count": 78
           },
           {
            "bin_end": 15,
            "bin_start": 13.5,
            "count": 21
           }
          ],
          "max": "15",
          "min": "0",
          "nan_count": 0,
          "unique_count": 16
         }
        },
        {
         "dtype": "int64",
         "name": "xy2br",
         "stats": {
          "histogram": [
           {
            "bin_end": 1.5,
            "bin_start": 0,
            "count": 1
           },
           {
            "bin_end": 3,
            "bin_start": 1.5,
            "count": 9
           },
           {
            "bin_end": 4.5,
            "bin_start": 3,
            "count": 94
           },
           {
            "bin_end": 6,
            "bin_start": 4.5,
            "count": 130
           },
           {
            "bin_end": 7.5,
            "bin_start": 6,
            "count": 454
           },
           {
            "bin_end": 9,
            "bin_start": 7.5,
            "count": 678
           },
           {
            "bin_end": 10.5,
            "bin_start": 9,
            "count": 467
           },
           {
            "bin_end": 12,
            "bin_start": 10.5,
            "count": 72
           },
           {
            "bin_end": 13.5,
            "bin_start": 12,
            "count": 55
           },
           {
            "bin_end": 15,
            "bin_start": 13.5,
            "count": 40
           }
          ],
          "max": "15",
          "min": "0",
          "nan_count": 0,
          "unique_count": 15
         }
        },
        {
         "dtype": "int64",
         "name": "x-ege",
         "stats": {
          "histogram": [
           {
            "bin_end": 1.5,
            "bin_start": 0,
            "count": 583
           },
           {
            "bin_end": 3,
            "bin_start": 1.5,
            "count": 418
           },
           {
            "bin_end": 4.5,
            "bin_start": 3,
            "count": 611
           },
           {
            "bin_end": 6,
            "bin_start": 4.5,
            "count": 130
           },
           {
            "bin_end": 7.5,
            "bin_start": 6,
            "count": 141
           },
           {
            "bin_end": 9,
            "bin_start": 7.5,
            "count": 52
           },
           {
            "bin_end": 10.5,
            "bin_start": 9,
            "count": 46
           },
           {
            "bin_end": 12,
            "bin_start": 10.5,
            "count": 9
           },
           {
            "bin_end": 13.5,
            "bin_start": 12,
            "count": 7
           },
           {
            "bin_end": 15,
            "bin_start": 13.5,
            "count": 3
           }
          ],
          "max": "15",
          "min": "0",
          "nan_count": 0,
          "unique_count": 15
         }
        },
        {
         "dtype": "int64",
         "name": "xegvy",
         "stats": {
          "histogram": [
           {
            "bin_end": 2.3,
            "bin_start": 1,
            "count": 2
           },
           {
            "bin_end": 3.6,
            "bin_start": 2.3,
            "count": 4
           },
           {
            "bin_end": 4.9,
            "bin_start": 3.6,
            "count": 15
           },
           {
            "bin_end": 6.2,
            "bin_start": 4.9,
            "count": 206
           },
           {
            "bin_end": 7.5,
            "bin_start": 6.2,
            "count": 235
           },
           {
            "bin_end": 8.8,
            "bin_start": 7.5,
            "count": 785
           },
           {
            "bin_end": 10.1,
            "bin_start": 8.8,
            "count": 550
           },
           {
            "bin_end": 11.4,
            "bin_start": 10.1,
            "count": 151
           },
           {
            "bin_end": 12.700000000000001,
            "bin_start": 11.4,
            "count": 29
           },
           {
            "bin_end": 14,
            "bin_start": 12.700000000000001,
            "count": 23
           }
          ],
          "max": "14",
          "min": "1",
          "nan_count": 0,
          "unique_count": 14
         }
        },
        {
         "dtype": "int64",
         "name": "y-ege",
         "stats": {
          "histogram": [
           {
            "bin_end": 1.3,
            "bin_start": 0,
            "count": 513
           },
           {
            "bin_end": 2.6,
            "bin_start": 1.3,
            "count": 246
           },
           {
            "bin_end": 3.9000000000000004,
            "bin_start": 2.6,
            "count": 314
           },
           {
            "bin_end": 5.2,
            "bin_start": 3.9000000000000004,
            "count": 490
           },
           {
            "bin_end": 6.5,
            "bin_start": 5.2,
            "count": 136
           },
           {
            "bin_end": 7.800000000000001,
            "bin_start": 6.5,
            "count": 119
           },
           {
            "bin_end": 9.1,
            "bin_start": 7.800000000000001,
            "count": 141
           },
           {
            "bin_end": 10.4,
            "bin_start": 9.1,
            "count": 23
           },
           {
            "bin_end": 11.700000000000001,
            "bin_start": 10.4,
            "count": 14
           },
           {
            "bin_end": 13,
            "bin_start": 11.700000000000001,
            "count": 4
           }
          ],
          "max": "13",
          "min": "0",
          "nan_count": 0,
          "unique_count": 14
         }
        },
        {
         "dtype": "int64",
         "name": "yegvx",
         "stats": {
          "histogram": [
           {
            "bin_end": 1.5,
            "bin_start": 0,
            "count": 2
           },
           {
            "bin_end": 3,
            "bin_start": 1.5,
            "count": 8
           },
           {
            "bin_end": 4.5,
            "bin_start": 3,
            "count": 63
           },
           {
            "bin_end": 6,
            "bin_start": 4.5,
            "count": 107
           },
           {
            "bin_end": 7.5,
            "bin_start": 6,
            "count": 474
           },
           {
            "bin_end": 9,
            "bin_start": 7.5,
            "count": 909
           },
           {
            "bin_end": 10.5,
            "bin_start": 9,
            "count": 359
           },
           {
            "bin_end": 12,
            "bin_start": 10.5,
            "count": 56
           },
           {
            "bin_end": 13.5,
            "bin_start": 12,
            "count": 18
           },
           {
            "bin_end": 15,
            "bin_start": 13.5,
            "count": 4
           }
          ],
          "max": "15",
          "min": "0",
          "nan_count": 0,
          "unique_count": 16
         }
        },
        {
         "dtype": "int64",
         "name": "Outlier",
         "stats": {
          "histogram": [
           {
            "bin_end": -1.4,
            "bin_start": -1.5,
            "count": 0
           },
           {
            "bin_end": -1.3,
            "bin_start": -1.4,
            "count": 0
           },
           {
            "bin_end": -1.2,
            "bin_start": -1.3,
            "count": 0
           },
           {
            "bin_end": -1.1,
            "bin_start": -1.2,
            "count": 0
           },
           {
            "bin_end": -1,
            "bin_start": -1.1,
            "count": 0
           },
           {
            "bin_end": -0.8999999999999999,
            "bin_start": -1,
            "count": 2000
           },
           {
            "bin_end": -0.7999999999999999,
            "bin_start": -0.8999999999999999,
            "count": 0
           },
           {
            "bin_end": -0.7,
            "bin_start": -0.7999999999999999,
            "count": 0
           },
           {
            "bin_end": -0.6,
            "bin_start": -0.7,
            "count": 0
           },
           {
            "bin_end": -0.5,
            "bin_start": -0.6,
            "count": 0
           }
          ],
          "max": "-1",
          "min": "-1",
          "nan_count": 0,
          "unique_count": 1
         }
        },
        {
         "dtype": "object",
         "name": "lettr",
         "stats": {
          "categories": [
           {
            "count": 122,
            "name": "I"
           },
           {
            "count": 109,
            "name": "X"
           },
           {
            "count": 1769,
            "name": "24 others"
           }
          ],
          "nan_count": 0,
          "unique_count": 26
         }
        },
        {
         "dtype": "int64",
         "name": "_deepnote_index_column"
        }
       ],
       "row_count": 2000,
       "rows": [
        {
         "Outlier": -1,
         "_deepnote_index_column": 4,
         "high": 1,
         "lettr": "G",
         "onpix": 1,
         "width": 3,
         "x-bar": 8,
         "x-box": 2,
         "x-ege": 1,
         "x2bar": 6,
         "x2ybr": 5,
         "xegvy": 7,
         "xy2br": 9,
         "xybar": 6,
         "y-bar": 6,
         "y-box": 1,
         "y-ege": 5,
         "y2bar": 6,
         "yegvx": 10
        },
        {
         "Outlier": -1,
         "_deepnote_index_column": 25,
         "high": 8,
         "lettr": "C",
         "onpix": 3,
         "width": 7,
         "x-bar": 7,
         "x-box": 6,
         "x-ege": 1,
         "x2bar": 7,
         "x2ybr": 7,
         "xegvy": 7,
         "xy2br": 14,
         "xybar": 4,
         "y-bar": 8,
         "y-box": 11,
         "y-ege": 4,
         "y2bar": 11,
         "yegvx": 8
        },
        {
         "Outlier": -1,
         "_deepnote_index_column": 30,
         "high": 4,
         "lettr": "L",
         "onpix": 1,
         "width": 3,
         "x-bar": 0,
         "x-box": 2,
         "x-ege": 0,
         "x2bar": 5,
         "x2ybr": 0,
         "xegvy": 8,
         "xy2br": 6,
         "xybar": 0,
         "y-bar": 1,
         "y-box": 3,
         "y-ege": 0,
         "y2bar": 6,
         "yegvx": 8
        },
        {
         "Outlier": -1,
         "_deepnote_index_column": 33,
         "high": 7,
         "lettr": "B",
         "onpix": 10,
         "width": 7,
         "x-bar": 9,
         "x-box": 5,
         "x-ege": 6,
         "x2bar": 4,
         "x2ybr": 8,
         "xegvy": 11,
         "xy2br": 6,
         "xybar": 6,
         "y-bar": 8,
         "y-box": 9,
         "y-ege": 8,
         "y2bar": 4,
         "yegvx": 7
        },
        {
         "Outlier": -1,
         "_deepnote_index_column": 45,
         "high": 7,
         "lettr": "X",
         "onpix": 5,
         "width": 5,
         "x-bar": 8,
         "x-box": 4,
         "x-ege": 3,
         "x2bar": 3,
         "x2ybr": 6,
         "xegvy": 8,
         "xy2br": 6,
         "xybar": 5,
         "y-bar": 7,
         "y-box": 10,
         "y-ege": 6,
         "y2bar": 8,
         "yegvx": 8
        },
        {
         "Outlier": -1,
         "_deepnote_index_column": 57,
         "high": 4,
         "lettr": "D",
         "onpix": 2,
         "width": 3,
         "x-bar": 6,
         "x-box": 2,
         "x-ege": 3,
         "x2bar": 10,
         "x2ybr": 6,
         "xegvy": 8,
         "xy2br": 6,
         "xybar": 6,
         "y-bar": 7,
         "y-box": 6,
         "y-ege": 3,
         "y2bar": 8,
         "yegvx": 8
        },
        {
         "Outlier": -1,
         "_deepnote_index_column": 64,
         "high": 1,
         "lettr": "H",
         "onpix": 2,
         "width": 4,
         "x-bar": 8,
         "x-box": 3,
         "x-ege": 5,
         "x2bar": 5,
         "x2ybr": 6,
         "xegvy": 8,
         "xy2br": 8,
         "xybar": 7,
         "y-bar": 7,
         "y-box": 3,
         "y-ege": 3,
         "y2bar": 6,
         "yegvx": 7
        },
        {
         "Outlier": -1,
         "_deepnote_index_column": 65,
         "high": 4,
         "lettr": "L",
         "onpix": 1,
         "width": 2,
         "x-bar": 0,
         "x-box": 2,
         "x-ege": 0,
         "x2bar": 5,
         "x2ybr": 0,
         "xegvy": 8,
         "xy2br": 6,
         "xybar": 0,
         "y-bar": 1,
         "y-box": 3,
         "y-ege": 0,
         "y2bar": 6,
         "yegvx": 8
        },
        {
         "Outlier": -1,
         "_deepnote_index_column": 74,
         "high": 5,
         "lettr": "J",
         "onpix": 2,
         "width": 5,
         "x-bar": 8,
         "x-box": 4,
         "x-ege": 0,
         "x2bar": 1,
         "x2ybr": 5,
         "xegvy": 8,
         "xy2br": 6,
         "xybar": 14,
         "y-bar": 9,
         "y-box": 7,
         "y-ege": 1,
         "y2bar": 7,
         "yegvx": 8
        },
        {
         "Outlier": -1,
         "_deepnote_index_column": 95,
         "high": 6,
         "lettr": "H",
         "onpix": 5,
         "width": 5,
         "x-bar": 7,
         "x-box": 4,
         "x-ege": 3,
         "x2bar": 8,
         "x2ybr": 5,
         "xegvy": 6,
         "xy2br": 6,
         "xybar": 8,
         "y-bar": 10,
         "y-box": 8,
         "y-ege": 7,
         "y2bar": 5,
         "yegvx": 11
        }
       ]
      },
      "text/html": [
       "<div>\n",
       "<style scoped>\n",
       "    .dataframe tbody tr th:only-of-type {\n",
       "        vertical-align: middle;\n",
       "    }\n",
       "\n",
       "    .dataframe tbody tr th {\n",
       "        vertical-align: top;\n",
       "    }\n",
       "\n",
       "    .dataframe thead th {\n",
       "        text-align: right;\n",
       "    }\n",
       "</style>\n",
       "<table border=\"1\" class=\"dataframe\">\n",
       "  <thead>\n",
       "    <tr style=\"text-align: right;\">\n",
       "      <th></th>\n",
       "      <th>x-box</th>\n",
       "      <th>y-box</th>\n",
       "      <th>width</th>\n",
       "      <th>high</th>\n",
       "      <th>onpix</th>\n",
       "      <th>x-bar</th>\n",
       "      <th>y-bar</th>\n",
       "      <th>x2bar</th>\n",
       "      <th>y2bar</th>\n",
       "      <th>xybar</th>\n",
       "      <th>x2ybr</th>\n",
       "      <th>xy2br</th>\n",
       "      <th>x-ege</th>\n",
       "      <th>xegvy</th>\n",
       "      <th>y-ege</th>\n",
       "      <th>yegvx</th>\n",
       "      <th>Outlier</th>\n",
       "      <th>lettr</th>\n",
       "    </tr>\n",
       "  </thead>\n",
       "  <tbody>\n",
       "    <tr>\n",
       "      <th>4</th>\n",
       "      <td>2</td>\n",
       "      <td>1</td>\n",
       "      <td>3</td>\n",
       "      <td>1</td>\n",
       "      <td>1</td>\n",
       "      <td>8</td>\n",
       "      <td>6</td>\n",
       "      <td>6</td>\n",
       "      <td>6</td>\n",
       "      <td>6</td>\n",
       "      <td>5</td>\n",
       "      <td>9</td>\n",
       "      <td>1</td>\n",
       "      <td>7</td>\n",
       "      <td>5</td>\n",
       "      <td>10</td>\n",
       "      <td>-1</td>\n",
       "      <td>G</td>\n",
       "    </tr>\n",
       "    <tr>\n",
       "      <th>25</th>\n",
       "      <td>6</td>\n",
       "      <td>11</td>\n",
       "      <td>7</td>\n",
       "      <td>8</td>\n",
       "      <td>3</td>\n",
       "      <td>7</td>\n",
       "      <td>8</td>\n",
       "      <td>7</td>\n",
       "      <td>11</td>\n",
       "      <td>4</td>\n",
       "      <td>7</td>\n",
       "      <td>14</td>\n",
       "      <td>1</td>\n",
       "      <td>7</td>\n",
       "      <td>4</td>\n",
       "      <td>8</td>\n",
       "      <td>-1</td>\n",
       "      <td>C</td>\n",
       "    </tr>\n",
       "    <tr>\n",
       "      <th>30</th>\n",
       "      <td>2</td>\n",
       "      <td>3</td>\n",
       "      <td>3</td>\n",
       "      <td>4</td>\n",
       "      <td>1</td>\n",
       "      <td>0</td>\n",
       "      <td>1</td>\n",
       "      <td>5</td>\n",
       "      <td>6</td>\n",
       "      <td>0</td>\n",
       "      <td>0</td>\n",
       "      <td>6</td>\n",
       "      <td>0</td>\n",
       "      <td>8</td>\n",
       "      <td>0</td>\n",
       "      <td>8</td>\n",
       "      <td>-1</td>\n",
       "      <td>L</td>\n",
       "    </tr>\n",
       "    <tr>\n",
       "      <th>33</th>\n",
       "      <td>5</td>\n",
       "      <td>9</td>\n",
       "      <td>7</td>\n",
       "      <td>7</td>\n",
       "      <td>10</td>\n",
       "      <td>9</td>\n",
       "      <td>8</td>\n",
       "      <td>4</td>\n",
       "      <td>4</td>\n",
       "      <td>6</td>\n",
       "      <td>8</td>\n",
       "      <td>6</td>\n",
       "      <td>6</td>\n",
       "      <td>11</td>\n",
       "      <td>8</td>\n",
       "      <td>7</td>\n",
       "      <td>-1</td>\n",
       "      <td>B</td>\n",
       "    </tr>\n",
       "    <tr>\n",
       "      <th>45</th>\n",
       "      <td>4</td>\n",
       "      <td>10</td>\n",
       "      <td>5</td>\n",
       "      <td>7</td>\n",
       "      <td>5</td>\n",
       "      <td>8</td>\n",
       "      <td>7</td>\n",
       "      <td>3</td>\n",
       "      <td>8</td>\n",
       "      <td>5</td>\n",
       "      <td>6</td>\n",
       "      <td>6</td>\n",
       "      <td>3</td>\n",
       "      <td>8</td>\n",
       "      <td>6</td>\n",
       "      <td>8</td>\n",
       "      <td>-1</td>\n",
       "      <td>X</td>\n",
       "    </tr>\n",
       "    <tr>\n",
       "      <th>...</th>\n",
       "      <td>...</td>\n",
       "      <td>...</td>\n",
       "      <td>...</td>\n",
       "      <td>...</td>\n",
       "      <td>...</td>\n",
       "      <td>...</td>\n",
       "      <td>...</td>\n",
       "      <td>...</td>\n",
       "      <td>...</td>\n",
       "      <td>...</td>\n",
       "      <td>...</td>\n",
       "      <td>...</td>\n",
       "      <td>...</td>\n",
       "      <td>...</td>\n",
       "      <td>...</td>\n",
       "      <td>...</td>\n",
       "      <td>...</td>\n",
       "      <td>...</td>\n",
       "    </tr>\n",
       "    <tr>\n",
       "      <th>19929</th>\n",
       "      <td>6</td>\n",
       "      <td>11</td>\n",
       "      <td>6</td>\n",
       "      <td>6</td>\n",
       "      <td>3</td>\n",
       "      <td>7</td>\n",
       "      <td>9</td>\n",
       "      <td>3</td>\n",
       "      <td>4</td>\n",
       "      <td>8</td>\n",
       "      <td>9</td>\n",
       "      <td>6</td>\n",
       "      <td>5</td>\n",
       "      <td>9</td>\n",
       "      <td>3</td>\n",
       "      <td>6</td>\n",
       "      <td>-1</td>\n",
       "      <td>V</td>\n",
       "    </tr>\n",
       "    <tr>\n",
       "      <th>19952</th>\n",
       "      <td>2</td>\n",
       "      <td>9</td>\n",
       "      <td>4</td>\n",
       "      <td>7</td>\n",
       "      <td>2</td>\n",
       "      <td>7</td>\n",
       "      <td>13</td>\n",
       "      <td>0</td>\n",
       "      <td>5</td>\n",
       "      <td>7</td>\n",
       "      <td>10</td>\n",
       "      <td>8</td>\n",
       "      <td>0</td>\n",
       "      <td>8</td>\n",
       "      <td>0</td>\n",
       "      <td>8</td>\n",
       "      <td>-1</td>\n",
       "      <td>T</td>\n",
       "    </tr>\n",
       "    <tr>\n",
       "      <th>19964</th>\n",
       "      <td>3</td>\n",
       "      <td>9</td>\n",
       "      <td>3</td>\n",
       "      <td>6</td>\n",
       "      <td>2</td>\n",
       "      <td>3</td>\n",
       "      <td>6</td>\n",
       "      <td>6</td>\n",
       "      <td>10</td>\n",
       "      <td>7</td>\n",
       "      <td>7</td>\n",
       "      <td>14</td>\n",
       "      <td>0</td>\n",
       "      <td>8</td>\n",
       "      <td>7</td>\n",
       "      <td>8</td>\n",
       "      <td>-1</td>\n",
       "      <td>E</td>\n",
       "    </tr>\n",
       "    <tr>\n",
       "      <th>19984</th>\n",
       "      <td>2</td>\n",
       "      <td>0</td>\n",
       "      <td>2</td>\n",
       "      <td>1</td>\n",
       "      <td>1</td>\n",
       "      <td>8</td>\n",
       "      <td>7</td>\n",
       "      <td>4</td>\n",
       "      <td>6</td>\n",
       "      <td>5</td>\n",
       "      <td>6</td>\n",
       "      <td>8</td>\n",
       "      <td>0</td>\n",
       "      <td>8</td>\n",
       "      <td>7</td>\n",
       "      <td>8</td>\n",
       "      <td>-1</td>\n",
       "      <td>S</td>\n",
       "    </tr>\n",
       "    <tr>\n",
       "      <th>19989</th>\n",
       "      <td>2</td>\n",
       "      <td>1</td>\n",
       "      <td>3</td>\n",
       "      <td>2</td>\n",
       "      <td>1</td>\n",
       "      <td>4</td>\n",
       "      <td>10</td>\n",
       "      <td>3</td>\n",
       "      <td>5</td>\n",
       "      <td>10</td>\n",
       "      <td>8</td>\n",
       "      <td>5</td>\n",
       "      <td>0</td>\n",
       "      <td>9</td>\n",
       "      <td>3</td>\n",
       "      <td>7</td>\n",
       "      <td>-1</td>\n",
       "      <td>P</td>\n",
       "    </tr>\n",
       "  </tbody>\n",
       "</table>\n",
       "<p>2000 rows × 18 columns</p>\n",
       "</div>"
      ],
      "text/plain": [
       "       x-box  y-box  width  high  onpix  x-bar  y-bar  x2bar  y2bar  xybar  \\\n",
       "4          2      1      3     1      1      8      6      6      6      6   \n",
       "25         6     11      7     8      3      7      8      7     11      4   \n",
       "30         2      3      3     4      1      0      1      5      6      0   \n",
       "33         5      9      7     7     10      9      8      4      4      6   \n",
       "45         4     10      5     7      5      8      7      3      8      5   \n",
       "...      ...    ...    ...   ...    ...    ...    ...    ...    ...    ...   \n",
       "19929      6     11      6     6      3      7      9      3      4      8   \n",
       "19952      2      9      4     7      2      7     13      0      5      7   \n",
       "19964      3      9      3     6      2      3      6      6     10      7   \n",
       "19984      2      0      2     1      1      8      7      4      6      5   \n",
       "19989      2      1      3     2      1      4     10      3      5     10   \n",
       "\n",
       "       x2ybr  xy2br  x-ege  xegvy  y-ege  yegvx  Outlier lettr  \n",
       "4          5      9      1      7      5     10       -1     G  \n",
       "25         7     14      1      7      4      8       -1     C  \n",
       "30         0      6      0      8      0      8       -1     L  \n",
       "33         8      6      6     11      8      7       -1     B  \n",
       "45         6      6      3      8      6      8       -1     X  \n",
       "...      ...    ...    ...    ...    ...    ...      ...   ...  \n",
       "19929      9      6      5      9      3      6       -1     V  \n",
       "19952     10      8      0      8      0      8       -1     T  \n",
       "19964      7     14      0      8      7      8       -1     E  \n",
       "19984      6      8      0      8      7      8       -1     S  \n",
       "19989      8      5      0      9      3      7       -1     P  \n",
       "\n",
       "[2000 rows x 18 columns]"
      ]
     },
     "execution_count": 8,
     "metadata": {},
     "output_type": "execute_result"
    }
   ],
   "outputs_reference": "s3:deepnote-cell-outputs-production/acaeebc9-ccce-4d38-9a38-3720831bc19d",
   "source": [
    "df[df['Outlier'] == -1]"
   ]
  },
  {
   "block_group": "08d600ec344444008133ac7192d8f84d",
   "cell_type": "markdown",
   "metadata": {
    "cell_id": "93016c3a2fd946bd900aabc755f68ed9",
    "deepnote_cell_type": "text-cell-p",
    "formattedRanges": []
   },
   "source": [
    "Di atas, kita dapat mengidentifikasi baris yang memiliki nilai outlier. Setelah mengetahui data outlier tersebut, kita dapat menghapus baris-baris tersebut sebagai langkah untuk menangani nilai anomali."
   ]
  },
  {
   "block_group": "4df883d66e32463680544f2766e5585b",
   "cell_type": "code",
   "content_dependencies": {
    "codeHash": "2428fbfe",
    "definedVariables": [
     "df_cleaned"
    ],
    "importedModules": [],
    "usedVariables": [
     "df_cleaned",
     "df"
    ]
   },
   "execution_count": null,
   "metadata": {
    "cell_id": "48fe344dc2574a678c831d23fdf1fba8",
    "deepnote_cell_type": "code",
    "deepnote_to_be_reexecuted": false,
    "execution_millis": 264,
    "execution_start": 1719397041834,
    "source_hash": null
   },
   "outputs": [
    {
     "data": {
      "application/vnd.deepnote.dataframe.v3+json": {
       "column_count": 18,
       "columns": [
        {
         "dtype": "int64",
         "name": "x-box",
         "stats": {
          "histogram": [
           {
            "bin_end": 1.5,
            "bin_start": 0,
            "count": 1149
           },
           {
            "bin_end": 3,
            "bin_start": 1.5,
            "count": 2485
           },
           {
            "bin_end": 4.5,
            "bin_start": 3,
            "count": 7850
           },
           {
            "bin_end": 6,
            "bin_start": 4.5,
            "count": 2923
           },
           {
            "bin_end": 7.5,
            "bin_start": 6,
            "count": 2685
           },
           {
            "bin_end": 9,
            "bin_start": 7.5,
            "count": 464
           },
           {
            "bin_end": 10.5,
            "bin_start": 9,
            "count": 375
           },
           {
            "bin_end": 12,
            "bin_start": 10.5,
            "count": 42
           },
           {
            "bin_end": 13.5,
            "bin_start": 12,
            "count": 23
           },
           {
            "bin_end": 15,
            "bin_start": 13.5,
            "count": 4
           }
          ],
          "max": "15",
          "min": "0",
          "nan_count": 0,
          "unique_count": 16
         }
        },
        {
         "dtype": "int64",
         "name": "y-box",
         "stats": {
          "histogram": [
           {
            "bin_end": 1.5,
            "bin_start": 0,
            "count": 1243
           },
           {
            "bin_end": 3,
            "bin_start": 1.5,
            "count": 460
           },
           {
            "bin_end": 4.5,
            "bin_start": 3,
            "count": 2316
           },
           {
            "bin_end": 6,
            "bin_start": 4.5,
            "count": 1385
           },
           {
            "bin_end": 7.5,
            "bin_start": 6,
            "count": 3602
           },
           {
            "bin_end": 9,
            "bin_start": 7.5,
            "count": 2036
           },
           {
            "bin_end": 10.5,
            "bin_start": 9,
            "count": 4543
           },
           {
            "bin_end": 12,
            "bin_start": 10.5,
            "count": 1461
           },
           {
            "bin_end": 13.5,
            "bin_start": 12,
            "count": 564
           },
           {
            "bin_end": 15,
            "bin_start": 13.5,
            "count": 390
           }
          ],
          "max": "15",
          "min": "0",
          "nan_count": 0,
          "unique_count": 16
         }
        },
        {
         "dtype": "int64",
         "name": "width",
         "stats": {
          "histogram": [
           {
            "bin_end": 1.5,
            "bin_start": 0,
            "count": 481
           },
           {
            "bin_end": 3,
            "bin_start": 1.5,
            "count": 1058
           },
           {
            "bin_end": 4.5,
            "bin_start": 3,
            "count": 5108
           },
           {
            "bin_end": 6,
            "bin_start": 4.5,
            "count": 3924
           },
           {
            "bin_end": 7.5,
            "bin_start": 6,
            "count": 5167
           },
           {
            "bin_end": 9,
            "bin_start": 7.5,
            "count": 1310
           },
           {
            "bin_end": 10.5,
            "bin_start": 9,
            "count": 827
           },
           {
            "bin_end": 12,
            "bin_start": 10.5,
            "count": 81
           },
           {
            "bin_end": 13.5,
            "bin_start": 12,
            "count": 39
           },
           {
            "bin_end": 15,
            "bin_start": 13.5,
            "count": 5
           }
          ],
          "max": "15",
          "min": "0",
          "nan_count": 0,
          "unique_count": 16
         }
        },
        {
         "dtype": "int64",
         "name": "high",
         "stats": {
          "histogram": [
           {
            "bin_end": 1.5,
            "bin_start": 0,
            "count": 1034
           },
           {
            "bin_end": 3,
            "bin_start": 1.5,
            "count": 1126
           },
           {
            "bin_end": 4.5,
            "bin_start": 3,
            "count": 3682
           },
           {
            "bin_end": 6,
            "bin_start": 4.5,
            "count": 2470
           },
           {
            "bin_end": 7.5,
            "bin_start": 6,
            "count": 5934
           },
           {
            "bin_end": 9,
            "bin_start": 7.5,
            "count": 3237
           },
           {
            "bin_end": 10.5,
            "bin_start": 9,
            "count": 400
           },
           {
            "bin_end": 12,
            "bin_start": 10.5,
            "count": 67
           },
           {
            "bin_end": 13.5,
            "bin_start": 12,
            "count": 34
           },
           {
            "bin_end": 15,
            "bin_start": 13.5,
            "count": 16
           }
          ],
          "max": "15",
          "min": "0",
          "nan_count": 0,
          "unique_count": 16
         }
        },
        {
         "dtype": "int64",
         "name": "onpix",
         "stats": {
          "histogram": [
           {
            "bin_end": 1.5,
            "bin_start": 0,
            "count": 2750
           },
           {
            "bin_end": 3,
            "bin_start": 1.5,
            "count": 3693
           },
           {
            "bin_end": 4.5,
            "bin_start": 3,
            "count": 6490
           },
           {
            "bin_end": 6,
            "bin_start": 4.5,
            "count": 1990
           },
           {
            "bin_end": 7.5,
            "bin_start": 6,
            "count": 2088
           },
           {
            "bin_end": 9,
            "bin_start": 7.5,
            "count": 481
           },
           {
            "bin_end": 10.5,
            "bin_start": 9,
            "count": 377
           },
           {
            "bin_end": 12,
            "bin_start": 10.5,
            "count": 77
           },
           {
            "bin_end": 13.5,
            "bin_start": 12,
            "count": 44
           },
           {
            "bin_end": 15,
            "bin_start": 13.5,
            "count": 10
           }
          ],
          "max": "15",
          "min": "0",
          "nan_count": 0,
          "unique_count": 16
         }
        },
        {
         "dtype": "int64",
         "name": "x-bar"
        },
        {
         "dtype": "int64",
         "name": "y-bar"
        },
        {
         "dtype": "int64",
         "name": "x2bar"
        },
        {
         "dtype": "int64",
         "name": "y2bar"
        },
        {
         "dtype": "int64",
         "name": "xybar"
        },
        {
         "dtype": "int64",
         "name": "x2ybr"
        },
        {
         "dtype": "int64",
         "name": "xy2br"
        },
        {
         "dtype": "int64",
         "name": "x-ege"
        },
        {
         "dtype": "int64",
         "name": "xegvy"
        },
        {
         "dtype": "int64",
         "name": "y-ege"
        },
        {
         "dtype": "int64",
         "name": "yegvx"
        },
        {
         "dtype": "int64",
         "name": "Outlier"
        },
        {
         "dtype": "object",
         "name": "lettr"
        },
        {
         "dtype": "int64",
         "name": "_deepnote_index_column"
        }
       ],
       "row_count": 18000,
       "rows": [
        {
         "Outlier": 1,
         "_deepnote_index_column": 0,
         "high": 5,
         "lettr": "T",
         "onpix": 1,
         "width": 3,
         "x-bar": 8,
         "x-box": 2,
         "x-ege": 0,
         "x2bar": 0,
         "x2ybr": 10,
         "xegvy": 8,
         "xy2br": 8,
         "xybar": 6,
         "y-bar": 13,
         "y-box": 8,
         "y-ege": 0,
         "y2bar": 6,
         "yegvx": 8
        },
        {
         "Outlier": 1,
         "_deepnote_index_column": 1,
         "high": 7,
         "lettr": "I",
         "onpix": 2,
         "width": 3,
         "x-bar": 10,
         "x-box": 5,
         "x-ege": 2,
         "x2bar": 5,
         "x2ybr": 3,
         "xegvy": 8,
         "xy2br": 9,
         "xybar": 13,
         "y-bar": 5,
         "y-box": 12,
         "y-ege": 4,
         "y2bar": 4,
         "yegvx": 10
        },
        {
         "Outlier": 1,
         "_deepnote_index_column": 2,
         "high": 8,
         "lettr": "D",
         "onpix": 6,
         "width": 6,
         "x-bar": 10,
         "x-box": 4,
         "x-ege": 3,
         "x2bar": 2,
         "x2ybr": 3,
         "xegvy": 7,
         "xy2br": 7,
         "xybar": 10,
         "y-bar": 6,
         "y-box": 11,
         "y-ege": 3,
         "y2bar": 6,
         "yegvx": 9
        },
        {
         "Outlier": 1,
         "_deepnote_index_column": 3,
         "high": 6,
         "lettr": "N",
         "onpix": 3,
         "width": 6,
         "x-bar": 5,
         "x-box": 7,
         "x-ege": 6,
         "x2bar": 4,
         "x2ybr": 4,
         "xegvy": 10,
         "xy2br": 10,
         "xybar": 4,
         "y-bar": 9,
         "y-box": 11,
         "y-ege": 2,
         "y2bar": 6,
         "yegvx": 8
        },
        {
         "Outlier": 1,
         "_deepnote_index_column": 5,
         "high": 8,
         "lettr": "S",
         "onpix": 3,
         "width": 5,
         "x-bar": 8,
         "x-box": 4,
         "x-ege": 0,
         "x2bar": 6,
         "x2ybr": 6,
         "xegvy": 8,
         "xy2br": 6,
         "xybar": 5,
         "y-bar": 8,
         "y-box": 11,
         "y-ege": 9,
         "y2bar": 9,
         "yegvx": 7
        },
        {
         "Outlier": 1,
         "_deepnote_index_column": 6,
         "high": 4,
         "lettr": "B",
         "onpix": 4,
         "width": 5,
         "x-bar": 8,
         "x-box": 4,
         "x-ege": 2,
         "x2bar": 6,
         "x2ybr": 6,
         "xegvy": 8,
         "xy2br": 6,
         "xybar": 7,
         "y-bar": 7,
         "y-box": 2,
         "y-ege": 7,
         "y2bar": 6,
         "yegvx": 10
        },
        {
         "Outlier": 1,
         "_deepnote_index_column": 7,
         "high": 2,
         "lettr": "A",
         "onpix": 1,
         "width": 3,
         "x-bar": 8,
         "x-box": 1,
         "x-ege": 1,
         "x2bar": 2,
         "x2ybr": 2,
         "xegvy": 6,
         "xy2br": 8,
         "xybar": 8,
         "y-bar": 2,
         "y-box": 1,
         "y-ege": 2,
         "y2bar": 2,
         "yegvx": 7
        },
        {
         "Outlier": 1,
         "_deepnote_index_column": 8,
         "high": 4,
         "lettr": "J",
         "onpix": 2,
         "width": 4,
         "x-bar": 10,
         "x-box": 2,
         "x-ege": 1,
         "x2bar": 2,
         "x2ybr": 4,
         "xegvy": 6,
         "xy2br": 8,
         "xybar": 12,
         "y-bar": 6,
         "y-box": 2,
         "y-ege": 1,
         "y2bar": 6,
         "yegvx": 7
        },
        {
         "Outlier": 1,
         "_deepnote_index_column": 9,
         "high": 9,
         "lettr": "M",
         "onpix": 7,
         "width": 13,
         "x-bar": 13,
         "x-box": 11,
         "x-ege": 8,
         "x2bar": 6,
         "x2ybr": 1,
         "xegvy": 1,
         "xy2br": 9,
         "xybar": 12,
         "y-bar": 2,
         "y-box": 15,
         "y-ege": 1,
         "y2bar": 2,
         "yegvx": 8
        },
        {
         "Outlier": 1,
         "_deepnote_index_column": 10,
         "high": 7,
         "lettr": "X",
         "onpix": 4,
         "width": 5,
         "x-bar": 8,
         "x-box": 3,
         "x-ege": 2,
         "x2bar": 3,
         "x2ybr": 6,
         "xegvy": 8,
         "xy2br": 8,
         "xybar": 5,
         "y-bar": 7,
         "y-box": 9,
         "y-ege": 6,
         "y2bar": 8,
         "yegvx": 7
        }
       ]
      },
      "text/html": [
       "<div>\n",
       "<style scoped>\n",
       "    .dataframe tbody tr th:only-of-type {\n",
       "        vertical-align: middle;\n",
       "    }\n",
       "\n",
       "    .dataframe tbody tr th {\n",
       "        vertical-align: top;\n",
       "    }\n",
       "\n",
       "    .dataframe thead th {\n",
       "        text-align: right;\n",
       "    }\n",
       "</style>\n",
       "<table border=\"1\" class=\"dataframe\">\n",
       "  <thead>\n",
       "    <tr style=\"text-align: right;\">\n",
       "      <th></th>\n",
       "      <th>x-box</th>\n",
       "      <th>y-box</th>\n",
       "      <th>width</th>\n",
       "      <th>high</th>\n",
       "      <th>onpix</th>\n",
       "      <th>x-bar</th>\n",
       "      <th>y-bar</th>\n",
       "      <th>x2bar</th>\n",
       "      <th>y2bar</th>\n",
       "      <th>xybar</th>\n",
       "      <th>x2ybr</th>\n",
       "      <th>xy2br</th>\n",
       "      <th>x-ege</th>\n",
       "      <th>xegvy</th>\n",
       "      <th>y-ege</th>\n",
       "      <th>yegvx</th>\n",
       "      <th>Outlier</th>\n",
       "      <th>lettr</th>\n",
       "    </tr>\n",
       "  </thead>\n",
       "  <tbody>\n",
       "    <tr>\n",
       "      <th>0</th>\n",
       "      <td>2</td>\n",
       "      <td>8</td>\n",
       "      <td>3</td>\n",
       "      <td>5</td>\n",
       "      <td>1</td>\n",
       "      <td>8</td>\n",
       "      <td>13</td>\n",
       "      <td>0</td>\n",
       "      <td>6</td>\n",
       "      <td>6</td>\n",
       "      <td>10</td>\n",
       "      <td>8</td>\n",
       "      <td>0</td>\n",
       "      <td>8</td>\n",
       "      <td>0</td>\n",
       "      <td>8</td>\n",
       "      <td>1</td>\n",
       "      <td>T</td>\n",
       "    </tr>\n",
       "    <tr>\n",
       "      <th>1</th>\n",
       "      <td>5</td>\n",
       "      <td>12</td>\n",
       "      <td>3</td>\n",
       "      <td>7</td>\n",
       "      <td>2</td>\n",
       "      <td>10</td>\n",
       "      <td>5</td>\n",
       "      <td>5</td>\n",
       "      <td>4</td>\n",
       "      <td>13</td>\n",
       "      <td>3</td>\n",
       "      <td>9</td>\n",
       "      <td>2</td>\n",
       "      <td>8</td>\n",
       "      <td>4</td>\n",
       "      <td>10</td>\n",
       "      <td>1</td>\n",
       "      <td>I</td>\n",
       "    </tr>\n",
       "    <tr>\n",
       "      <th>2</th>\n",
       "      <td>4</td>\n",
       "      <td>11</td>\n",
       "      <td>6</td>\n",
       "      <td>8</td>\n",
       "      <td>6</td>\n",
       "      <td>10</td>\n",
       "      <td>6</td>\n",
       "      <td>2</td>\n",
       "      <td>6</td>\n",
       "      <td>10</td>\n",
       "      <td>3</td>\n",
       "      <td>7</td>\n",
       "      <td>3</td>\n",
       "      <td>7</td>\n",
       "      <td>3</td>\n",
       "      <td>9</td>\n",
       "      <td>1</td>\n",
       "      <td>D</td>\n",
       "    </tr>\n",
       "    <tr>\n",
       "      <th>3</th>\n",
       "      <td>7</td>\n",
       "      <td>11</td>\n",
       "      <td>6</td>\n",
       "      <td>6</td>\n",
       "      <td>3</td>\n",
       "      <td>5</td>\n",
       "      <td>9</td>\n",
       "      <td>4</td>\n",
       "      <td>6</td>\n",
       "      <td>4</td>\n",
       "      <td>4</td>\n",
       "      <td>10</td>\n",
       "      <td>6</td>\n",
       "      <td>10</td>\n",
       "      <td>2</td>\n",
       "      <td>8</td>\n",
       "      <td>1</td>\n",
       "      <td>N</td>\n",
       "    </tr>\n",
       "    <tr>\n",
       "      <th>5</th>\n",
       "      <td>4</td>\n",
       "      <td>11</td>\n",
       "      <td>5</td>\n",
       "      <td>8</td>\n",
       "      <td>3</td>\n",
       "      <td>8</td>\n",
       "      <td>8</td>\n",
       "      <td>6</td>\n",
       "      <td>9</td>\n",
       "      <td>5</td>\n",
       "      <td>6</td>\n",
       "      <td>6</td>\n",
       "      <td>0</td>\n",
       "      <td>8</td>\n",
       "      <td>9</td>\n",
       "      <td>7</td>\n",
       "      <td>1</td>\n",
       "      <td>S</td>\n",
       "    </tr>\n",
       "    <tr>\n",
       "      <th>...</th>\n",
       "      <td>...</td>\n",
       "      <td>...</td>\n",
       "      <td>...</td>\n",
       "      <td>...</td>\n",
       "      <td>...</td>\n",
       "      <td>...</td>\n",
       "      <td>...</td>\n",
       "      <td>...</td>\n",
       "      <td>...</td>\n",
       "      <td>...</td>\n",
       "      <td>...</td>\n",
       "      <td>...</td>\n",
       "      <td>...</td>\n",
       "      <td>...</td>\n",
       "      <td>...</td>\n",
       "      <td>...</td>\n",
       "      <td>...</td>\n",
       "      <td>...</td>\n",
       "    </tr>\n",
       "    <tr>\n",
       "      <th>19995</th>\n",
       "      <td>2</td>\n",
       "      <td>2</td>\n",
       "      <td>3</td>\n",
       "      <td>3</td>\n",
       "      <td>2</td>\n",
       "      <td>7</td>\n",
       "      <td>7</td>\n",
       "      <td>7</td>\n",
       "      <td>6</td>\n",
       "      <td>6</td>\n",
       "      <td>6</td>\n",
       "      <td>4</td>\n",
       "      <td>2</td>\n",
       "      <td>8</td>\n",
       "      <td>3</td>\n",
       "      <td>7</td>\n",
       "      <td>1</td>\n",
       "      <td>D</td>\n",
       "    </tr>\n",
       "    <tr>\n",
       "      <th>19996</th>\n",
       "      <td>7</td>\n",
       "      <td>10</td>\n",
       "      <td>8</td>\n",
       "      <td>8</td>\n",
       "      <td>4</td>\n",
       "      <td>4</td>\n",
       "      <td>8</td>\n",
       "      <td>6</td>\n",
       "      <td>9</td>\n",
       "      <td>12</td>\n",
       "      <td>9</td>\n",
       "      <td>13</td>\n",
       "      <td>2</td>\n",
       "      <td>9</td>\n",
       "      <td>3</td>\n",
       "      <td>7</td>\n",
       "      <td>1</td>\n",
       "      <td>C</td>\n",
       "    </tr>\n",
       "    <tr>\n",
       "      <th>19997</th>\n",
       "      <td>6</td>\n",
       "      <td>9</td>\n",
       "      <td>6</td>\n",
       "      <td>7</td>\n",
       "      <td>5</td>\n",
       "      <td>6</td>\n",
       "      <td>11</td>\n",
       "      <td>3</td>\n",
       "      <td>7</td>\n",
       "      <td>11</td>\n",
       "      <td>9</td>\n",
       "      <td>5</td>\n",
       "      <td>2</td>\n",
       "      <td>12</td>\n",
       "      <td>2</td>\n",
       "      <td>4</td>\n",
       "      <td>1</td>\n",
       "      <td>T</td>\n",
       "    </tr>\n",
       "    <tr>\n",
       "      <th>19998</th>\n",
       "      <td>2</td>\n",
       "      <td>3</td>\n",
       "      <td>4</td>\n",
       "      <td>2</td>\n",
       "      <td>1</td>\n",
       "      <td>8</td>\n",
       "      <td>7</td>\n",
       "      <td>2</td>\n",
       "      <td>6</td>\n",
       "      <td>10</td>\n",
       "      <td>6</td>\n",
       "      <td>8</td>\n",
       "      <td>1</td>\n",
       "      <td>9</td>\n",
       "      <td>5</td>\n",
       "      <td>8</td>\n",
       "      <td>1</td>\n",
       "      <td>S</td>\n",
       "    </tr>\n",
       "    <tr>\n",
       "      <th>19999</th>\n",
       "      <td>4</td>\n",
       "      <td>9</td>\n",
       "      <td>6</td>\n",
       "      <td>6</td>\n",
       "      <td>2</td>\n",
       "      <td>9</td>\n",
       "      <td>5</td>\n",
       "      <td>3</td>\n",
       "      <td>1</td>\n",
       "      <td>8</td>\n",
       "      <td>1</td>\n",
       "      <td>8</td>\n",
       "      <td>2</td>\n",
       "      <td>7</td>\n",
       "      <td>2</td>\n",
       "      <td>8</td>\n",
       "      <td>1</td>\n",
       "      <td>A</td>\n",
       "    </tr>\n",
       "  </tbody>\n",
       "</table>\n",
       "<p>18000 rows × 18 columns</p>\n",
       "</div>"
      ],
      "text/plain": [
       "       x-box  y-box  width  high  onpix  x-bar  y-bar  x2bar  y2bar  xybar  \\\n",
       "0          2      8      3     5      1      8     13      0      6      6   \n",
       "1          5     12      3     7      2     10      5      5      4     13   \n",
       "2          4     11      6     8      6     10      6      2      6     10   \n",
       "3          7     11      6     6      3      5      9      4      6      4   \n",
       "5          4     11      5     8      3      8      8      6      9      5   \n",
       "...      ...    ...    ...   ...    ...    ...    ...    ...    ...    ...   \n",
       "19995      2      2      3     3      2      7      7      7      6      6   \n",
       "19996      7     10      8     8      4      4      8      6      9     12   \n",
       "19997      6      9      6     7      5      6     11      3      7     11   \n",
       "19998      2      3      4     2      1      8      7      2      6     10   \n",
       "19999      4      9      6     6      2      9      5      3      1      8   \n",
       "\n",
       "       x2ybr  xy2br  x-ege  xegvy  y-ege  yegvx  Outlier lettr  \n",
       "0         10      8      0      8      0      8        1     T  \n",
       "1          3      9      2      8      4     10        1     I  \n",
       "2          3      7      3      7      3      9        1     D  \n",
       "3          4     10      6     10      2      8        1     N  \n",
       "5          6      6      0      8      9      7        1     S  \n",
       "...      ...    ...    ...    ...    ...    ...      ...   ...  \n",
       "19995      6      4      2      8      3      7        1     D  \n",
       "19996      9     13      2      9      3      7        1     C  \n",
       "19997      9      5      2     12      2      4        1     T  \n",
       "19998      6      8      1      9      5      8        1     S  \n",
       "19999      1      8      2      7      2      8        1     A  \n",
       "\n",
       "[18000 rows x 18 columns]"
      ]
     },
     "execution_count": 9,
     "metadata": {},
     "output_type": "execute_result"
    }
   ],
   "outputs_reference": "s3:deepnote-cell-outputs-production/c89befbc-ea93-4af5-97dc-6770fe0f8e1e",
   "source": [
    "df_cleaned = df[df['Outlier'] != -1]\n",
    "df_cleaned"
   ]
  },
  {
   "block_group": "378a834df90848038d055448f98a6751",
   "cell_type": "markdown",
   "metadata": {
    "cell_id": "cd155ecb14f846f99aeb9aba776028cb",
    "deepnote_cell_type": "text-cell-p",
    "formattedRanges": []
   },
   "source": [
    "Penjelasan code"
   ]
  },
  {
   "block_group": "0c3f01c13bdd4920b8de69800054f067",
   "cell_type": "markdown",
   "metadata": {
    "cell_id": "f017b3c1455540ceb87e0fbb6c3fc2d3",
    "deepnote_cell_type": "text-cell-p",
    "formattedRanges": []
   },
   "source": [
    "Kode tersebut membersihkan dataset dengan menghapus baris yang dianggap sebagai outlier. Baris-baris yang memiliki nilai -1 pada kolom 'Outlier' dihapus, sehingga DataFrame baru `df_cleaned` hanya berisi data yang tidak mengandung outlier."
   ]
  },
  {
   "block_group": "e2c63510b14a4ac2b6586c5d2278b831",
   "cell_type": "code",
   "content_dependencies": {
    "codeHash": "dd636966",
    "definedVariables": [
     "i",
     "unique_values",
     "mapping"
    ],
    "importedModules": [],
    "usedVariables": [
     "i",
     "unique_values",
     "df",
     "mapping"
    ]
   },
   "execution_count": null,
   "metadata": {
    "cell_id": "897bceebb5734ea7b158cdee02e6caa4",
    "deepnote_cell_type": "code",
    "deepnote_table_loading": false,
    "deepnote_table_state": {
     "filters": [],
     "pageIndex": 1999,
     "pageSize": 10,
     "sortBy": []
    },
    "deepnote_to_be_reexecuted": false,
    "execution_millis": 370,
    "execution_start": 1719397041904,
    "source_hash": null
   },
   "outputs": [
    {
     "name": "stdout",
     "output_type": "stream",
     "text": [
      "Index(['x-box', 'y-box', 'width', 'high', 'onpix', 'x-bar', 'y-bar', 'x2bar',\n",
      "       'y2bar', 'xybar', 'x2ybr', 'xy2br', 'x-ege', 'xegvy', 'y-ege', 'yegvx',\n",
      "       'Outlier', 'lettr'],\n",
      "      dtype='object')\n",
      "[20  9  4 14  7 19  2  1 10 13 24 15 18  6  3  8 23 12 16  5 22 25 17 21\n",
      " 11 26]\n",
      "   x-box  y-box  width  high  onpix  x-bar  y-bar  x2bar  y2bar  xybar  x2ybr  \\\n",
      "0      2      8      3     5      1      8     13      0      6      6     10   \n",
      "1      5     12      3     7      2     10      5      5      4     13      3   \n",
      "2      4     11      6     8      6     10      6      2      6     10      3   \n",
      "3      7     11      6     6      3      5      9      4      6      4      4   \n",
      "4      2      1      3     1      1      8      6      6      6      6      5   \n",
      "\n",
      "   xy2br  x-ege  xegvy  y-ege  yegvx  Outlier  lettr  \n",
      "0      8      0      8      0      8        1     20  \n",
      "1      9      2      8      4     10        1      9  \n",
      "2      7      3      7      3      9        1      4  \n",
      "3     10      6     10      2      8        1     14  \n",
      "4      9      1      7      5     10       -1      7  \n"
     ]
    }
   ],
   "outputs_reference": "s3:deepnote-cell-outputs-production/5b7ab6b5-efef-4957-918e-7f5a5ebd1a4e",
   "source": [
    "# Memeriksa nama kolom yang ada dalam DataFrame\n",
    "print(df.columns)\n",
    "\n",
    "# Membuat mapping antara huruf A-Z ke angka 1-26\n",
    "mapping = {chr(i): i - 64 for i in range(65, 91)}\n",
    "\n",
    "# Membersihkan kolom 'lettr': menghapus spasi, mengubah huruf kecil menjadi huruf besar\n",
    "df['lettr'] = df['lettr'].str.strip().str.upper()\n",
    "\n",
    "# Menerapkan mapping pada kolom 'lettr'\n",
    "df['lettr'] = df['lettr'].map(mapping)\n",
    "\n",
    "# Menampilkan nilai unik hasil mapping\n",
    "unique_values = df['lettr'].unique()\n",
    "print(unique_values)\n",
    "\n",
    "# Memeriksa beberapa baris pertama dari DataFrame untuk memastikan mapping berhasil\n",
    "print(df.head())\n",
    "\n",
    "df.to_csv('letter-recognition.csv', index=False)"
   ]
  },
  {
   "block_group": "d67bff8d3d454fd9a879b866e4541f8b",
   "cell_type": "markdown",
   "metadata": {
    "cell_id": "4014a83194b44255bda3a30ddd85194c",
    "deepnote_cell_type": "text-cell-h1",
    "formattedRanges": []
   },
   "source": [
    "# MODELLING"
   ]
  },
  {
   "block_group": "94817bccd79b4f1eada67fe77b5b32de",
   "cell_type": "markdown",
   "metadata": {
    "cell_id": "c6a247d5fed446c2bf81bae4870def12",
    "deepnote_cell_type": "text-cell-h2",
    "formattedRanges": []
   },
   "source": [
    "## K-Nearest Neighbour"
   ]
  },
  {
   "block_group": "13dda1bbfa2f47ae80f4abae47b6a05b",
   "cell_type": "markdown",
   "metadata": {
    "cell_id": "f1f121b2e2b54b95b8c020e6ad679e13",
    "deepnote_cell_type": "text-cell-p",
    "formattedRanges": []
   },
   "source": [
    "K-nearest neighbor merupakan algoritma yang digunakan untuk mengidentifikasi adanya persamaan antara data baru dan lama. Kemudian, algoritma satu ini akan memasukkan data baru tersebut dalam kategori yang paling mirip dengan kategori yang telah ada sebelumnya. Dengan kata lain, K-nearest neighbor menyimpan seluruh data lama dan mengklasifikasikan data point baru berdasarkan kemiripan."
   ]
  },
  {
   "block_group": "e62654524b8643938b6e1464d61acf40",
   "cell_type": "markdown",
   "metadata": {
    "cell_id": "abfae6a217d74b64b9f7d6bab03a5d4f",
    "deepnote_cell_type": "text-cell-p",
    "formattedRanges": []
   },
   "source": [
    "KNN (K-Nearest Neighbors) adalah algoritma yang sederhana dan mudah dimengerti, namun memberikan hasil yang baik untuk berbagai masalah klasifikasi. Algoritma ini dapat diterapkan pada kumpulan data kecil maupun besar. Namun, KNN juga memiliki kelemahan, terutama dalam komputasi yang mahal untuk kumpulan data besar atau ruang fitur berdimensi tinggi."
   ]
  },
  {
   "block_group": "450a96ae6f9640adafdb2207548479f9",
   "cell_type": "markdown",
   "metadata": {
    "cell_id": "3a04ce575a594fcc9e9267d0e63224d0",
    "deepnote_cell_type": "text-cell-p",
    "formattedRanges": []
   },
   "source": [
    "Algoritma KNN banyak digunakan dalam berbagai aplikasi salah satu ontohnya adalah kumpulan data untuk iklan jaringan sosial. Dataset yang ada di sana berisi rincian pengguna suatu situs jejaring sosial. Akan tercatat apakah seorang pengguna membeli suatu produk dengan meng-klik iklan di situs berdasarkan gaji, usia, atau jenis kelamin mereka."
   ]
  },
  {
   "block_group": "da8a87214ae44210b5a759ce0f0c881f",
   "cell_type": "code",
   "content_dependencies": {
    "codeHash": "df4618b9",
    "definedVariables": [
     "y",
     "X_test",
     "X_train",
     "X",
     "Y_test",
     "Y_train",
     "df"
    ],
    "importedModules": [
     "StandardScaler",
     "pd",
     "accuracy_score",
     "KNeighborsClassifier",
     "train_test_split"
    ],
    "usedVariables": [
     "y",
     "X",
     "pd",
     "df",
     "train_test_split"
    ]
   },
   "execution_count": null,
   "metadata": {
    "cell_id": "201a9fd4af934be696ec2c44f2ab77a9",
    "deepnote_cell_type": "code",
    "deepnote_to_be_reexecuted": false,
    "execution_millis": 163,
    "execution_start": 1719397042225,
    "source_hash": null
   },
   "outputs": [],
   "outputs_reference": null,
   "source": [
    "import pandas as pd\n",
    "from sklearn.model_selection import train_test_split\n",
    "from sklearn.neighbors import KNeighborsClassifier\n",
    "from sklearn.metrics import accuracy_score\n",
    "from sklearn.preprocessing import StandardScaler\n",
    "\n",
    "# Mengakses dataset melalui csv\n",
    "df = pd.read_csv('letter-recognition.csv')\n",
    "\n",
    "# Menghapus kolom yang tidak relevan\n",
    "#df.drop(\"Unnamed: 0\", axis=1, inplace=True)\n",
    "#df.drop(\"Outlier\", axis=1, inplace=True)\n",
    "\n",
    "X = df[['x-box','y-box','width', 'high', 'onpix', 'x-bar', 'y-bar', 'x2bar', 'y2bar', 'xybar', 'x2ybr', 'xy2br', 'x-ege', 'xegvy', 'y-ege', 'yegvx']]\n",
    "y = df['lettr']\n",
    "\n",
    "X_train, X_test, Y_train, Y_test = train_test_split(X, y, test_size=0.2, random_state=42)\n",
    "\n",
    "# X_test"
   ]
  },
  {
   "block_group": "5974651beee945b29599628130482238",
   "cell_type": "markdown",
   "metadata": {
    "cell_id": "3ca0398434ec49e9993bfc575f620e4e",
    "deepnote_cell_type": "text-cell-p",
    "formattedRanges": []
   },
   "source": [
    "Penjelasan code "
   ]
  },
  {
   "block_group": "c397b7d75f3947f2b0887cfef2b41796",
   "cell_type": "markdown",
   "metadata": {
    "cell_id": "993bf94bedc44412b8acf96310dd7661",
    "deepnote_cell_type": "text-cell-p",
    "formattedRanges": []
   },
   "source": [
    "Code diatas digunakan untuk memisahkan dataset menjadi data train dan juga data test.Data training akan digunakan untuk proses pelatihan model, sedangkan data testing akan dipakai untuk menguji kinerja model. Langkah-langkah yang harus dilakukan adalah memisahkan fitur dan kelas, menyimpannya ke dalam variabel terpisah, kemudian membagi data tersebut menjadi dua bagian, dengan proporsi 80% untuk data training dan 20% untuk data testing."
   ]
  },
  {
   "block_group": "20f36fc07d8c425b9b64e004f06f348f",
   "cell_type": "code",
   "content_dependencies": {
    "codeHash": "9056974b",
    "definedVariables": [
     "knn",
     "accuracy",
     "X_test",
     "y_pred",
     "X_train",
     "scaler"
    ],
    "importedModules": [],
    "usedVariables": [
     "knn",
     "Y_train",
     "StandardScaler",
     "accuracy_score",
     "accuracy",
     "X_test",
     "y_pred",
     "X_train",
     "KNeighborsClassifier",
     "scaler",
     "Y_test"
    ]
   },
   "execution_count": null,
   "metadata": {
    "cell_id": "6bebfe078a744613bfab482b34ccba17",
    "deepnote_cell_type": "code",
    "deepnote_to_be_reexecuted": false,
    "execution_millis": 465,
    "execution_start": 1719397042309,
    "source_hash": null
   },
   "outputs": [
    {
     "name": "stdout",
     "output_type": "stream",
     "text": [
      "Akurasi: 0.9355\n",
      "Akurasi : 93.55%\n"
     ]
    }
   ],
   "outputs_reference": "dbtable:cell_outputs/a0e93bbc-692f-4d81-99f9-7272f3ade3df",
   "source": [
    "# Standardisasi fitur\n",
    "scaler = StandardScaler()\n",
    "X_train = scaler.fit_transform(X_train)\n",
    "X_test = scaler.transform(X_test)\n",
    "\n",
    "# Membuat model KNN\n",
    "knn = KNeighborsClassifier(n_neighbors=2)\n",
    "# knn\n",
    "\n",
    "# Melatih model pada training set\n",
    "knn.fit(X_train, Y_train)\n",
    "\n",
    "# Memprediksi target pada testing set\n",
    "y_pred = knn.predict(X_test)\n",
    "\n",
    "# Menghitung akurasi model\n",
    "accuracy = accuracy_score(Y_test, y_pred)\n",
    "print('Akurasi:', accuracy)\n",
    "print(f'Akurasi : {accuracy * 100:.2f}%')"
   ]
  },
  {
   "block_group": "18cef419b6de4d589516d1394cf13a15",
   "cell_type": "markdown",
   "metadata": {
    "cell_id": "c477a34b72144dd0b63f05c193c1e5a8",
    "deepnote_cell_type": "text-cell-p",
    "formattedRanges": []
   },
   "source": [
    "Pejelasan code"
   ]
  },
  {
   "block_group": "76b0429bf62e4ef3b35a3a6cabca6fa6",
   "cell_type": "markdown",
   "metadata": {
    "cell_id": "dc47f48f330241c6b1cd09d06e00be18",
    "deepnote_cell_type": "text-cell-p",
    "formattedRanges": []
   },
   "source": [
    "Code di atas menjelaskan penggunaan metode KNN untuk menentukan tingkat akurasi data. Setelah dataset dibagi menjadi data training dan data testing, langkah selanjutnya adalah membuat model KNN dan melatihnya menggunakan data training. Kemudian, model tersebut digunakan untuk memprediksi data testing. Akhirnya, hasil akurasi dari prediksi tersebut disimpan."
   ]
  },
  {
   "block_group": "fcae987e12ac4eba8348be2c60c41abc",
   "cell_type": "code",
   "content_dependencies": {
    "codeHash": "776dab9f",
    "definedVariables": [
     "scaler",
     "accuracy",
     "knn",
     "X_new",
     "result",
     "X_test",
     "X_train"
    ],
    "importedModules": [],
    "usedVariables": [
     "scaler",
     "Y_test",
     "Y_train",
     "accuracy",
     "knn",
     "KNeighborsClassifier",
     "StandardScaler",
     "X_new",
     "result",
     "X_test",
     "X_train"
    ]
   },
   "execution_count": null,
   "metadata": {
    "cell_id": "c58ace2e3e4045988ee0a52870227701",
    "deepnote_cell_type": "code",
    "deepnote_to_be_reexecuted": false,
    "execution_millis": 297,
    "execution_start": 1719397042779,
    "source_hash": null
   },
   "outputs": [
    {
     "name": "stdout",
     "output_type": "stream",
     "text": [
      "Data X memiliki quality: 13\n",
      "Nilai Keakuratan: 0.935500\n",
      "Akurasi : 93.55%\n"
     ]
    }
   ],
   "outputs_reference": "dbtable:cell_outputs/f4280fa2-8807-4981-91cc-90cea8c401f0",
   "source": [
    "# Pastikan bahwa df1_train dan df1_test memiliki jumlah fitur yang sama\n",
    "# assert X_train.shape[1] == X_test.shape[1], \"Jumlah fitur pada X_train dan X_test tidak sama.\"\n",
    "\n",
    "# Standardisasi fitur\n",
    "scaler = StandardScaler()\n",
    "X_train = scaler.fit_transform(X_train)\n",
    "X_test = scaler.transform(X_test)\n",
    "\n",
    "# Inisialisasi dan latih model KNN\n",
    "knn = KNeighborsClassifier(n_neighbors=2)\n",
    "knn.fit(X_train, Y_train)\n",
    "\n",
    "# Data Baru yang Akan di Klasifikasikan\n",
    "X_new = [['11','15','13','9','7','13','2','6','2','12','1','9','8','1','1','8']]  # Pastikan jumlah fitur sama\n",
    "assert len(X_new[0]) == X_train.shape[1], \"Jumlah fitur pada X_new tidak sesuai dengan X_train.\"\n",
    "\n",
    "X_new = scaler.transform(X_new)  # Jangan lupa untuk menstandarkan data baru\n",
    "\n",
    "result = knn.predict(X_new)\n",
    "print(f'Data X memiliki quality: {result[0]}')\n",
    "\n",
    "# Evaluasi Keakuratan\n",
    "accuracy = knn.score(X_test, Y_test)\n",
    "print(f'Nilai Keakuratan: {accuracy:.6f}')\n",
    "print(f'Akurasi : {accuracy * 100:.2f}%')"
   ]
  },
  {
   "block_group": "9ad5eaee306849f18bb43fcb9de49111",
   "cell_type": "markdown",
   "metadata": {
    "cell_id": "19cb42dab8d34312bbfdfa36be775b83",
    "deepnote_cell_type": "text-cell-p",
    "formattedRanges": []
   },
   "source": [
    "Penjelasan code"
   ]
  },
  {
   "block_group": "d84936c50b864bfe9e676d7f890e0274",
   "cell_type": "markdown",
   "metadata": {
    "cell_id": "2956e6752d0941de96fa1ddb0fd4e85c",
    "deepnote_cell_type": "text-cell-p",
    "formattedRanges": []
   },
   "source": [
    "Code di atas menjelaskan bahwa kode tersebut digunakan untuk menentukan kelas dari data yang sedang diprediksi. Hasil prediksi tersebut kemudian dievaluasi untuk mengukur akurasinya, dan hasil akurasi ini dinyatakan dalam bentuk persentase."
   ]
  },
  {
   "block_group": "64499bb9ea954464a8e9306ba1234a7a",
   "cell_type": "markdown",
   "metadata": {
    "cell_id": "f0bf3387f2e04d71a023707d3edcc6fb",
    "deepnote_cell_type": "text-cell-h2",
    "formattedRanges": []
   },
   "source": [
    "## GAUSSIAN NAIVE BAYES CLASSIFICATION"
   ]
  },
  {
   "block_group": "14188825fcf6410997815066473af307",
   "cell_type": "markdown",
   "metadata": {
    "cell_id": "8bf1e44a01914748917add5198c799dd",
    "deepnote_cell_type": "text-cell-p",
    "formattedRanges": []
   },
   "source": [
    "Gaussian Naive Bayes merupakan sebuah teknik klasifikasi yang digunakan dalam machine learning dengan menggunakan metode probability dan Distribusi Gaussian atau Distiribusi Normal. Gaussian Distribution mengasumsikan bahwa setiap feature pada data memiliki pengaruh yang independent dalam memprediksi target. Kombinasi prediksi dari seluruh parameter adalah prediksi akhir dengan probability dari target variable yang diklasifikasikan ke dalam dua kelas. Klasifikasi akhirnya adalah hasil probability yang lebih tinggi dari grup target."
   ]
  },
  {
   "block_group": "7da44773522d455ca1cd8d8720c44423",
   "cell_type": "markdown",
   "metadata": {
    "cell_id": "866a947194a642509e03c37767bf3cee",
    "deepnote_cell_type": "text-cell-h3",
    "formattedRanges": []
   },
   "source": [
    "### Membaca data dari file csv"
   ]
  },
  {
   "block_group": "f91b66a2118c428baeafd3c381659fe3",
   "cell_type": "markdown",
   "metadata": {
    "cell_id": "89ad2b29137548a3a5e1ff8d7a5243b9",
    "deepnote_cell_type": "text-cell-p",
    "formattedRanges": []
   },
   "source": [
    "Sebelum memulai perhitungan tentunya kita perlu mengambil data yang sudah dipilih"
   ]
  },
  {
   "block_group": "a94d424ef7ee4ff58a76319ff18ba2fe",
   "cell_type": "code",
   "content_dependencies": {
    "codeHash": "466c20de",
    "definedVariables": [
     "dataframe",
     "file_path"
    ],
    "importedModules": [
     "pd"
    ],
    "usedVariables": [
     "dataframe",
     "pd"
    ]
   },
   "execution_count": null,
   "metadata": {
    "cell_id": "d25f019c9f3d4fd790084ea314e681fd",
    "deepnote_cell_type": "code",
    "deepnote_to_be_reexecuted": false,
    "execution_millis": 126,
    "execution_start": 1719397043085,
    "source_hash": null
   },
   "outputs": [
    {
     "name": "stdout",
     "output_type": "stream",
     "text": [
      "   x-box  y-box  width  high  onpix  x-bar  y-bar  x2bar  y2bar  xybar  x2ybr  \\\n",
      "0      2      8      3     5      1      8     13      0      6      6     10   \n",
      "1      5     12      3     7      2     10      5      5      4     13      3   \n",
      "2      4     11      6     8      6     10      6      2      6     10      3   \n",
      "3      7     11      6     6      3      5      9      4      6      4      4   \n",
      "4      2      1      3     1      1      8      6      6      6      6      5   \n",
      "\n",
      "   xy2br  x-ege  xegvy  y-ege  yegvx  Outlier  lettr  \n",
      "0      8      0      8      0      8        1     20  \n",
      "1      9      2      8      4     10        1      9  \n",
      "2      7      3      7      3      9        1      4  \n",
      "3     10      6     10      2      8        1     14  \n",
      "4      9      1      7      5     10       -1      7  \n"
     ]
    }
   ],
   "outputs_reference": "dbtable:cell_outputs/1d5f66d8-4b1a-46b5-9d20-5930d9b5c9cc",
   "source": [
    "import pandas as pd\n",
    "file_path = 'letter-recognition.data'\n",
    "dataframe = pd.read_csv('letter-recognition.csv')\n",
    "\n",
    "print(dataframe.head())"
   ]
  },
  {
   "block_group": "d64a27dd614b4ad9a9ac3710600d94e3",
   "cell_type": "markdown",
   "metadata": {
    "cell_id": "5d7f3778261b45108b68fe6a57221cbc",
    "deepnote_cell_type": "text-cell-h3",
    "formattedRanges": []
   },
   "source": [
    "### Membagi Data"
   ]
  },
  {
   "block_group": "580e9374f7a44fb9a7c677cb6e3cc448",
   "cell_type": "markdown",
   "metadata": {
    "cell_id": "d4e16215f5e441798e168a10481f3da7",
    "deepnote_cell_type": "text-cell-p",
    "formattedRanges": []
   },
   "source": [
    "Disini akan dilakukan pembagian data untuk mempermudah perhitungan, saya membagi data test menjadi 20% dan data train 80%. Dilakukannya hal ini agar saat kita melakukan prediksi terhadap data baru, kita mendapat hasil yang lebih efektif."
   ]
  },
  {
   "block_group": "6871acf6f6704d5e892794f5f4189eb2",
   "cell_type": "code",
   "content_dependencies": {
    "codeHash": "955e3ca5",
    "definedVariables": [
     "y",
     "X_test",
     "X_train",
     "X",
     "Y_test",
     "Y_train",
     "df"
    ],
    "importedModules": [
     "train_test_split"
    ],
    "usedVariables": [
     "y",
     "X",
     "pd",
     "df",
     "train_test_split"
    ]
   },
   "execution_count": null,
   "metadata": {
    "cell_id": "28a77a641e764f33a87f9e1a26ce009e",
    "deepnote_cell_type": "code",
    "deepnote_to_be_reexecuted": false,
    "execution_millis": 88,
    "execution_start": 1719397043218,
    "source_hash": null
   },
   "outputs": [],
   "outputs_reference": null,
   "source": [
    "from sklearn.model_selection import train_test_split\n",
    "\n",
    "# Mengakses dataset melalui csv\n",
    "df = pd.read_csv('letter-recognition.csv')\n",
    "# Menghapus kolom yang tidak relevan\n",
    "# df.drop(\"Unnamed: 0\", axis=1, inplace=True)\n",
    "\n",
    "X = df[['x-box','y-box','width', 'high', 'onpix', 'x-bar', 'y-bar', 'x2bar', 'y2bar', 'xybar', 'x2ybr', 'xy2br', 'x-ege', 'xegvy', 'y-ege', 'yegvx']]\n",
    "y = df[ 'lettr']\n",
    "\n",
    "X_train, X_test, Y_train, Y_test = train_test_split(X, y, test_size=0.2)\n",
    "\n",
    "# X_test\n"
   ]
  },
  {
   "block_group": "75e1244b2cea4cd19e5e889623e92c29",
   "cell_type": "markdown",
   "metadata": {
    "cell_id": "f6cd8e320c5f440f8924ebae0e622ee3",
    "deepnote_cell_type": "text-cell-p",
    "formattedRanges": []
   },
   "source": [
    "Penjelasan code"
   ]
  },
  {
   "block_group": "1098b2ed6e304254ba17c185e44fe70a",
   "cell_type": "markdown",
   "metadata": {
    "cell_id": "91350455272243e79f635257cc9bda8a",
    "deepnote_cell_type": "text-cell-p",
    "formattedRanges": []
   },
   "source": [
    "Code diatas merupakan code untuk membagi data menjadi data training dan juga data testing untuk dilakukan perhitungan menggunakan metode gaussian naive bayes."
   ]
  },
  {
   "block_group": "54c3abd9369b4ae7aeb032d20c21c225",
   "cell_type": "code",
   "content_dependencies": {
    "codeHash": "1401e72",
    "definedVariables": [
     "df2",
     "df_train",
     "df1"
    ],
    "importedModules": [],
    "usedVariables": [
     "pd",
     "Y_train",
     "df_train",
     "df1",
     "df2",
     "X_train"
    ]
   },
   "execution_count": null,
   "metadata": {
    "cell_id": "f252a27a73a740569459e1ea424dfce9",
    "deepnote_cell_type": "code",
    "deepnote_to_be_reexecuted": false,
    "execution_millis": 200,
    "execution_start": 1719397043310,
    "source_hash": null
   },
   "outputs": [
    {
     "data": {
      "application/vnd.deepnote.dataframe.v3+json": {
       "column_count": 17,
       "columns": [
        {
         "dtype": "int64",
         "name": "x-box",
         "stats": {
          "histogram": [
           {
            "bin_end": 1.5,
            "bin_start": 0,
            "count": 1116
           },
           {
            "bin_end": 3,
            "bin_start": 1.5,
            "count": 2332
           },
           {
            "bin_end": 4.5,
            "bin_start": 3,
            "count": 6911
           },
           {
            "bin_end": 6,
            "bin_start": 4.5,
            "count": 2513
           },
           {
            "bin_end": 7.5,
            "bin_start": 6,
            "count": 2337
           },
           {
            "bin_end": 9,
            "bin_start": 7.5,
            "count": 411
           },
           {
            "bin_end": 10.5,
            "bin_start": 9,
            "count": 323
           },
           {
            "bin_end": 12,
            "bin_start": 10.5,
            "count": 37
           },
           {
            "bin_end": 13.5,
            "bin_start": 12,
            "count": 17
           },
           {
            "bin_end": 15,
            "bin_start": 13.5,
            "count": 3
           }
          ],
          "max": "15",
          "min": "0",
          "nan_count": 0,
          "unique_count": 16
         }
        },
        {
         "dtype": "int64",
         "name": "y-box",
         "stats": {
          "histogram": [
           {
            "bin_end": 1.5,
            "bin_start": 0,
            "count": 1178
           },
           {
            "bin_end": 3,
            "bin_start": 1.5,
            "count": 431
           },
           {
            "bin_end": 4.5,
            "bin_start": 3,
            "count": 2147
           },
           {
            "bin_end": 6,
            "bin_start": 4.5,
            "count": 1233
           },
           {
            "bin_end": 7.5,
            "bin_start": 6,
            "count": 3223
           },
           {
            "bin_end": 9,
            "bin_start": 7.5,
            "count": 1718
           },
           {
            "bin_end": 10.5,
            "bin_start": 9,
            "count": 3972
           },
           {
            "bin_end": 12,
            "bin_start": 10.5,
            "count": 1289
           },
           {
            "bin_end": 13.5,
            "bin_start": 12,
            "count": 478
           },
           {
            "bin_end": 15,
            "bin_start": 13.5,
            "count": 331
           }
          ],
          "max": "15",
          "min": "0",
          "nan_count": 0,
          "unique_count": 16
         }
        },
        {
         "dtype": "int64",
         "name": "width",
         "stats": {
          "histogram": [
           {
            "bin_end": 1.5,
            "bin_start": 0,
            "count": 468
           },
           {
            "bin_end": 3,
            "bin_start": 1.5,
            "count": 1012
           },
           {
            "bin_end": 4.5,
            "bin_start": 3,
            "count": 4659
           },
           {
            "bin_end": 6,
            "bin_start": 4.5,
            "count": 3403
           },
           {
            "bin_end": 7.5,
            "bin_start": 6,
            "count": 4499
           },
           {
            "bin_end": 9,
            "bin_start": 7.5,
            "count": 1124
           },
           {
            "bin_end": 10.5,
            "bin_start": 9,
            "count": 725
           },
           {
            "bin_end": 12,
            "bin_start": 10.5,
            "count": 72
           },
           {
            "bin_end": 13.5,
            "bin_start": 12,
            "count": 34
           },
           {
            "bin_end": 15,
            "bin_start": 13.5,
            "count": 4
           }
          ],
          "max": "15",
          "min": "0",
          "nan_count": 0,
          "unique_count": 16
         }
        },
        {
         "dtype": "int64",
         "name": "high",
         "stats": {
          "histogram": [
           {
            "bin_end": 1.5,
            "bin_start": 0,
            "count": 989
           },
           {
            "bin_end": 3,
            "bin_start": 1.5,
            "count": 1064
           },
           {
            "bin_end": 4.5,
            "bin_start": 3,
            "count": 3421
           },
           {
            "bin_end": 6,
            "bin_start": 4.5,
            "count": 2136
           },
           {
            "bin_end": 7.5,
            "bin_start": 6,
            "count": 5081
           },
           {
            "bin_end": 9,
            "bin_start": 7.5,
            "count": 2851
           },
           {
            "bin_end": 10.5,
            "bin_start": 9,
            "count": 347
           },
           {
            "bin_end": 12,
            "bin_start": 10.5,
            "count": 65
           },
           {
            "bin_end": 13.5,
            "bin_start": 12,
            "count": 31
           },
           {
            "bin_end": 15,
            "bin_start": 13.5,
            "count": 15
           }
          ],
          "max": "15",
          "min": "0",
          "nan_count": 0,
          "unique_count": 16
         }
        },
        {
         "dtype": "int64",
         "name": "onpix",
         "stats": {
          "histogram": [
           {
            "bin_end": 1.5,
            "bin_start": 0,
            "count": 2587
           },
           {
            "bin_end": 3,
            "bin_start": 1.5,
            "count": 3327
           },
           {
            "bin_end": 4.5,
            "bin_start": 3,
            "count": 5735
           },
           {
            "bin_end": 6,
            "bin_start": 4.5,
            "count": 1712
           },
           {
            "bin_end": 7.5,
            "bin_start": 6,
            "count": 1775
           },
           {
            "bin_end": 9,
            "bin_start": 7.5,
            "count": 414
           },
           {
            "bin_end": 10.5,
            "bin_start": 9,
            "count": 331
           },
           {
            "bin_end": 12,
            "bin_start": 10.5,
            "count": 67
           },
           {
            "bin_end": 13.5,
            "bin_start": 12,
            "count": 41
           },
           {
            "bin_end": 15,
            "bin_start": 13.5,
            "count": 11
           }
          ],
          "max": "15",
          "min": "0",
          "nan_count": 0,
          "unique_count": 16
         }
        },
        {
         "dtype": "int64",
         "name": "x-bar",
         "stats": {
          "histogram": [
           {
            "bin_end": 1.5,
            "bin_start": 0,
            "count": 244
           },
           {
            "bin_end": 3,
            "bin_start": 1.5,
            "count": 140
           },
           {
            "bin_end": 4.5,
            "bin_start": 3,
            "count": 1402
           },
           {
            "bin_end": 6,
            "bin_start": 4.5,
            "count": 1430
           },
           {
            "bin_end": 7.5,
            "bin_start": 6,
            "count": 6988
           },
           {
            "bin_end": 9,
            "bin_start": 7.5,
            "count": 3233
           },
           {
            "bin_end": 10.5,
            "bin_start": 9,
            "count": 2032
           },
           {
            "bin_end": 12,
            "bin_start": 10.5,
            "count": 284
           },
           {
            "bin_end": 13.5,
            "bin_start": 12,
            "count": 203
           },
           {
            "bin_end": 15,
            "bin_start": 13.5,
            "count": 44
           }
          ],
          "max": "15",
          "min": "0",
          "nan_count": 0,
          "unique_count": 16
         }
        },
        {
         "dtype": "int64",
         "name": "y-bar"
        },
        {
         "dtype": "int64",
         "name": "x2bar"
        },
        {
         "dtype": "int64",
         "name": "y2bar"
        },
        {
         "dtype": "int64",
         "name": "xybar"
        },
        {
         "dtype": "int64",
         "name": "x2ybr"
        },
        {
         "dtype": "int64",
         "name": "xy2br"
        },
        {
         "dtype": "int64",
         "name": "x-ege"
        },
        {
         "dtype": "int64",
         "name": "xegvy"
        },
        {
         "dtype": "int64",
         "name": "y-ege"
        },
        {
         "dtype": "int64",
         "name": "yegvx"
        },
        {
         "dtype": "int64",
         "name": "lettr"
        },
        {
         "dtype": "int64",
         "name": "_deepnote_index_column"
        }
       ],
       "row_count": 16000,
       "rows": [
        {
         "_deepnote_index_column": 16701,
         "high": 2,
         "lettr": 2,
         "onpix": 2,
         "width": 4,
         "x-bar": 8,
         "x-box": 2,
         "x-ege": 2,
         "x2bar": 3,
         "x2ybr": 5,
         "xegvy": 8,
         "xy2br": 6,
         "xybar": 10,
         "y-bar": 7,
         "y-box": 3,
         "y-ege": 4,
         "y2bar": 5,
         "yegvx": 9
        },
        {
         "_deepnote_index_column": 3001,
         "high": 5,
         "lettr": 1,
         "onpix": 3,
         "width": 5,
         "x-bar": 11,
         "x-box": 3,
         "x-ege": 2,
         "x2bar": 3,
         "x2ybr": 2,
         "xegvy": 6,
         "xy2br": 9,
         "xybar": 10,
         "y-bar": 2,
         "y-box": 7,
         "y-ege": 3,
         "y2bar": 2,
         "yegvx": 8
        },
        {
         "_deepnote_index_column": 14765,
         "high": 3,
         "lettr": 13,
         "onpix": 4,
         "width": 6,
         "x-bar": 7,
         "x-box": 5,
         "x-ege": 8,
         "x2bar": 7,
         "x2ybr": 8,
         "xegvy": 5,
         "xy2br": 10,
         "xybar": 7,
         "y-bar": 6,
         "y-box": 2,
         "y-ege": 2,
         "y2bar": 5,
         "yegvx": 9
        },
        {
         "_deepnote_index_column": 1550,
         "high": 5,
         "lettr": 2,
         "onpix": 3,
         "width": 3,
         "x-bar": 6,
         "x-box": 3,
         "x-ege": 2,
         "x2bar": 9,
         "x2ybr": 5,
         "xegvy": 8,
         "xy2br": 7,
         "xybar": 6,
         "y-bar": 8,
         "y-box": 7,
         "y-ege": 8,
         "y2bar": 6,
         "yegvx": 9
        },
        {
         "_deepnote_index_column": 6634,
         "high": 7,
         "lettr": 19,
         "onpix": 3,
         "width": 5,
         "x-bar": 7,
         "x-box": 4,
         "x-ege": 0,
         "x2bar": 6,
         "x2ybr": 6,
         "xegvy": 8,
         "xy2br": 8,
         "xybar": 5,
         "y-bar": 7,
         "y-box": 5,
         "y-ege": 9,
         "y2bar": 9,
         "yegvx": 7
        },
        {
         "_deepnote_index_column": 13646,
         "high": 13,
         "lettr": 25,
         "onpix": 5,
         "width": 8,
         "x-bar": 8,
         "x-box": 10,
         "x-ege": 4,
         "x2bar": 3,
         "x2ybr": 11,
         "xegvy": 10,
         "xy2br": 5,
         "xybar": 6,
         "y-bar": 9,
         "y-box": 9,
         "y-ege": 7,
         "y2bar": 3,
         "yegvx": 7
        },
        {
         "_deepnote_index_column": 18649,
         "high": 2,
         "lettr": 18,
         "onpix": 2,
         "width": 2,
         "x-bar": 6,
         "x-box": 2,
         "x-ege": 2,
         "x2bar": 4,
         "x2ybr": 5,
         "xegvy": 7,
         "xy2br": 6,
         "xybar": 6,
         "y-bar": 7,
         "y-box": 1,
         "y-ege": 3,
         "y2bar": 4,
         "yegvx": 8
        },
        {
         "_deepnote_index_column": 11312,
         "high": 2,
         "lettr": 17,
         "onpix": 1,
         "width": 2,
         "x-bar": 8,
         "x-box": 2,
         "x-ege": 3,
         "x2bar": 7,
         "x2ybr": 6,
         "xegvy": 8,
         "xy2br": 8,
         "xybar": 6,
         "y-bar": 6,
         "y-box": 1,
         "y-ege": 3,
         "y2bar": 4,
         "yegvx": 8
        },
        {
         "_deepnote_index_column": 14403,
         "high": 6,
         "lettr": 5,
         "onpix": 5,
         "width": 6,
         "x-bar": 7,
         "x-box": 4,
         "x-ege": 3,
         "x2bar": 6,
         "x2ybr": 4,
         "xegvy": 8,
         "xy2br": 9,
         "xybar": 6,
         "y-bar": 8,
         "y-box": 8,
         "y-ege": 6,
         "y2bar": 9,
         "yegvx": 8
        },
        {
         "_deepnote_index_column": 19316,
         "high": 6,
         "lettr": 18,
         "onpix": 3,
         "width": 4,
         "x-bar": 5,
         "x-box": 3,
         "x-ege": 3,
         "x2bar": 8,
         "x2ybr": 2,
         "xegvy": 7,
         "xy2br": 9,
         "xybar": 7,
         "y-bar": 11,
         "y-box": 4,
         "y-ege": 6,
         "y2bar": 4,
         "yegvx": 11
        }
       ]
      },
      "text/html": [
       "<div>\n",
       "<style scoped>\n",
       "    .dataframe tbody tr th:only-of-type {\n",
       "        vertical-align: middle;\n",
       "    }\n",
       "\n",
       "    .dataframe tbody tr th {\n",
       "        vertical-align: top;\n",
       "    }\n",
       "\n",
       "    .dataframe thead th {\n",
       "        text-align: right;\n",
       "    }\n",
       "</style>\n",
       "<table border=\"1\" class=\"dataframe\">\n",
       "  <thead>\n",
       "    <tr style=\"text-align: right;\">\n",
       "      <th></th>\n",
       "      <th>x-box</th>\n",
       "      <th>y-box</th>\n",
       "      <th>width</th>\n",
       "      <th>high</th>\n",
       "      <th>onpix</th>\n",
       "      <th>x-bar</th>\n",
       "      <th>y-bar</th>\n",
       "      <th>x2bar</th>\n",
       "      <th>y2bar</th>\n",
       "      <th>xybar</th>\n",
       "      <th>x2ybr</th>\n",
       "      <th>xy2br</th>\n",
       "      <th>x-ege</th>\n",
       "      <th>xegvy</th>\n",
       "      <th>y-ege</th>\n",
       "      <th>yegvx</th>\n",
       "      <th>lettr</th>\n",
       "    </tr>\n",
       "  </thead>\n",
       "  <tbody>\n",
       "    <tr>\n",
       "      <th>15275</th>\n",
       "      <td>3</td>\n",
       "      <td>5</td>\n",
       "      <td>5</td>\n",
       "      <td>4</td>\n",
       "      <td>2</td>\n",
       "      <td>8</td>\n",
       "      <td>7</td>\n",
       "      <td>3</td>\n",
       "      <td>8</td>\n",
       "      <td>11</td>\n",
       "      <td>5</td>\n",
       "      <td>7</td>\n",
       "      <td>1</td>\n",
       "      <td>9</td>\n",
       "      <td>5</td>\n",
       "      <td>8</td>\n",
       "      <td>19</td>\n",
       "    </tr>\n",
       "    <tr>\n",
       "      <th>18682</th>\n",
       "      <td>6</td>\n",
       "      <td>9</td>\n",
       "      <td>8</td>\n",
       "      <td>7</td>\n",
       "      <td>4</td>\n",
       "      <td>7</td>\n",
       "      <td>10</td>\n",
       "      <td>5</td>\n",
       "      <td>4</td>\n",
       "      <td>12</td>\n",
       "      <td>5</td>\n",
       "      <td>3</td>\n",
       "      <td>1</td>\n",
       "      <td>10</td>\n",
       "      <td>3</td>\n",
       "      <td>9</td>\n",
       "      <td>16</td>\n",
       "    </tr>\n",
       "    <tr>\n",
       "      <th>15432</th>\n",
       "      <td>4</td>\n",
       "      <td>11</td>\n",
       "      <td>5</td>\n",
       "      <td>8</td>\n",
       "      <td>3</td>\n",
       "      <td>8</td>\n",
       "      <td>8</td>\n",
       "      <td>9</td>\n",
       "      <td>8</td>\n",
       "      <td>6</td>\n",
       "      <td>8</td>\n",
       "      <td>8</td>\n",
       "      <td>3</td>\n",
       "      <td>8</td>\n",
       "      <td>4</td>\n",
       "      <td>8</td>\n",
       "      <td>15</td>\n",
       "    </tr>\n",
       "    <tr>\n",
       "      <th>9617</th>\n",
       "      <td>3</td>\n",
       "      <td>3</td>\n",
       "      <td>5</td>\n",
       "      <td>5</td>\n",
       "      <td>2</td>\n",
       "      <td>6</td>\n",
       "      <td>4</td>\n",
       "      <td>3</td>\n",
       "      <td>1</td>\n",
       "      <td>6</td>\n",
       "      <td>1</td>\n",
       "      <td>8</td>\n",
       "      <td>3</td>\n",
       "      <td>7</td>\n",
       "      <td>2</td>\n",
       "      <td>7</td>\n",
       "      <td>1</td>\n",
       "    </tr>\n",
       "    <tr>\n",
       "      <th>6881</th>\n",
       "      <td>9</td>\n",
       "      <td>13</td>\n",
       "      <td>9</td>\n",
       "      <td>7</td>\n",
       "      <td>5</td>\n",
       "      <td>8</td>\n",
       "      <td>7</td>\n",
       "      <td>2</td>\n",
       "      <td>8</td>\n",
       "      <td>11</td>\n",
       "      <td>4</td>\n",
       "      <td>7</td>\n",
       "      <td>4</td>\n",
       "      <td>9</td>\n",
       "      <td>4</td>\n",
       "      <td>7</td>\n",
       "      <td>24</td>\n",
       "    </tr>\n",
       "    <tr>\n",
       "      <th>...</th>\n",
       "      <td>...</td>\n",
       "      <td>...</td>\n",
       "      <td>...</td>\n",
       "      <td>...</td>\n",
       "      <td>...</td>\n",
       "      <td>...</td>\n",
       "      <td>...</td>\n",
       "      <td>...</td>\n",
       "      <td>...</td>\n",
       "      <td>...</td>\n",
       "      <td>...</td>\n",
       "      <td>...</td>\n",
       "      <td>...</td>\n",
       "      <td>...</td>\n",
       "      <td>...</td>\n",
       "      <td>...</td>\n",
       "      <td>...</td>\n",
       "    </tr>\n",
       "    <tr>\n",
       "      <th>13646</th>\n",
       "      <td>10</td>\n",
       "      <td>9</td>\n",
       "      <td>8</td>\n",
       "      <td>13</td>\n",
       "      <td>5</td>\n",
       "      <td>8</td>\n",
       "      <td>9</td>\n",
       "      <td>3</td>\n",
       "      <td>3</td>\n",
       "      <td>6</td>\n",
       "      <td>11</td>\n",
       "      <td>5</td>\n",
       "      <td>4</td>\n",
       "      <td>10</td>\n",
       "      <td>7</td>\n",
       "      <td>7</td>\n",
       "      <td>25</td>\n",
       "    </tr>\n",
       "    <tr>\n",
       "      <th>18649</th>\n",
       "      <td>2</td>\n",
       "      <td>1</td>\n",
       "      <td>2</td>\n",
       "      <td>2</td>\n",
       "      <td>2</td>\n",
       "      <td>6</td>\n",
       "      <td>7</td>\n",
       "      <td>4</td>\n",
       "      <td>4</td>\n",
       "      <td>6</td>\n",
       "      <td>5</td>\n",
       "      <td>6</td>\n",
       "      <td>2</td>\n",
       "      <td>7</td>\n",
       "      <td>3</td>\n",
       "      <td>8</td>\n",
       "      <td>18</td>\n",
       "    </tr>\n",
       "    <tr>\n",
       "      <th>11312</th>\n",
       "      <td>2</td>\n",
       "      <td>1</td>\n",
       "      <td>2</td>\n",
       "      <td>2</td>\n",
       "      <td>1</td>\n",
       "      <td>8</td>\n",
       "      <td>6</td>\n",
       "      <td>7</td>\n",
       "      <td>4</td>\n",
       "      <td>6</td>\n",
       "      <td>6</td>\n",
       "      <td>8</td>\n",
       "      <td>3</td>\n",
       "      <td>8</td>\n",
       "      <td>3</td>\n",
       "      <td>8</td>\n",
       "      <td>17</td>\n",
       "    </tr>\n",
       "    <tr>\n",
       "      <th>14403</th>\n",
       "      <td>4</td>\n",
       "      <td>8</td>\n",
       "      <td>6</td>\n",
       "      <td>6</td>\n",
       "      <td>5</td>\n",
       "      <td>7</td>\n",
       "      <td>8</td>\n",
       "      <td>6</td>\n",
       "      <td>9</td>\n",
       "      <td>6</td>\n",
       "      <td>4</td>\n",
       "      <td>9</td>\n",
       "      <td>3</td>\n",
       "      <td>8</td>\n",
       "      <td>6</td>\n",
       "      <td>8</td>\n",
       "      <td>5</td>\n",
       "    </tr>\n",
       "    <tr>\n",
       "      <th>19316</th>\n",
       "      <td>3</td>\n",
       "      <td>4</td>\n",
       "      <td>4</td>\n",
       "      <td>6</td>\n",
       "      <td>3</td>\n",
       "      <td>5</td>\n",
       "      <td>11</td>\n",
       "      <td>8</td>\n",
       "      <td>4</td>\n",
       "      <td>7</td>\n",
       "      <td>2</td>\n",
       "      <td>9</td>\n",
       "      <td>3</td>\n",
       "      <td>7</td>\n",
       "      <td>6</td>\n",
       "      <td>11</td>\n",
       "      <td>18</td>\n",
       "    </tr>\n",
       "  </tbody>\n",
       "</table>\n",
       "<p>16000 rows × 17 columns</p>\n",
       "</div>"
      ],
      "text/plain": [
       "       x-box  y-box  width  high  onpix  x-bar  y-bar  x2bar  y2bar  xybar  \\\n",
       "15275      3      5      5     4      2      8      7      3      8     11   \n",
       "18682      6      9      8     7      4      7     10      5      4     12   \n",
       "15432      4     11      5     8      3      8      8      9      8      6   \n",
       "9617       3      3      5     5      2      6      4      3      1      6   \n",
       "6881       9     13      9     7      5      8      7      2      8     11   \n",
       "...      ...    ...    ...   ...    ...    ...    ...    ...    ...    ...   \n",
       "13646     10      9      8    13      5      8      9      3      3      6   \n",
       "18649      2      1      2     2      2      6      7      4      4      6   \n",
       "11312      2      1      2     2      1      8      6      7      4      6   \n",
       "14403      4      8      6     6      5      7      8      6      9      6   \n",
       "19316      3      4      4     6      3      5     11      8      4      7   \n",
       "\n",
       "       x2ybr  xy2br  x-ege  xegvy  y-ege  yegvx  lettr  \n",
       "15275      5      7      1      9      5      8     19  \n",
       "18682      5      3      1     10      3      9     16  \n",
       "15432      8      8      3      8      4      8     15  \n",
       "9617       1      8      3      7      2      7      1  \n",
       "6881       4      7      4      9      4      7     24  \n",
       "...      ...    ...    ...    ...    ...    ...    ...  \n",
       "13646     11      5      4     10      7      7     25  \n",
       "18649      5      6      2      7      3      8     18  \n",
       "11312      6      8      3      8      3      8     17  \n",
       "14403      4      9      3      8      6      8      5  \n",
       "19316      2      9      3      7      6     11     18  \n",
       "\n",
       "[16000 rows x 17 columns]"
      ]
     },
     "execution_count": 16,
     "metadata": {},
     "output_type": "execute_result"
    }
   ],
   "outputs_reference": "s3:deepnote-cell-outputs-production/6ac7d74a-2d12-4882-86c3-dc539c8a7007",
   "source": [
    "df1 = X_train\n",
    "df2 = Y_train\n",
    "\n",
    "df_train = pd.concat([df1,df2], axis=1, join='inner')\n",
    "\n",
    "df_train"
   ]
  },
  {
   "block_group": "58860189e9aa42f5bcd7149bd02fec71",
   "cell_type": "markdown",
   "metadata": {
    "cell_id": "5bf4f3b8989a4b1294ac7180e35911fc",
    "deepnote_cell_type": "text-cell-p",
    "formattedRanges": []
   },
   "source": [
    "Penjelasan code"
   ]
  },
  {
   "block_group": "4eca62fe0a25464fb8682aa730d226da",
   "cell_type": "markdown",
   "metadata": {
    "cell_id": "d52ca210cfa7493ab5ef71fd29f06234",
    "deepnote_cell_type": "text-cell-p",
    "formattedRanges": []
   },
   "source": [
    "Code tersebut digunakan untuk menampilkan data train "
   ]
  },
  {
   "block_group": "a68ce39f8f444e0e8e1a415fdd4473fc",
   "cell_type": "code",
   "content_dependencies": {
    "codeHash": "282c0627",
    "definedVariables": [
     "df_test",
     "df3",
     "df4"
    ],
    "importedModules": [],
    "usedVariables": [
     "Y_test",
     "pd",
     "df3",
     "X_test",
     "df_test",
     "df4"
    ]
   },
   "execution_count": null,
   "metadata": {
    "cell_id": "46c8719ed96e4e18939b9e2b6b51ee4b",
    "deepnote_cell_type": "code",
    "deepnote_to_be_reexecuted": false,
    "execution_millis": 354,
    "execution_start": 1719397043353,
    "source_hash": null
   },
   "outputs": [
    {
     "data": {
      "application/vnd.deepnote.dataframe.v3+json": {
       "column_count": 17,
       "columns": [
        {
         "dtype": "int64",
         "name": "x-box",
         "stats": {
          "histogram": [
           {
            "bin_end": 1.4,
            "bin_start": 0,
            "count": 277
           },
           {
            "bin_end": 2.8,
            "bin_start": 1.4,
            "count": 577
           },
           {
            "bin_end": 4.199999999999999,
            "bin_start": 2.8,
            "count": 1723
           },
           {
            "bin_end": 5.6,
            "bin_start": 4.199999999999999,
            "count": 656
           },
           {
            "bin_end": 7,
            "bin_start": 5.6,
            "count": 364
           },
           {
            "bin_end": 8.399999999999999,
            "bin_start": 7,
            "count": 301
           },
           {
            "bin_end": 9.799999999999999,
            "bin_start": 8.399999999999999,
            "count": 56
           },
           {
            "bin_end": 11.2,
            "bin_start": 9.799999999999999,
            "count": 37
           },
           {
            "bin_end": 12.6,
            "bin_start": 11.2,
            "count": 7
           },
           {
            "bin_end": 14,
            "bin_start": 12.6,
            "count": 2
           }
          ],
          "max": "14",
          "min": "0",
          "nan_count": 0,
          "unique_count": 14
         }
        },
        {
         "dtype": "int64",
         "name": "y-box",
         "stats": {
          "histogram": [
           {
            "bin_end": 1.5,
            "bin_start": 0,
            "count": 309
           },
           {
            "bin_end": 3,
            "bin_start": 1.5,
            "count": 99
           },
           {
            "bin_end": 4.5,
            "bin_start": 3,
            "count": 525
           },
           {
            "bin_end": 6,
            "bin_start": 4.5,
            "count": 333
           },
           {
            "bin_end": 7.5,
            "bin_start": 6,
            "count": 784
           },
           {
            "bin_end": 9,
            "bin_start": 7.5,
            "count": 462
           },
           {
            "bin_end": 10.5,
            "bin_start": 9,
            "count": 941
           },
           {
            "bin_end": 12,
            "bin_start": 10.5,
            "count": 336
           },
           {
            "bin_end": 13.5,
            "bin_start": 12,
            "count": 114
           },
           {
            "bin_end": 15,
            "bin_start": 13.5,
            "count": 97
           }
          ],
          "max": "15",
          "min": "0",
          "nan_count": 0,
          "unique_count": 16
         }
        },
        {
         "dtype": "int64",
         "name": "width",
         "stats": {
          "histogram": [
           {
            "bin_end": 1.4,
            "bin_start": 0,
            "count": 112
           },
           {
            "bin_end": 2.8,
            "bin_start": 1.4,
            "count": 273
           },
           {
            "bin_end": 4.199999999999999,
            "bin_start": 2.8,
            "count": 1151
           },
           {
            "bin_end": 5.6,
            "bin_start": 4.199999999999999,
            "count": 859
           },
           {
            "bin_end": 7,
            "bin_start": 5.6,
            "count": 709
           },
           {
            "bin_end": 8.399999999999999,
            "bin_start": 7,
            "count": 673
           },
           {
            "bin_end": 9.799999999999999,
            "bin_start": 8.399999999999999,
            "count": 142
           },
           {
            "bin_end": 11.2,
            "bin_start": 9.799999999999999,
            "count": 68
           },
           {
            "bin_end": 12.6,
            "bin_start": 11.2,
            "count": 9
           },
           {
            "bin_end": 14,
            "bin_start": 12.6,
            "count": 4
           }
          ],
          "max": "14",
          "min": "0",
          "nan_count": 0,
          "unique_count": 15
         }
        },
        {
         "dtype": "int64",
         "name": "high",
         "stats": {
          "histogram": [
           {
            "bin_end": 1.4,
            "bin_start": 0,
            "count": 259
           },
           {
            "bin_end": 2.8,
            "bin_start": 1.4,
            "count": 240
           },
           {
            "bin_end": 4.199999999999999,
            "bin_start": 2.8,
            "count": 856
           },
           {
            "bin_end": 5.6,
            "bin_start": 4.199999999999999,
            "count": 539
           },
           {
            "bin_end": 7,
            "bin_start": 5.6,
            "count": 742
           },
           {
            "bin_end": 8.399999999999999,
            "bin_start": 7,
            "count": 1236
           },
           {
            "bin_end": 9.799999999999999,
            "bin_start": 8.399999999999999,
            "count": 84
           },
           {
            "bin_end": 11.2,
            "bin_start": 9.799999999999999,
            "count": 30
           },
           {
            "bin_end": 12.6,
            "bin_start": 11.2,
            "count": 8
           },
           {
            "bin_end": 14,
            "bin_start": 12.6,
            "count": 6
           }
          ],
          "max": "14",
          "min": "0",
          "nan_count": 0,
          "unique_count": 15
         }
        },
        {
         "dtype": "int64",
         "name": "onpix",
         "stats": {
          "histogram": [
           {
            "bin_end": 1.5,
            "bin_start": 0,
            "count": 680
           },
           {
            "bin_end": 3,
            "bin_start": 1.5,
            "count": 826
           },
           {
            "bin_end": 4.5,
            "bin_start": 3,
            "count": 1361
           },
           {
            "bin_end": 6,
            "bin_start": 4.5,
            "count": 441
           },
           {
            "bin_end": 7.5,
            "bin_start": 6,
            "count": 461
           },
           {
            "bin_end": 9,
            "bin_start": 7.5,
            "count": 105
           },
           {
            "bin_end": 10.5,
            "bin_start": 9,
            "count": 94
           },
           {
            "bin_end": 12,
            "bin_start": 10.5,
            "count": 18
           },
           {
            "bin_end": 13.5,
            "bin_start": 12,
            "count": 12
           },
           {
            "bin_end": 15,
            "bin_start": 13.5,
            "count": 2
           }
          ],
          "max": "15",
          "min": "0",
          "nan_count": 0,
          "unique_count": 16
         }
        },
        {
         "dtype": "int64",
         "name": "x-bar",
         "stats": {
          "histogram": [
           {
            "bin_end": 1.5,
            "bin_start": 0,
            "count": 83
           },
           {
            "bin_end": 3,
            "bin_start": 1.5,
            "count": 27
           },
           {
            "bin_end": 4.5,
            "bin_start": 3,
            "count": 347
           },
           {
            "bin_end": 6,
            "bin_start": 4.5,
            "count": 350
           },
           {
            "bin_end": 7.5,
            "bin_start": 6,
            "count": 1753
           },
           {
            "bin_end": 9,
            "bin_start": 7.5,
            "count": 786
           },
           {
            "bin_end": 10.5,
            "bin_start": 9,
            "count": 522
           },
           {
            "bin_end": 12,
            "bin_start": 10.5,
            "count": 54
           },
           {
            "bin_end": 13.5,
            "bin_start": 12,
            "count": 65
           },
           {
            "bin_end": 15,
            "bin_start": 13.5,
            "count": 13
           }
          ],
          "max": "15",
          "min": "0",
          "nan_count": 0,
          "unique_count": 16
         }
        },
        {
         "dtype": "int64",
         "name": "y-bar",
         "stats": {
          "histogram": [
           {
            "bin_end": 1.5,
            "bin_start": 0,
            "count": 51
           },
           {
            "bin_end": 3,
            "bin_start": 1.5,
            "count": 75
           },
           {
            "bin_end": 4.5,
            "bin_start": 3,
            "count": 242
           },
           {
            "bin_end": 6,
            "bin_start": 4.5,
            "count": 172
           },
           {
            "bin_end": 7.5,
            "bin_start": 6,
            "count": 1703
           },
           {
            "bin_end": 9,
            "bin_start": 7.5,
            "count": 748
           },
           {
            "bin_end": 10.5,
            "bin_start": 9,
            "count": 563
           },
           {
            "bin_end": 12,
            "bin_start": 10.5,
            "count": 236
           },
           {
            "bin_end": 13.5,
            "bin_start": 12,
            "count": 154
           },
           {
            "bin_end": 15,
            "bin_start": 13.5,
            "count": 56
           }
          ],
          "max": "15",
          "min": "0",
          "nan_count": 0,
          "unique_count": 16
         }
        },
        {
         "dtype": "int64",
         "name": "x2bar",
         "stats": {
          "histogram": [
           {
            "bin_end": 1.5,
            "bin_start": 0,
            "count": 308
           },
           {
            "bin_end": 3,
            "bin_start": 1.5,
            "count": 484
           },
           {
            "bin_end": 4.5,
            "bin_start": 3,
            "count": 1343
           },
           {
            "bin_end": 6,
            "bin_start": 4.5,
            "count": 598
           },
           {
            "bin_end": 7.5,
            "bin_start": 6,
            "count": 773
           },
           {
            "bin_end": 9,
            "bin_start": 7.5,
            "count": 198
           },
           {
            "bin_end": 10.5,
            "bin_start": 9,
            "count": 161
           },
           {
            "bin_end": 12,
            "bin_start": 10.5,
            "count": 26
           },
           {
            "bin_end": 13.5,
            "bin_start": 12,
            "count": 48
           },
           {
            "bin_end": 15,
            "bin_start": 13.5,
            "count": 61
           }
          ],
          "max": "15",
          "min": "0",
          "nan_count": 0,
          "unique_count": 16
         }
        },
        {
         "dtype": "int64",
         "name": "y2bar",
         "stats": {
          "histogram": [
           {
            "bin_end": 1.5,
            "bin_start": 0,
            "count": 224
           },
           {
            "bin_end": 3,
            "bin_start": 1.5,
            "count": 354
           },
           {
            "bin_end": 4.5,
            "bin_start": 3,
            "count": 1016
           },
           {
            "bin_end": 6,
            "bin_start": 4.5,
            "count": 647
           },
           {
            "bin_end": 7.5,
            "bin_start": 6,
            "count": 1168
           },
           {
            "bin_end": 9,
            "bin_start": 7.5,
            "count": 334
           },
           {
            "bin_end": 10.5,
            "bin_start": 9,
            "count": 209
           },
           {
            "bin_end": 12,
            "bin_start": 10.5,
            "count": 21
           },
           {
            "bin_end": 13.5,
            "bin_start": 12,
            "count": 11
           },
           {
            "bin_end": 15,
            "bin_start": 13.5,
            "count": 16
           }
          ],
          "max": "15",
          "min": "0",
          "nan_count": 0,
          "unique_count": 16
         }
        },
        {
         "dtype": "int64",
         "name": "xybar",
         "stats": {
          "histogram": [
           {
            "bin_end": 1.5,
            "bin_start": 0,
            "count": 56
           },
           {
            "bin_end": 3,
            "bin_start": 1.5,
            "count": 27
           },
           {
            "bin_end": 4.5,
            "bin_start": 3,
            "count": 65
           },
           {
            "bin_end": 6,
            "bin_start": 4.5,
            "count": 162
           },
           {
            "bin_end": 7.5,
            "bin_start": 6,
            "count": 1638
           },
           {
            "bin_end": 9,
            "bin_start": 7.5,
            "count": 361
           },
           {
            "bin_end": 10.5,
            "bin_start": 9,
            "count": 907
           },
           {
            "bin_end": 12,
            "bin_start": 10.5,
            "count": 350
           },
           {
            "bin_end": 13.5,
            "bin_start": 12,
            "count": 353
           },
           {
            "bin_end": 15,
            "bin_start": 13.5,
            "count": 81
           }
          ],
          "max": "15",
          "min": "0",
          "nan_count": 0,
          "unique_count": 16
         }
        },
        {
         "dtype": "int64",
         "name": "x2ybr",
         "stats": {
          "histogram": [
           {
            "bin_end": 1.5,
            "bin_start": 0,
            "count": 155
           },
           {
            "bin_end": 3,
            "bin_start": 1.5,
            "count": 163
           },
           {
            "bin_end": 4.5,
            "bin_start": 3,
            "count": 422
           },
           {
            "bin_end": 6,
            "bin_start": 4.5,
            "count": 522
           },
           {
            "bin_end": 7.5,
            "bin_start": 6,
            "count": 1640
           },
           {
            "bin_end": 9,
            "bin_start": 7.5,
            "count": 313
           },
           {
            "bin_end": 10.5,
            "bin_start": 9,
            "count": 466
           },
           {
            "bin_end": 12,
            "bin_start": 10.5,
            "count": 183
           },
           {
            "bin_end": 13.5,
            "bin_start": 12,
            "count": 114
           },
           {
            "bin_end": 15,
            "bin_start": 13.5,
            "count": 22
           }
          ],
          "max": "15",
          "min": "0",
          "nan_count": 0,
          "unique_count": 16
         }
        },
        {
         "dtype": "int64",
         "name": "xy2br",
         "stats": {
          "histogram": [
           {
            "bin_end": 2.4,
            "bin_start": 1,
            "count": 19
           },
           {
            "bin_end": 3.8,
            "bin_start": 2.4,
            "count": 42
           },
           {
            "bin_end": 5.199999999999999,
            "bin_start": 3.8,
            "count": 471
           },
           {
            "bin_end": 6.6,
            "bin_start": 5.199999999999999,
            "count": 372
           },
           {
            "bin_end": 8,
            "bin_start": 6.6,
            "count": 565
           },
           {
            "bin_end": 9.399999999999999,
            "bin_start": 8,
            "count": 1844
           },
           {
            "bin_end": 10.799999999999999,
            "bin_start": 9.399999999999999,
            "count": 293
           },
           {
            "bin_end": 12.2,
            "bin_start": 10.799999999999999,
            "count": 274
           },
           {
            "bin_end": 13.6,
            "bin_start": 12.2,
            "count": 62
           },
           {
            "bin_end": 15,
            "bin_start": 13.6,
            "count": 58
           }
          ],
          "max": "15",
          "min": "1",
          "nan_count": 0,
          "unique_count": 15
         }
        },
        {
         "dtype": "int64",
         "name": "x-ege",
         "stats": {
          "histogram": [
           {
            "bin_end": 1.5,
            "bin_start": 0,
            "count": 1016
           },
           {
            "bin_end": 3,
            "bin_start": 1.5,
            "count": 787
           },
           {
            "bin_end": 4.5,
            "bin_start": 3,
            "count": 1265
           },
           {
            "bin_end": 6,
            "bin_start": 4.5,
            "count": 288
           },
           {
            "bin_end": 7.5,
            "bin_start": 6,
            "count": 406
           },
           {
            "bin_end": 9,
            "bin_start": 7.5,
            "count": 122
           },
           {
            "bin_end": 10.5,
            "bin_start": 9,
            "count": 84
           },
           {
            "bin_end": 12,
            "bin_start": 10.5,
            "count": 19
           },
           {
            "bin_end": 13.5,
            "bin_start": 12,
            "count": 8
           },
           {
            "bin_end": 15,
            "bin_start": 13.5,
            "count": 5
           }
          ],
          "max": "15",
          "min": "0",
          "nan_count": 0,
          "unique_count": 16
         }
        },
        {
         "dtype": "int64",
         "name": "xegvy",
         "stats": {
          "histogram": [
           {
            "bin_end": 1.5,
            "bin_start": 0,
            "count": 3
           },
           {
            "bin_end": 3,
            "bin_start": 1.5,
            "count": 1
           },
           {
            "bin_end": 4.5,
            "bin_start": 3,
            "count": 18
           },
           {
            "bin_end": 6,
            "bin_start": 4.5,
            "count": 85
           },
           {
            "bin_end": 7.5,
            "bin_start": 6,
            "count": 837
           },
           {
            "bin_end": 9,
            "bin_start": 7.5,
            "count": 1511
           },
           {
            "bin_end": 10.5,
            "bin_start": 9,
            "count": 1160
           },
           {
            "bin_end": 12,
            "bin_start": 10.5,
            "count": 291
           },
           {
            "bin_end": 13.5,
            "bin_start": 12,
            "count": 91
           },
           {
            "bin_end": 15,
            "bin_start": 13.5,
            "count": 3
           }
          ],
          "max": "15",
          "min": "0",
          "nan_count": 0,
          "unique_count": 16
         }
        },
        {
         "dtype": "int64",
         "name": "y-ege",
         "stats": {
          "histogram": [
           {
            "bin_end": 1.5,
            "bin_start": 0,
            "count": 946
           },
           {
            "bin_end": 3,
            "bin_start": 1.5,
            "count": 495
           },
           {
            "bin_end": 4.5,
            "bin_start": 3,
            "count": 1186
           },
           {
            "bin_end": 6,
            "bin_start": 4.5,
            "count": 442
           },
           {
            "bin_end": 7.5,
            "bin_start": 6,
            "count": 560
           },
           {
            "bin_end": 9,
            "bin_start": 7.5,
            "count": 185
           },
           {
            "bin_end": 10.5,
            "bin_start": 9,
            "count": 170
           },
           {
            "bin_end": 12,
            "bin_start": 10.5,
            "count": 7
           },
           {
            "bin_end": 13.5,
            "bin_start": 12,
            "count": 7
           },
           {
            "bin_end": 15,
            "bin_start": 13.5,
            "count": 2
           }
          ],
          "max": "15",
          "min": "0",
          "nan_count": 0,
          "unique_count": 16
         }
        },
        {
         "dtype": "int64",
         "name": "yegvx",
         "stats": {
          "histogram": [
           {
            "bin_end": 2.4,
            "bin_start": 1,
            "count": 6
           },
           {
            "bin_end": 3.8,
            "bin_start": 2.4,
            "count": 28
           },
           {
            "bin_end": 5.199999999999999,
            "bin_start": 3.8,
            "count": 300
           },
           {
            "bin_end": 6.6,
            "bin_start": 5.199999999999999,
            "count": 392
           },
           {
            "bin_end": 8,
            "bin_start": 6.6,
            "count": 719
           },
           {
            "bin_end": 9.399999999999999,
            "bin_start": 8,
            "count": 2047
           },
           {
            "bin_end": 10.799999999999999,
            "bin_start": 9.399999999999999,
            "count": 298
           },
           {
            "bin_end": 12.2,
            "bin_start": 10.799999999999999,
            "count": 198
           },
           {
            "bin_end": 13.6,
            "bin_start": 12.2,
            "count": 10
           },
           {
            "bin_end": 15,
            "bin_start": 13.6,
            "count": 2
           }
          ],
          "max": "15",
          "min": "1",
          "nan_count": 0,
          "unique_count": 14
         }
        },
        {
         "dtype": "int64",
         "name": "lettr",
         "stats": {
          "histogram": [
           {
            "bin_end": 3.5,
            "bin_start": 1,
            "count": 462
           },
           {
            "bin_end": 6,
            "bin_start": 3.5,
            "count": 308
           },
           {
            "bin_end": 8.5,
            "bin_start": 6,
            "count": 446
           },
           {
            "bin_end": 11,
            "bin_start": 8.5,
            "count": 310
           },
           {
            "bin_end": 13.5,
            "bin_start": 11,
            "count": 463
           },
           {
            "bin_end": 16,
            "bin_start": 13.5,
            "count": 325
           },
           {
            "bin_end": 18.5,
            "bin_start": 16,
            "count": 508
           },
           {
            "bin_end": 21,
            "bin_start": 18.5,
            "count": 296
           },
           {
            "bin_end": 23.5,
            "bin_start": 21,
            "count": 455
           },
           {
            "bin_end": 26,
            "bin_start": 23.5,
            "count": 427
           }
          ],
          "max": "26",
          "min": "1",
          "nan_count": 0,
          "unique_count": 26
         }
        },
        {
         "dtype": "int64",
         "name": "_deepnote_index_column"
        }
       ],
       "row_count": 4000,
       "rows": [
        {
         "_deepnote_index_column": 18085,
         "high": 7,
         "lettr": 20,
         "onpix": 3,
         "width": 5,
         "x-bar": 8,
         "x-box": 6,
         "x-ege": 2,
         "x2bar": 3,
         "x2ybr": 5,
         "xegvy": 9,
         "xy2br": 7,
         "xybar": 11,
         "y-bar": 7,
         "y-box": 13,
         "y-ege": 5,
         "y2bar": 7,
         "yegvx": 6
        },
        {
         "_deepnote_index_column": 6869,
         "high": 6,
         "lettr": 21,
         "onpix": 3,
         "width": 8,
         "x-bar": 4,
         "x-box": 7,
         "x-ege": 3,
         "x2bar": 6,
         "x2ybr": 11,
         "xegvy": 9,
         "xy2br": 8,
         "xybar": 12,
         "y-bar": 9,
         "y-box": 8,
         "y-ege": 1,
         "y2bar": 9,
         "yegvx": 6
        },
        {
         "_deepnote_index_column": 19266,
         "high": 7,
         "lettr": 20,
         "onpix": 8,
         "width": 7,
         "x-bar": 6,
         "x-box": 5,
         "x-ege": 5,
         "x2bar": 3,
         "x2ybr": 7,
         "xegvy": 8,
         "xy2br": 10,
         "xybar": 7,
         "y-bar": 7,
         "y-box": 10,
         "y-ege": 5,
         "y2bar": 6,
         "yegvx": 6
        },
        {
         "_deepnote_index_column": 1937,
         "high": 3,
         "lettr": 21,
         "onpix": 2,
         "width": 5,
         "x-bar": 7,
         "x-box": 3,
         "x-ege": 3,
         "x2bar": 6,
         "x2ybr": 10,
         "xegvy": 9,
         "xy2br": 9,
         "xybar": 7,
         "y-bar": 9,
         "y-box": 5,
         "y-ege": 1,
         "y2bar": 7,
         "yegvx": 8
        },
        {
         "_deepnote_index_column": 2076,
         "high": 6,
         "lettr": 3,
         "onpix": 3,
         "width": 4,
         "x-bar": 5,
         "x-box": 3,
         "x-ege": 1,
         "x2bar": 6,
         "x2ybr": 8,
         "xegvy": 9,
         "xy2br": 14,
         "xybar": 9,
         "y-bar": 8,
         "y-box": 8,
         "y-ege": 3,
         "y2bar": 6,
         "yegvx": 10
        },
        {
         "_deepnote_index_column": 3365,
         "high": 6,
         "lettr": 23,
         "onpix": 11,
         "width": 8,
         "x-bar": 7,
         "x-box": 5,
         "x-ege": 15,
         "x2bar": 7,
         "x2ybr": 6,
         "xegvy": 12,
         "xy2br": 8,
         "xybar": 7,
         "y-bar": 7,
         "y-box": 8,
         "y-ege": 4,
         "y2bar": 2,
         "yegvx": 11
        },
        {
         "_deepnote_index_column": 1292,
         "high": 8,
         "lettr": 2,
         "onpix": 8,
         "width": 6,
         "x-bar": 7,
         "x-box": 4,
         "x-ege": 3,
         "x2bar": 6,
         "x2ybr": 6,
         "xegvy": 8,
         "xy2br": 6,
         "xybar": 7,
         "y-bar": 7,
         "y-box": 11,
         "y-ege": 6,
         "y2bar": 5,
         "yegvx": 10
        },
        {
         "_deepnote_index_column": 12069,
         "high": 8,
         "lettr": 15,
         "onpix": 6,
         "width": 7,
         "x-bar": 7,
         "x-box": 5,
         "x-ege": 6,
         "x2bar": 8,
         "x2ybr": 7,
         "xegvy": 7,
         "xy2br": 11,
         "xybar": 6,
         "y-bar": 7,
         "y-box": 11,
         "y-ege": 5,
         "y2bar": 5,
         "yegvx": 7
        },
        {
         "_deepnote_index_column": 6907,
         "high": 8,
         "lettr": 3,
         "onpix": 4,
         "width": 5,
         "x-bar": 6,
         "x-box": 6,
         "x-ege": 4,
         "x2bar": 5,
         "x2ybr": 8,
         "xegvy": 9,
         "xy2br": 10,
         "xybar": 9,
         "y-bar": 8,
         "y-box": 13,
         "y-ege": 10,
         "y2bar": 4,
         "yegvx": 8
        },
        {
         "_deepnote_index_column": 7965,
         "high": 5,
         "lettr": 19,
         "onpix": 7,
         "width": 5,
         "x-bar": 8,
         "x-box": 3,
         "x-ege": 2,
         "x2bar": 4,
         "x2ybr": 6,
         "xegvy": 7,
         "xy2br": 7,
         "xybar": 7,
         "y-bar": 9,
         "y-box": 7,
         "y-ege": 8,
         "y2bar": 4,
         "yegvx": 1
        }
       ]
      },
      "text/html": [
       "<div>\n",
       "<style scoped>\n",
       "    .dataframe tbody tr th:only-of-type {\n",
       "        vertical-align: middle;\n",
       "    }\n",
       "\n",
       "    .dataframe tbody tr th {\n",
       "        vertical-align: top;\n",
       "    }\n",
       "\n",
       "    .dataframe thead th {\n",
       "        text-align: right;\n",
       "    }\n",
       "</style>\n",
       "<table border=\"1\" class=\"dataframe\">\n",
       "  <thead>\n",
       "    <tr style=\"text-align: right;\">\n",
       "      <th></th>\n",
       "      <th>x-box</th>\n",
       "      <th>y-box</th>\n",
       "      <th>width</th>\n",
       "      <th>high</th>\n",
       "      <th>onpix</th>\n",
       "      <th>x-bar</th>\n",
       "      <th>y-bar</th>\n",
       "      <th>x2bar</th>\n",
       "      <th>y2bar</th>\n",
       "      <th>xybar</th>\n",
       "      <th>x2ybr</th>\n",
       "      <th>xy2br</th>\n",
       "      <th>x-ege</th>\n",
       "      <th>xegvy</th>\n",
       "      <th>y-ege</th>\n",
       "      <th>yegvx</th>\n",
       "      <th>lettr</th>\n",
       "    </tr>\n",
       "  </thead>\n",
       "  <tbody>\n",
       "    <tr>\n",
       "      <th>18085</th>\n",
       "      <td>6</td>\n",
       "      <td>13</td>\n",
       "      <td>5</td>\n",
       "      <td>7</td>\n",
       "      <td>3</td>\n",
       "      <td>8</td>\n",
       "      <td>7</td>\n",
       "      <td>3</td>\n",
       "      <td>7</td>\n",
       "      <td>11</td>\n",
       "      <td>5</td>\n",
       "      <td>7</td>\n",
       "      <td>2</td>\n",
       "      <td>9</td>\n",
       "      <td>5</td>\n",
       "      <td>6</td>\n",
       "      <td>20</td>\n",
       "    </tr>\n",
       "    <tr>\n",
       "      <th>6869</th>\n",
       "      <td>7</td>\n",
       "      <td>8</td>\n",
       "      <td>8</td>\n",
       "      <td>6</td>\n",
       "      <td>3</td>\n",
       "      <td>4</td>\n",
       "      <td>9</td>\n",
       "      <td>6</td>\n",
       "      <td>9</td>\n",
       "      <td>12</td>\n",
       "      <td>11</td>\n",
       "      <td>8</td>\n",
       "      <td>3</td>\n",
       "      <td>9</td>\n",
       "      <td>1</td>\n",
       "      <td>6</td>\n",
       "      <td>21</td>\n",
       "    </tr>\n",
       "    <tr>\n",
       "      <th>19266</th>\n",
       "      <td>5</td>\n",
       "      <td>10</td>\n",
       "      <td>7</td>\n",
       "      <td>7</td>\n",
       "      <td>8</td>\n",
       "      <td>6</td>\n",
       "      <td>7</td>\n",
       "      <td>3</td>\n",
       "      <td>6</td>\n",
       "      <td>7</td>\n",
       "      <td>7</td>\n",
       "      <td>10</td>\n",
       "      <td>5</td>\n",
       "      <td>8</td>\n",
       "      <td>5</td>\n",
       "      <td>6</td>\n",
       "      <td>20</td>\n",
       "    </tr>\n",
       "    <tr>\n",
       "      <th>1937</th>\n",
       "      <td>3</td>\n",
       "      <td>5</td>\n",
       "      <td>5</td>\n",
       "      <td>3</td>\n",
       "      <td>2</td>\n",
       "      <td>7</td>\n",
       "      <td>9</td>\n",
       "      <td>6</td>\n",
       "      <td>7</td>\n",
       "      <td>7</td>\n",
       "      <td>10</td>\n",
       "      <td>9</td>\n",
       "      <td>3</td>\n",
       "      <td>9</td>\n",
       "      <td>1</td>\n",
       "      <td>8</td>\n",
       "      <td>21</td>\n",
       "    </tr>\n",
       "    <tr>\n",
       "      <th>2076</th>\n",
       "      <td>3</td>\n",
       "      <td>8</td>\n",
       "      <td>4</td>\n",
       "      <td>6</td>\n",
       "      <td>3</td>\n",
       "      <td>5</td>\n",
       "      <td>8</td>\n",
       "      <td>6</td>\n",
       "      <td>6</td>\n",
       "      <td>9</td>\n",
       "      <td>8</td>\n",
       "      <td>14</td>\n",
       "      <td>1</td>\n",
       "      <td>9</td>\n",
       "      <td>3</td>\n",
       "      <td>10</td>\n",
       "      <td>3</td>\n",
       "    </tr>\n",
       "    <tr>\n",
       "      <th>...</th>\n",
       "      <td>...</td>\n",
       "      <td>...</td>\n",
       "      <td>...</td>\n",
       "      <td>...</td>\n",
       "      <td>...</td>\n",
       "      <td>...</td>\n",
       "      <td>...</td>\n",
       "      <td>...</td>\n",
       "      <td>...</td>\n",
       "      <td>...</td>\n",
       "      <td>...</td>\n",
       "      <td>...</td>\n",
       "      <td>...</td>\n",
       "      <td>...</td>\n",
       "      <td>...</td>\n",
       "      <td>...</td>\n",
       "      <td>...</td>\n",
       "    </tr>\n",
       "    <tr>\n",
       "      <th>15314</th>\n",
       "      <td>5</td>\n",
       "      <td>8</td>\n",
       "      <td>5</td>\n",
       "      <td>6</td>\n",
       "      <td>2</td>\n",
       "      <td>3</td>\n",
       "      <td>11</td>\n",
       "      <td>3</td>\n",
       "      <td>7</td>\n",
       "      <td>13</td>\n",
       "      <td>11</td>\n",
       "      <td>6</td>\n",
       "      <td>1</td>\n",
       "      <td>10</td>\n",
       "      <td>2</td>\n",
       "      <td>5</td>\n",
       "      <td>25</td>\n",
       "    </tr>\n",
       "    <tr>\n",
       "      <th>19987</th>\n",
       "      <td>3</td>\n",
       "      <td>7</td>\n",
       "      <td>3</td>\n",
       "      <td>5</td>\n",
       "      <td>1</td>\n",
       "      <td>0</td>\n",
       "      <td>1</td>\n",
       "      <td>6</td>\n",
       "      <td>6</td>\n",
       "      <td>0</td>\n",
       "      <td>0</td>\n",
       "      <td>6</td>\n",
       "      <td>0</td>\n",
       "      <td>8</td>\n",
       "      <td>0</td>\n",
       "      <td>8</td>\n",
       "      <td>12</td>\n",
       "    </tr>\n",
       "    <tr>\n",
       "      <th>8395</th>\n",
       "      <td>6</td>\n",
       "      <td>9</td>\n",
       "      <td>9</td>\n",
       "      <td>7</td>\n",
       "      <td>6</td>\n",
       "      <td>8</td>\n",
       "      <td>5</td>\n",
       "      <td>3</td>\n",
       "      <td>6</td>\n",
       "      <td>8</td>\n",
       "      <td>6</td>\n",
       "      <td>8</td>\n",
       "      <td>4</td>\n",
       "      <td>7</td>\n",
       "      <td>4</td>\n",
       "      <td>7</td>\n",
       "      <td>10</td>\n",
       "    </tr>\n",
       "    <tr>\n",
       "      <th>9140</th>\n",
       "      <td>6</td>\n",
       "      <td>10</td>\n",
       "      <td>9</td>\n",
       "      <td>8</td>\n",
       "      <td>9</td>\n",
       "      <td>8</td>\n",
       "      <td>7</td>\n",
       "      <td>7</td>\n",
       "      <td>4</td>\n",
       "      <td>7</td>\n",
       "      <td>6</td>\n",
       "      <td>9</td>\n",
       "      <td>6</td>\n",
       "      <td>8</td>\n",
       "      <td>7</td>\n",
       "      <td>4</td>\n",
       "      <td>1</td>\n",
       "    </tr>\n",
       "    <tr>\n",
       "      <th>15829</th>\n",
       "      <td>4</td>\n",
       "      <td>8</td>\n",
       "      <td>5</td>\n",
       "      <td>6</td>\n",
       "      <td>3</td>\n",
       "      <td>9</td>\n",
       "      <td>7</td>\n",
       "      <td>4</td>\n",
       "      <td>7</td>\n",
       "      <td>11</td>\n",
       "      <td>4</td>\n",
       "      <td>5</td>\n",
       "      <td>3</td>\n",
       "      <td>8</td>\n",
       "      <td>3</td>\n",
       "      <td>8</td>\n",
       "      <td>4</td>\n",
       "    </tr>\n",
       "  </tbody>\n",
       "</table>\n",
       "<p>4000 rows × 17 columns</p>\n",
       "</div>"
      ],
      "text/plain": [
       "       x-box  y-box  width  high  onpix  x-bar  y-bar  x2bar  y2bar  xybar  \\\n",
       "18085      6     13      5     7      3      8      7      3      7     11   \n",
       "6869       7      8      8     6      3      4      9      6      9     12   \n",
       "19266      5     10      7     7      8      6      7      3      6      7   \n",
       "1937       3      5      5     3      2      7      9      6      7      7   \n",
       "2076       3      8      4     6      3      5      8      6      6      9   \n",
       "...      ...    ...    ...   ...    ...    ...    ...    ...    ...    ...   \n",
       "15314      5      8      5     6      2      3     11      3      7     13   \n",
       "19987      3      7      3     5      1      0      1      6      6      0   \n",
       "8395       6      9      9     7      6      8      5      3      6      8   \n",
       "9140       6     10      9     8      9      8      7      7      4      7   \n",
       "15829      4      8      5     6      3      9      7      4      7     11   \n",
       "\n",
       "       x2ybr  xy2br  x-ege  xegvy  y-ege  yegvx  lettr  \n",
       "18085      5      7      2      9      5      6     20  \n",
       "6869      11      8      3      9      1      6     21  \n",
       "19266      7     10      5      8      5      6     20  \n",
       "1937      10      9      3      9      1      8     21  \n",
       "2076       8     14      1      9      3     10      3  \n",
       "...      ...    ...    ...    ...    ...    ...    ...  \n",
       "15314     11      6      1     10      2      5     25  \n",
       "19987      0      6      0      8      0      8     12  \n",
       "8395       6      8      4      7      4      7     10  \n",
       "9140       6      9      6      8      7      4      1  \n",
       "15829      4      5      3      8      3      8      4  \n",
       "\n",
       "[4000 rows x 17 columns]"
      ]
     },
     "execution_count": 17,
     "metadata": {},
     "output_type": "execute_result"
    }
   ],
   "outputs_reference": "s3:deepnote-cell-outputs-production/7d11b8ea-819a-480b-9e62-9a74d9eaa201",
   "source": [
    "df3 = X_test\n",
    "df4 = Y_test\n",
    "\n",
    "df_test = pd.concat([df3,df4], axis=1, join='inner')\n",
    "df_test"
   ]
  },
  {
   "block_group": "79132b46bf4d440ba85611f51afe82b7",
   "cell_type": "markdown",
   "metadata": {
    "cell_id": "8de34158b732401ebe63edee281c5b3f",
    "deepnote_cell_type": "text-cell-p",
    "formattedRanges": []
   },
   "source": [
    "Code tersebut digunakan untuk menampilkan data testing"
   ]
  },
  {
   "block_group": "18149759886b418c996f031a5c843201",
   "cell_type": "markdown",
   "metadata": {
    "cell_id": "57c7c4a92a57448ba1c119693ab725b8",
    "deepnote_cell_type": "text-cell-h2",
    "formattedRanges": []
   },
   "source": [
    "## GAUSSIAN Naive Bayes Library"
   ]
  },
  {
   "block_group": "79ae657e313b409282535d1856cb2c5a",
   "cell_type": "code",
   "content_dependencies": {
    "codeHash": "4c0420af",
    "definedVariables": [
     "y",
     "X_test",
     "classifier",
     "X_train",
     "X",
     "Y_test",
     "Y_train",
     "df",
     "result"
    ],
    "importedModules": [
     "pd",
     "GaussianNB"
    ],
    "usedVariables": [
     "df1",
     "y",
     "df2",
     "classifier",
     "X",
     "X_train",
     "pd",
     "GaussianNB",
     "Y_train",
     "df",
     "result",
     "train_test_split"
    ]
   },
   "execution_count": null,
   "metadata": {
    "cell_id": "9ff504d81a44429f82223712ba36f5bc",
    "deepnote_cell_type": "code",
    "deepnote_to_be_reexecuted": false,
    "execution_millis": 306,
    "execution_start": 1719397043401,
    "source_hash": null
   },
   "outputs": [
    {
     "name": "stdout",
     "output_type": "stream",
     "text": [
      "Data X memiliki class: [10]\n",
      "Nilai Keakuratan: 0.646250\n",
      "/shared-libs/python3.9/py/lib/python3.9/site-packages/sklearn/base.py:450: UserWarning: X does not have valid feature names, but GaussianNB was fitted with feature names\n",
      "  warnings.warn(\n"
     ]
    }
   ],
   "outputs_reference": "dbtable:cell_outputs/313a1893-4171-4cf4-81b4-6b8eb2a52e38",
   "source": [
    "from sklearn.naive_bayes import GaussianNB\n",
    "import pandas as pd\n",
    "\n",
    "df = pd.read_csv('letter-recognition.csv')\n",
    "\n",
    "# Menghapus kolom yang tidak relevan\n",
    "# df.drop(\"Unnamed: 0\", axis=1, inplace=True)\n",
    "# df.drop(\"Outlier\", axis=1, inplace=True)\n",
    "\n",
    "X = df[['x-box','y-box','width', 'high', 'onpix', 'x-bar', 'y-bar', 'x2bar', 'y2bar', 'xybar', 'x2ybr', 'xy2br', 'x-ege', 'xegvy', 'y-ege', 'yegvx']]\n",
    "y = df['lettr']\n",
    "\n",
    "# Bagi data menjadi data latih dan data uji\n",
    "X_train, X_test, Y_train, Y_test = train_test_split(X, y, test_size=0.2, random_state=25)\n",
    "\n",
    "classifier = GaussianNB() \n",
    "classifier.fit(X_train,Y_train)\n",
    "\n",
    "# Data Baru yang Akan di Klasifikasikan\n",
    "# X = [df_test.values.tolist()[1][:-1]]\n",
    "X = [[5, 12, 3, 7, 2, 10, 5, 5, 4, 13, 3, 9, 2, 8, 4, 10]]\n",
    "\n",
    "result = classifier.predict(X)\n",
    "print(f'Data X memiliki class: {result}')\n",
    "\n",
    "# Evaluasi Keakuratan\n",
    "print(\"Nilai Keakuratan: %f\" % classifier.score(df1, df2))"
   ]
  },
  {
   "block_group": "df2092a8beaa40c099d4fd7e20e50ba8",
   "cell_type": "markdown",
   "metadata": {
    "cell_id": "a1dbdbc9674248bcad58ce1b36ae7c22",
    "deepnote_cell_type": "text-cell-p",
    "formattedRanges": []
   },
   "source": [
    "Penjelasan code"
   ]
  },
  {
   "block_group": "cf0cb2e0f2474074b9218f7a025351f7",
   "cell_type": "markdown",
   "metadata": {
    "cell_id": "df8708d34f3c4e618da1622e6e479e99",
    "deepnote_cell_type": "text-cell-p",
    "formattedRanges": []
   },
   "source": [
    "Code diatas digunakan untuk menentukan nilai keakuratan data testing berdasarkan metode Gaussian Naive Bayes. Pada metode ini sama seperti metode KNN, fitur harus dibagi menjadi dua yaitu fitur dan class setelah itu bagi data menjadi data training dan juga data testing dimana data training sebanyak 80% dan data testing sebanyak 20%. Setelah itu masukkan data testing sebagai data yang akan diuji nilai keakuratannya."
   ]
  },
  {
   "block_group": "7e80d5c2a6924e9990fb5dfe6e1b0ae4",
   "cell_type": "markdown",
   "metadata": {
    "cell_id": "ae1d8ae9f4064478b008d707b7035fce",
    "deepnote_cell_type": "text-cell-h1",
    "formattedRanges": []
   },
   "source": [
    "# Stacking Classifier"
   ]
  },
  {
   "block_group": "c7477a46bcee4693a9fcec1105968e89",
   "cell_type": "code",
   "content_dependencies": {
    "codeHash": "21e7e2c8",
    "definedVariables": [],
    "importedModules": [
     "RandomForestClassifier",
     "np",
     "warnings",
     "KNeighborsClassifier",
     "model_selection",
     "LogisticRegression",
     "GaussianNB"
    ],
    "usedVariables": []
   },
   "execution_count": null,
   "metadata": {
    "cell_id": "f840fcb631f14bdc9f35291acb774be6",
    "deepnote_cell_type": "code",
    "deepnote_to_be_reexecuted": false,
    "execution_millis": 319,
    "execution_start": 1719397043560,
    "source_hash": null
   },
   "outputs": [],
   "outputs_reference": null,
   "source": [
    "from sklearn import model_selection\n",
    "from sklearn.linear_model import LogisticRegression\n",
    "from sklearn.neighbors import KNeighborsClassifier\n",
    "from sklearn.naive_bayes import GaussianNB \n",
    "from sklearn.ensemble import RandomForestClassifier\n",
    "import numpy as np\n",
    "import warnings"
   ]
  },
  {
   "block_group": "dead36dde4894edb823569f67741b078",
   "cell_type": "markdown",
   "metadata": {
    "cell_id": "28187a6dc2c64833a7af55817e120a50",
    "deepnote_cell_type": "text-cell-p",
    "formattedRanges": []
   },
   "source": [
    "Stacking adalah metode pembelajaran ensemble yang menggabungkan beberapa algoritma pembelajaran mesin melalui meta-learning. Algoritma tingkat dasar dilatih menggunakan keseluruhan data pelatihan, sementara meta-model dilatih menggunakan hasil prediksi dari semua model dasar sebagai fitur. Dalam konteks ini, kita menggunakan metode KNN dan Naive Bayes untuk mengatasi bias dan varians. Dengan mempelajari teknik stacking, kita dapat meningkatkan akurasi prediksi model secara keseluruhan."
   ]
  },
  {
   "block_group": "af7416b8395947a5b959627f12fe65c8",
   "cell_type": "code",
   "content_dependencies": {
    "codeHash": "4ee41dd5",
    "definedVariables": [],
    "importedModules": [],
    "usedVariables": [
     "X_train"
    ]
   },
   "execution_count": null,
   "metadata": {
    "cell_id": "e849ab731a8e4c62bd0c46436264dabd",
    "deepnote_cell_type": "code",
    "deepnote_to_be_reexecuted": false,
    "execution_millis": 288,
    "execution_start": 1719397043591,
    "source_hash": null
   },
   "outputs": [
    {
     "name": "stdout",
     "output_type": "stream",
     "text": [
      "       x-box  y-box  width  high  onpix  x-bar  y-bar  x2bar  y2bar  xybar  \\\n",
      "16784      7     10      9     8      9      8      7      6      5      6   \n",
      "2957       3      7      5     5      4      7      8      7      6      7   \n",
      "18829      3      2      5     4      3      7     10      2      2      7   \n",
      "12230      4      9      6     7      4      6     11      1      9      8   \n",
      "7278       7     10      8     8      4      3      9      6      7     12   \n",
      "...      ...    ...    ...   ...    ...    ...    ...    ...    ...    ...   \n",
      "7324       1      8      0     6      0      7      7      4      4      7   \n",
      "1160       6      7      8     6      6      7      4      5      6      7   \n",
      "1175       4     10      5     8      3      3      7      6     11      7   \n",
      "2934       6     11      8     8      6      4      9      2      8     10   \n",
      "6618       4      8      6     7      6      9      9      2      6      7   \n",
      "\n",
      "       x2ybr  xy2br  x-ege  xegvy  y-ege  yegvx  \n",
      "16784      7      8      8      6      2      7  \n",
      "2957       5      6      2      8      7     10  \n",
      "18829      9      8      7     11      0      8  \n",
      "12230     11      8      0     10      1      7  \n",
      "7278      11      9      3      9      2      7  \n",
      "...      ...    ...    ...    ...    ...    ...  \n",
      "7324       6      8      0      8      0      8  \n",
      "1160       4      8      5      4      6      7  \n",
      "1175       6     15      0      8      7      6  \n",
      "2934       8      9      3      8      5      5  \n",
      "6618       5      6      2      5      7      7  \n",
      "\n",
      "[16000 rows x 16 columns]\n"
     ]
    }
   ],
   "outputs_reference": "s3:deepnote-cell-outputs-production/9a5e87c8-35d5-4b83-abf8-ffff4c98698a",
   "source": [
    "print(X_train)"
   ]
  },
  {
   "block_group": "7149687ad8074380a48e971438e859ce",
   "cell_type": "markdown",
   "metadata": {
    "cell_id": "3c9dbe173adb4c15a0db147a0b8ecdc1",
    "deepnote_cell_type": "text-cell-p",
    "formattedRanges": []
   },
   "source": [
    "Penjelasan code"
   ]
  },
  {
   "block_group": "ad31e01b2c1545e492692b39d821b04b",
   "cell_type": "markdown",
   "metadata": {
    "cell_id": "38dfec63139b46ab9efc1582985eeddc",
    "deepnote_cell_type": "text-cell-p",
    "formattedRanges": []
   },
   "source": [
    "Code diatas digunakan untuk menampilkan data pada bagian data train yang berisi fitur dari dataset yang akan digunakan dan sudah dibagi pada proses sebelumnya"
   ]
  },
  {
   "block_group": "b2753924a80b4e3e851703b4f5fc9a55",
   "cell_type": "code",
   "content_dependencies": {
    "codeHash": "76eb1853",
    "definedVariables": [],
    "importedModules": [],
    "usedVariables": [
     "Y_train"
    ]
   },
   "execution_count": null,
   "metadata": {
    "cell_id": "bfe0b8fead8f43b09032ba62705b8632",
    "deepnote_cell_type": "code",
    "deepnote_to_be_reexecuted": false,
    "execution_millis": 288,
    "execution_start": 1719397043592,
    "source_hash": null
   },
   "outputs": [
    {
     "name": "stdout",
     "output_type": "stream",
     "text": [
      "16784    13\n",
      "2957      2\n",
      "18829    23\n",
      "12230    20\n",
      "7278     21\n",
      "         ..\n",
      "7324      9\n",
      "1160     17\n",
      "1175      5\n",
      "2934      5\n",
      "6618     24\n",
      "Name: lettr, Length: 16000, dtype: int64\n"
     ]
    }
   ],
   "outputs_reference": "dbtable:cell_outputs/f9447b53-1905-4480-bae8-94a73de86cff",
   "source": [
    "print(Y_train)"
   ]
  },
  {
   "block_group": "7f7a0e8f8ebb43e09874b93739024257",
   "cell_type": "markdown",
   "metadata": {
    "cell_id": "d02edb2dfc934b229b0db452d1a4d4a8",
    "deepnote_cell_type": "text-cell-p",
    "formattedRanges": []
   },
   "source": [
    "Penjelasan code"
   ]
  },
  {
   "block_group": "4ac549c50ca049348020b39c18c871e0",
   "cell_type": "markdown",
   "metadata": {
    "cell_id": "1f3313712b6a47c3b17c013f4c3e4b3f",
    "deepnote_cell_type": "text-cell-p",
    "formattedRanges": []
   },
   "source": [
    " Code diatas digunakan untuk menampilkan isi dari data training pada bagian Y_train yang berisi class dari dataset yang akan digunakan"
   ]
  },
  {
   "block_group": "2ee915c6d11a4a3cb54b63fba93f65e6",
   "cell_type": "code",
   "content_dependencies": {
    "codeHash": "67ca0508",
    "definedVariables": [],
    "importedModules": [],
    "usedVariables": [
     "X_test"
    ]
   },
   "execution_count": null,
   "metadata": {
    "cell_id": "80d982e4cd394bafad39ef5f11305cb3",
    "deepnote_cell_type": "code",
    "deepnote_to_be_reexecuted": false,
    "execution_millis": 286,
    "execution_start": 1719397043594,
    "source_hash": null
   },
   "outputs": [
    {
     "name": "stdout",
     "output_type": "stream",
     "text": [
      "       x-box  y-box  width  high  onpix  x-bar  y-bar  x2bar  y2bar  xybar  \\\n",
      "577        8     12      7     6      6      6      7      3      5      7   \n",
      "16746      3      7      3     4      1      1     11      5      6     11   \n",
      "9446       4      7      6     6      7      8      7      5      4      7   \n",
      "17161      3      8      4     6      4      6      7      6      8      7   \n",
      "8047       4      8      5     6      3      6     11      3      7      9   \n",
      "...      ...    ...    ...   ...    ...    ...    ...    ...    ...    ...   \n",
      "19693      3      4      4     6      2      8      8      8      7      6   \n",
      "4924       8     12      6     6      5      7      7      4      4      9   \n",
      "15568      4      8      5     6      5      6      9      6      5      9   \n",
      "5566       4     11      5     8      3      5     11      3      4      9   \n",
      "7928       2      7      3     5      3      4      4      4      6      3   \n",
      "\n",
      "       x2ybr  xy2br  x-ege  xegvy  y-ege  yegvx  \n",
      "577        5      9      6      9      6      6  \n",
      "16746     10      9      0      8      2      6  \n",
      "9446       7      7      5      9     10     12  \n",
      "17161      6     10      3      8      6      8  \n",
      "8047      11      7      5     12      1      7  \n",
      "...      ...    ...    ...    ...    ...    ...  \n",
      "19693      7      8      2      7      6     11  \n",
      "4924       8     10      4      9      8     10  \n",
      "15568      7      4      2     10      3      7  \n",
      "5566      12      9      2     10      1      8  \n",
      "7928       1      7      1      6      1      6  \n",
      "\n",
      "[4000 rows x 16 columns]\n"
     ]
    }
   ],
   "outputs_reference": "s3:deepnote-cell-outputs-production/8d08a7f7-2acf-4243-acc8-d364bfd10406",
   "source": [
    "print(X_test)"
   ]
  },
  {
   "block_group": "79bd057906dc4c07bead8442f061a0db",
   "cell_type": "markdown",
   "metadata": {
    "cell_id": "01fa76b2c4134e7689a13b0be36b11f8",
    "deepnote_cell_type": "text-cell-p",
    "formattedRanges": []
   },
   "source": [
    "penjelasan code"
   ]
  },
  {
   "block_group": "5ed63a51822a48d5aa7f1b21417b2b15",
   "cell_type": "markdown",
   "metadata": {
    "cell_id": "934f2d795284492794dc84fd5e1e96a6",
    "deepnote_cell_type": "text-cell-p",
    "formattedRanges": []
   },
   "source": [
    "code diatas digunakan untuk menampilkan data test dari fitur dataset yang digunakan sebagai data testing ketika melakukan uji coba"
   ]
  },
  {
   "block_group": "0553d54ed92345d08029aa141cd575fd",
   "cell_type": "code",
   "content_dependencies": {
    "codeHash": "f9c7ac60",
    "definedVariables": [],
    "importedModules": [],
    "usedVariables": [
     "Y_test"
    ]
   },
   "execution_count": null,
   "metadata": {
    "cell_id": "0680e30f960f47ac812fbc50dfdda58e",
    "deepnote_cell_type": "code",
    "deepnote_to_be_reexecuted": false,
    "execution_millis": 283,
    "execution_start": 1719397043598,
    "source_hash": null
   },
   "outputs": [
    {
     "name": "stdout",
     "output_type": "stream",
     "text": [
      "577      18\n",
      "16746     6\n",
      "9446     19\n",
      "17161     5\n",
      "8047     20\n",
      "         ..\n",
      "19693     7\n",
      "4924      3\n",
      "15568    16\n",
      "5566     22\n",
      "7928     12\n",
      "Name: lettr, Length: 4000, dtype: int64\n"
     ]
    }
   ],
   "outputs_reference": "dbtable:cell_outputs/d8e3b4b2-f886-46f6-aad7-9c8a5fb28873",
   "source": [
    "print(Y_test)"
   ]
  },
  {
   "block_group": "be7d8ca9fd414f49b8be9e59e3d31193",
   "cell_type": "markdown",
   "metadata": {
    "cell_id": "a3687b4a55454d909ea3891ccac9647b",
    "deepnote_cell_type": "text-cell-p",
    "formattedRanges": []
   },
   "source": [
    "Penjelasan code "
   ]
  },
  {
   "block_group": "ccde56707772488f8a94a86ab2774f0b",
   "cell_type": "markdown",
   "metadata": {
    "cell_id": "5e7ea0b1cf8e477fb85734537a738a55",
    "deepnote_cell_type": "text-cell-p",
    "formattedRanges": []
   },
   "source": [
    "Code diatas digunakan untuk menampilkan isi dari data testing pada bagian Y_test"
   ]
  },
  {
   "block_group": "ffb1ab1ad6e442c6aad7f3665d6b332f",
   "cell_type": "markdown",
   "metadata": {
    "cell_id": "03d1edc7726d437e9af2e199a4469146",
    "deepnote_cell_type": "text-cell-h2",
    "formattedRanges": []
   },
   "source": [
    "## Model K-NN dengan n-neighbours = 3"
   ]
  },
  {
   "block_group": "c6013320c4ec4ead929ee1875584eb77",
   "cell_type": "code",
   "content_dependencies": {
    "codeHash": "e9897823",
    "definedVariables": [
     "p1",
     "c1",
     "p1_test"
    ],
    "importedModules": [],
    "usedVariables": [
     "p1",
     "p1_test",
     "Y_train",
     "c1",
     "KNeighborsClassifier",
     "X_test",
     "X_train"
    ]
   },
   "execution_count": null,
   "metadata": {
    "cell_id": "8e118ad48961415f9ad1acd5e857c971",
    "deepnote_cell_type": "code",
    "deepnote_to_be_reexecuted": false,
    "execution_millis": 6215,
    "execution_start": 1719397043602,
    "source_hash": null
   },
   "outputs": [
    {
     "name": "stdout",
     "output_type": "stream",
     "text": [
      "[13  2 23 ...  5  5 24]\n",
      "[13  2 23 ...  5  5 24]\n",
      "[18  6 19 ... 16 22 12]\n"
     ]
    }
   ],
   "outputs_reference": "dbtable:cell_outputs/a3b7526b-df6c-45e6-b427-31ef8c672311",
   "source": [
    "# Inisialisasi dan pelatihan model\n",
    "c1 = KNeighborsClassifier(n_neighbors=3)\n",
    "c1.fit(X_train, Y_train)\n",
    "\n",
    "# Prediksi pada data pelatihan\n",
    "p1 = c1.predict(X_train)\n",
    "print(p1)\n",
    "p1_test = c1.predict(X_test)\n",
    "print (p1)\n",
    "print (p1_test)"
   ]
  },
  {
   "block_group": "5f614abaa74143d99a4d5ba521dca61f",
   "cell_type": "markdown",
   "metadata": {
    "cell_id": "c311efc209b644e18ec42ccd6256d94d",
    "deepnote_cell_type": "text-cell-p",
    "formattedRanges": []
   },
   "source": [
    "Setelah data dibagi menjadi dua yaitu data training dan juga data testing setelah itu data dilakukan uji coba dengan menggunakan metode KNN dengan menggunakan n-neighbout = 3. Uji coba ini dilakukan dengan menggunakan data training dan juga data testing"
   ]
  },
  {
   "block_group": "a1f9aaaec0234314a21b49f6edf8f671",
   "cell_type": "markdown",
   "metadata": {
    "cell_id": "5796cd7bb2be4a688fe9b1d83bd6f0a0",
    "deepnote_cell_type": "text-cell-h2",
    "formattedRanges": []
   },
   "source": [
    "## Model K-NN dengan n-neighbours = 5"
   ]
  },
  {
   "block_group": "997af144c03d4ba6b1b9cb3dc80bd5f9",
   "cell_type": "code",
   "content_dependencies": {
    "codeHash": "b0ae7239",
    "definedVariables": [
     "p2_test",
     "p2",
     "c2"
    ],
    "importedModules": [],
    "usedVariables": [
     "Y_train",
     "KNeighborsClassifier",
     "p2_test",
     "c2",
     "X_test",
     "p2",
     "X_train"
    ]
   },
   "execution_count": null,
   "metadata": {
    "cell_id": "aa2371198ff7449e85c70055d11b6bfc",
    "deepnote_cell_type": "code",
    "deepnote_to_be_reexecuted": false,
    "execution_millis": 6992,
    "execution_start": 1719397049822,
    "source_hash": null
   },
   "outputs": [
    {
     "name": "stdout",
     "output_type": "stream",
     "text": [
      "[13  2 23 ...  5  5 24]\n",
      "[18  6 19 ... 16 22 12]\n"
     ]
    }
   ],
   "outputs_reference": "dbtable:cell_outputs/49871e0d-4351-4dce-890c-80d4dbfe70ec",
   "source": [
    "# Inisialisasi dan pelatihan model\n",
    "c2 = KNeighborsClassifier(n_neighbors=5)\n",
    "c2.fit(X_train, Y_train)\n",
    "\n",
    "# Prediksi pada data pelatihan\n",
    "p2 = c2.predict(X_train)\n",
    "p2_test = c2.predict(X_test)\n",
    "\n",
    "print (p2)\n",
    "print (p2_test)\n"
   ]
  },
  {
   "block_group": "264c65d1c18346f6ae06f3fbc0c8c319",
   "cell_type": "markdown",
   "metadata": {
    "cell_id": "8863c9cc6c60416ea199b1c9ac4b86e7",
    "deepnote_cell_type": "text-cell-p",
    "formattedRanges": []
   },
   "source": [
    "Code ini juga berfungsi seperti code diatas yaitu melatih data training dengan menggunakan metode KNN dengan n-neighbour = 5"
   ]
  },
  {
   "block_group": "6bcac911a9d14dfd98e6be9bab21f55c",
   "cell_type": "code",
   "content_dependencies": {
    "codeHash": "f5b67a3",
    "definedVariables": [
     "df_meta"
    ],
    "importedModules": [],
    "usedVariables": [
     "p1",
     "pd",
     "Y_train",
     "p2",
     "df_meta"
    ]
   },
   "execution_count": null,
   "metadata": {
    "cell_id": "b5df760881f64ae6a37561239c5a6411",
    "deepnote_cell_type": "code",
    "deepnote_to_be_reexecuted": false,
    "execution_millis": 152,
    "execution_start": 1719397056818,
    "source_hash": null
   },
   "outputs": [
    {
     "data": {
      "application/vnd.deepnote.dataframe.v3+json": {
       "column_count": 3,
       "columns": [
        {
         "dtype": "int64",
         "name": "p1",
         "stats": {
          "histogram": [
           {
            "bin_end": 3.5,
            "bin_start": 1,
            "count": 1851
           },
           {
            "bin_end": 6,
            "bin_start": 3.5,
            "count": 1310
           },
           {
            "bin_end": 8.5,
            "bin_start": 6,
            "count": 1800
           },
           {
            "bin_end": 11,
            "bin_start": 8.5,
            "count": 1196
           },
           {
            "bin_end": 13.5,
            "bin_start": 11,
            "count": 1792
           },
           {
            "bin_end": 16,
            "bin_start": 13.5,
            "count": 1227
           },
           {
            "bin_end": 18.5,
            "bin_start": 16,
            "count": 1841
           },
           {
            "bin_end": 21,
            "bin_start": 18.5,
            "count": 1252
           },
           {
            "bin_end": 23.5,
            "bin_start": 21,
            "count": 1858
           },
           {
            "bin_end": 26,
            "bin_start": 23.5,
            "count": 1873
           }
          ],
          "max": "26",
          "min": "1",
          "nan_count": 0,
          "unique_count": 26
         }
        },
        {
         "dtype": "int64",
         "name": "p2",
         "stats": {
          "histogram": [
           {
            "bin_end": 3.5,
            "bin_start": 1,
            "count": 1852
           },
           {
            "bin_end": 6,
            "bin_start": 3.5,
            "count": 1331
           },
           {
            "bin_end": 8.5,
            "bin_start": 6,
            "count": 1789
           },
           {
            "bin_end": 11,
            "bin_start": 8.5,
            "count": 1193
           },
           {
            "bin_end": 13.5,
            "bin_start": 11,
            "count": 1784
           },
           {
            "bin_end": 16,
            "bin_start": 13.5,
            "count": 1232
           },
           {
            "bin_end": 18.5,
            "bin_start": 16,
            "count": 1852
           },
           {
            "bin_end": 21,
            "bin_start": 18.5,
            "count": 1245
           },
           {
            "bin_end": 23.5,
            "bin_start": 21,
            "count": 1859
           },
           {
            "bin_end": 26,
            "bin_start": 23.5,
            "count": 1863
           }
          ],
          "max": "26",
          "min": "1",
          "nan_count": 0,
          "unique_count": 26
         }
        },
        {
         "dtype": "int64",
         "name": "Y train",
         "stats": {
          "histogram": [
           {
            "bin_end": 3.5,
            "bin_start": 1,
            "count": 1819
           },
           {
            "bin_end": 6,
            "bin_start": 3.5,
            "count": 1287
           },
           {
            "bin_end": 8.5,
            "bin_start": 6,
            "count": 1801
           },
           {
            "bin_end": 11,
            "bin_start": 8.5,
            "count": 1202
           },
           {
            "bin_end": 13.5,
            "bin_start": 11,
            "count": 1810
           },
           {
            "bin_end": 16,
            "bin_start": 13.5,
            "count": 1230
           },
           {
            "bin_end": 18.5,
            "bin_start": 16,
            "count": 1857
           },
           {
            "bin_end": 21,
            "bin_start": 18.5,
            "count": 1254
           },
           {
            "bin_end": 23.5,
            "bin_start": 21,
            "count": 1867
           },
           {
            "bin_end": 26,
            "bin_start": 23.5,
            "count": 1873
           }
          ],
          "max": "26",
          "min": "1",
          "nan_count": 0,
          "unique_count": 26
         }
        },
        {
         "dtype": "int64",
         "name": "_deepnote_index_column"
        }
       ],
       "row_count": 16000,
       "rows": [
        {
         "Y train": 13,
         "_deepnote_index_column": 16784,
         "p1": 13,
         "p2": 13
        },
        {
         "Y train": 2,
         "_deepnote_index_column": 2957,
         "p1": 2,
         "p2": 2
        },
        {
         "Y train": 23,
         "_deepnote_index_column": 18829,
         "p1": 23,
         "p2": 23
        },
        {
         "Y train": 20,
         "_deepnote_index_column": 12230,
         "p1": 20,
         "p2": 20
        },
        {
         "Y train": 21,
         "_deepnote_index_column": 7278,
         "p1": 21,
         "p2": 21
        },
        {
         "Y train": 20,
         "_deepnote_index_column": 5019,
         "p1": 20,
         "p2": 20
        },
        {
         "Y train": 23,
         "_deepnote_index_column": 18464,
         "p1": 23,
         "p2": 23
        },
        {
         "Y train": 3,
         "_deepnote_index_column": 11225,
         "p1": 3,
         "p2": 3
        },
        {
         "Y train": 14,
         "_deepnote_index_column": 2847,
         "p1": 14,
         "p2": 14
        },
        {
         "Y train": 11,
         "_deepnote_index_column": 2526,
         "p1": 11,
         "p2": 11
        }
       ]
      },
      "text/html": [
       "<div>\n",
       "<style scoped>\n",
       "    .dataframe tbody tr th:only-of-type {\n",
       "        vertical-align: middle;\n",
       "    }\n",
       "\n",
       "    .dataframe tbody tr th {\n",
       "        vertical-align: top;\n",
       "    }\n",
       "\n",
       "    .dataframe thead th {\n",
       "        text-align: right;\n",
       "    }\n",
       "</style>\n",
       "<table border=\"1\" class=\"dataframe\">\n",
       "  <thead>\n",
       "    <tr style=\"text-align: right;\">\n",
       "      <th></th>\n",
       "      <th>p1</th>\n",
       "      <th>p2</th>\n",
       "      <th>Y train</th>\n",
       "    </tr>\n",
       "  </thead>\n",
       "  <tbody>\n",
       "    <tr>\n",
       "      <th>16784</th>\n",
       "      <td>13</td>\n",
       "      <td>13</td>\n",
       "      <td>13</td>\n",
       "    </tr>\n",
       "    <tr>\n",
       "      <th>2957</th>\n",
       "      <td>2</td>\n",
       "      <td>2</td>\n",
       "      <td>2</td>\n",
       "    </tr>\n",
       "    <tr>\n",
       "      <th>18829</th>\n",
       "      <td>23</td>\n",
       "      <td>23</td>\n",
       "      <td>23</td>\n",
       "    </tr>\n",
       "    <tr>\n",
       "      <th>12230</th>\n",
       "      <td>20</td>\n",
       "      <td>20</td>\n",
       "      <td>20</td>\n",
       "    </tr>\n",
       "    <tr>\n",
       "      <th>7278</th>\n",
       "      <td>21</td>\n",
       "      <td>21</td>\n",
       "      <td>21</td>\n",
       "    </tr>\n",
       "    <tr>\n",
       "      <th>...</th>\n",
       "      <td>...</td>\n",
       "      <td>...</td>\n",
       "      <td>...</td>\n",
       "    </tr>\n",
       "    <tr>\n",
       "      <th>7324</th>\n",
       "      <td>9</td>\n",
       "      <td>9</td>\n",
       "      <td>9</td>\n",
       "    </tr>\n",
       "    <tr>\n",
       "      <th>1160</th>\n",
       "      <td>17</td>\n",
       "      <td>17</td>\n",
       "      <td>17</td>\n",
       "    </tr>\n",
       "    <tr>\n",
       "      <th>1175</th>\n",
       "      <td>5</td>\n",
       "      <td>5</td>\n",
       "      <td>5</td>\n",
       "    </tr>\n",
       "    <tr>\n",
       "      <th>2934</th>\n",
       "      <td>5</td>\n",
       "      <td>5</td>\n",
       "      <td>5</td>\n",
       "    </tr>\n",
       "    <tr>\n",
       "      <th>6618</th>\n",
       "      <td>24</td>\n",
       "      <td>24</td>\n",
       "      <td>24</td>\n",
       "    </tr>\n",
       "  </tbody>\n",
       "</table>\n",
       "<p>16000 rows × 3 columns</p>\n",
       "</div>"
      ],
      "text/plain": [
       "       p1  p2  Y train\n",
       "16784  13  13       13\n",
       "2957    2   2        2\n",
       "18829  23  23       23\n",
       "12230  20  20       20\n",
       "7278   21  21       21\n",
       "...    ..  ..      ...\n",
       "7324    9   9        9\n",
       "1160   17  17       17\n",
       "1175    5   5        5\n",
       "2934    5   5        5\n",
       "6618   24  24       24\n",
       "\n",
       "[16000 rows x 3 columns]"
      ]
     },
     "execution_count": 26,
     "metadata": {},
     "output_type": "execute_result"
    }
   ],
   "outputs_reference": "s3:deepnote-cell-outputs-production/73ebb9bb-9940-4d56-ad78-3442235f05da",
   "source": [
    "df_meta = pd.DataFrame({'p1': p1, 'p2': p2, 'Y train' : Y_train})\n",
    "df_meta"
   ]
  },
  {
   "block_group": "17b0dfc784364e81b63d02f31feb64e5",
   "cell_type": "markdown",
   "metadata": {
    "cell_id": "e14ab659be634a8b873bf844847214cd",
    "deepnote_cell_type": "text-cell-p",
    "formattedRanges": []
   },
   "source": [
    "Penjelasan code"
   ]
  },
  {
   "block_group": "52572b81631c4dfeb7a491b60f7a7490",
   "cell_type": "markdown",
   "metadata": {
    "cell_id": "b0702ae4b2db47bb96d7da8e25c9efb5",
    "deepnote_cell_type": "text-cell-p",
    "formattedRanges": []
   },
   "source": [
    "Kode tersebut membuat DataFrame `df_meta` dengan tiga kolom (`p1`, `p2`, dan `Y train`) dari variabel `p1`, `p2`, dan `Y_train` menggunakan pustaka `pandas`, kemudian menampilkannya."
   ]
  },
  {
   "block_group": "02205ed605ee45a5b2cb61f1be7e0200",
   "cell_type": "markdown",
   "metadata": {
    "cell_id": "f99dff6c757f47d59e3fd313122227b5",
    "deepnote_cell_type": "text-cell-h2",
    "formattedRanges": []
   },
   "source": [
    "## Memprediksi menggunakan data baru"
   ]
  },
  {
   "block_group": "b379de2c03524e0cb02414a4c44019c7",
   "cell_type": "code",
   "content_dependencies": {
    "codeHash": "3b8c4464",
    "definedVariables": [
     "predict",
     "p2_new",
     "f_meta_train",
     "accuracy",
     "p1_new",
     "meta_classifier",
     "f_meta_test",
     "f_meta_new",
     "X_new",
     "predict_new"
    ],
    "importedModules": [
     "np",
     "accuracy_score",
     "pd",
     "GaussianNB"
    ],
    "usedVariables": [
     "GaussianNB",
     "p1_new",
     "Y_test",
     "p1_test",
     "predict_new",
     "predict",
     "p1",
     "accuracy",
     "c2",
     "accuracy_score",
     "f_meta_test",
     "p2_new",
     "np",
     "p2",
     "meta_classifier",
     "c1",
     "X_new",
     "p2_test",
     "f_meta_train",
     "Y_train",
     "f_meta_new"
    ]
   },
   "execution_count": null,
   "metadata": {
    "cell_id": "2662d2add57b4255bb7dce08548b3f5d",
    "deepnote_cell_type": "code",
    "deepnote_to_be_reexecuted": false,
    "execution_millis": 107,
    "execution_start": 1719397078198,
    "source_hash": null
   },
   "outputs": [
    {
     "name": "stdout",
     "output_type": "stream",
     "text": [
      "Akurasi : 76.28%\n",
      "Prediksi untuk data baru : [10]\n",
      "/shared-libs/python3.9/py/lib/python3.9/site-packages/sklearn/base.py:450: UserWarning: X does not have valid feature names, but KNeighborsClassifier was fitted with feature names\n",
      "  warnings.warn(\n",
      "/shared-libs/python3.9/py/lib/python3.9/site-packages/sklearn/base.py:450: UserWarning: X does not have valid feature names, but KNeighborsClassifier was fitted with feature names\n",
      "  warnings.warn(\n"
     ]
    }
   ],
   "outputs_reference": "dbtable:cell_outputs/8f35631b-3de0-4e32-bf3b-1920a7d3dd2e",
   "source": [
    "from sklearn.naive_bayes import GaussianNB\n",
    "from sklearn.metrics import accuracy_score\n",
    "import numpy as np\n",
    "import pandas as pd\n",
    "\n",
    "# Menggabungkan prediksi dari kedua model KNN sebagai fitur baru\n",
    "f_meta_train = np.column_stack((p1, p2))\n",
    "f_meta_test = np.column_stack((p1_test, p2_test))\n",
    "\n",
    "# Data baru untuk prediksi\n",
    "X_new = [[1, 3, 2, 2, 1, 8, 8, 2, 5, 14, 5, 8, 0, 7, 0, 7]]\n",
    "\n",
    "# Inisialisasi dan pelatihan meta-classifier Naive Bayes\n",
    "meta_classifier = GaussianNB()\n",
    "meta_classifier.fit(f_meta_train, Y_train)\n",
    "\n",
    "# Prediksi menggunakan meta-classifier\n",
    "predict = meta_classifier.predict(f_meta_test)\n",
    "\n",
    "# Menghitung akurasi prediksi\n",
    "accuracy = accuracy_score(Y_test, predict)\n",
    "print(f'Akurasi : {accuracy * 100:.2f}%')\n",
    "\n",
    "# Prediksi data baru menggunakan model KNN\n",
    "p1_new = c1.predict(X_new)\n",
    "p2_new = c2.predict(X_new)\n",
    "\n",
    "# Menggabungkan prediksi KNN sebagai fitur baru untuk data baru\n",
    "f_meta_new = np.column_stack((p1_new, p2_new))\n",
    "\n",
    "# Prediksi data baru menggunakan meta-classifier Naive Bayes\n",
    "predict_new = meta_classifier.predict(f_meta_new)\n",
    "print(f'Prediksi untuk data baru : {predict_new}')"
   ]
  },
  {
   "block_group": "09544ba566f44759aa1a9ba8c674690a",
   "cell_type": "markdown",
   "metadata": {
    "cell_id": "301972e667ff424fa4e9f78fc6ec643e",
    "deepnote_cell_type": "text-cell-p",
    "formattedRanges": []
   },
   "source": [
    "Penjelasan code"
   ]
  },
  {
   "block_group": "c3b7bc62322c4c0fb0302c10f1ba3e8e",
   "cell_type": "markdown",
   "metadata": {
    "cell_id": "80e225f2926b4d54b1fbd8d3ddd88923",
    "deepnote_cell_type": "text-cell-p",
    "formattedRanges": []
   },
   "source": [
    "Code diatas berfungsi untuk memprediksi data baru berdasarkan nilai dari metode meta classifier menggunakan KNN dan menentukan nilai akurasi dari perhitungan tersebut. "
   ]
  },
  {
   "block_group": "b02272f0e47249b4a4078123bb2ce167",
   "cell_type": "code",
   "content_dependencies": {
    "codeHash": "27827226",
    "definedVariables": [
     "df"
    ],
    "importedModules": [
     "np",
     "pd"
    ],
    "usedVariables": [
     "pd",
     "df"
    ]
   },
   "execution_count": null,
   "metadata": {
    "cell_id": "04c992ce03ec4797bcd55e2cf22bfe23",
    "deepnote_cell_type": "code",
    "deepnote_to_be_reexecuted": false,
    "execution_millis": 251,
    "execution_start": 1719397078388,
    "source_hash": null
   },
   "outputs": [
    {
     "data": {
      "application/vnd.deepnote.dataframe.v3+json": {
       "column_count": 18,
       "columns": [
        {
         "dtype": "int64",
         "name": "x-box",
         "stats": {
          "histogram": [
           {
            "bin_end": 1.5,
            "bin_start": 0,
            "count": 1393
           },
           {
            "bin_end": 3,
            "bin_start": 1.5,
            "count": 2909
           },
           {
            "bin_end": 4.5,
            "bin_start": 3,
            "count": 8634
           },
           {
            "bin_end": 6,
            "bin_start": 4.5,
            "count": 3169
           },
           {
            "bin_end": 7.5,
            "bin_start": 6,
            "count": 2900
           },
           {
            "bin_end": 9,
            "bin_start": 7.5,
            "count": 513
           },
           {
            "bin_end": 10.5,
            "bin_start": 9,
            "count": 405
           },
           {
            "bin_end": 12,
            "bin_start": 10.5,
            "count": 48
           },
           {
            "bin_end": 13.5,
            "bin_start": 12,
            "count": 24
           },
           {
            "bin_end": 15,
            "bin_start": 13.5,
            "count": 5
           }
          ],
          "max": "15",
          "min": "0",
          "nan_count": 0,
          "unique_count": 16
         }
        },
        {
         "dtype": "int64",
         "name": "y-box",
         "stats": {
          "histogram": [
           {
            "bin_end": 1.5,
            "bin_start": 0,
            "count": 1487
           },
           {
            "bin_end": 3,
            "bin_start": 1.5,
            "count": 530
           },
           {
            "bin_end": 4.5,
            "bin_start": 3,
            "count": 2672
           },
           {
            "bin_end": 6,
            "bin_start": 4.5,
            "count": 1566
           },
           {
            "bin_end": 7.5,
            "bin_start": 6,
            "count": 4007
           },
           {
            "bin_end": 9,
            "bin_start": 7.5,
            "count": 2180
           },
           {
            "bin_end": 10.5,
            "bin_start": 9,
            "count": 4913
           },
           {
            "bin_end": 12,
            "bin_start": 10.5,
            "count": 1625
           },
           {
            "bin_end": 13.5,
            "bin_start": 12,
            "count": 592
           },
           {
            "bin_end": 15,
            "bin_start": 13.5,
            "count": 428
           }
          ],
          "max": "15",
          "min": "0",
          "nan_count": 0,
          "unique_count": 16
         }
        },
        {
         "dtype": "int64",
         "name": "width",
         "stats": {
          "histogram": [
           {
            "bin_end": 1.5,
            "bin_start": 0,
            "count": 580
           },
           {
            "bin_end": 3,
            "bin_start": 1.5,
            "count": 1285
           },
           {
            "bin_end": 4.5,
            "bin_start": 3,
            "count": 5810
           },
           {
            "bin_end": 6,
            "bin_start": 4.5,
            "count": 4262
           },
           {
            "bin_end": 7.5,
            "bin_start": 6,
            "count": 5587
           },
           {
            "bin_end": 9,
            "bin_start": 7.5,
            "count": 1418
           },
           {
            "bin_end": 10.5,
            "bin_start": 9,
            "count": 916
           },
           {
            "bin_end": 12,
            "bin_start": 10.5,
            "count": 91
           },
           {
            "bin_end": 13.5,
            "bin_start": 12,
            "count": 45
           },
           {
            "bin_end": 15,
            "bin_start": 13.5,
            "count": 6
           }
          ],
          "max": "15",
          "min": "0",
          "nan_count": 0,
          "unique_count": 16
         }
        },
        {
         "dtype": "int64",
         "name": "high",
         "stats": {
          "histogram": [
           {
            "bin_end": 1.5,
            "bin_start": 0,
            "count": 1248
           },
           {
            "bin_end": 3,
            "bin_start": 1.5,
            "count": 1304
           },
           {
            "bin_end": 4.5,
            "bin_start": 3,
            "count": 4277
           },
           {
            "bin_end": 6,
            "bin_start": 4.5,
            "count": 2675
           },
           {
            "bin_end": 7.5,
            "bin_start": 6,
            "count": 6351
           },
           {
            "bin_end": 9,
            "bin_start": 7.5,
            "count": 3559
           },
           {
            "bin_end": 10.5,
            "bin_start": 9,
            "count": 450
           },
           {
            "bin_end": 12,
            "bin_start": 10.5,
            "count": 76
           },
           {
            "bin_end": 13.5,
            "bin_start": 12,
            "count": 41
           },
           {
            "bin_end": 15,
            "bin_start": 13.5,
            "count": 19
           }
          ],
          "max": "15",
          "min": "0",
          "nan_count": 0,
          "unique_count": 16
         }
        },
        {
         "dtype": "int64",
         "name": "onpix",
         "stats": {
          "histogram": [
           {
            "bin_end": 1.5,
            "bin_start": 0,
            "count": 3267
           },
           {
            "bin_end": 3,
            "bin_start": 1.5,
            "count": 4153
           },
           {
            "bin_end": 4.5,
            "bin_start": 3,
            "count": 7096
           },
           {
            "bin_end": 6,
            "bin_start": 4.5,
            "count": 2153
           },
           {
            "bin_end": 7.5,
            "bin_start": 6,
            "count": 2236
           },
           {
            "bin_end": 9,
            "bin_start": 7.5,
            "count": 519
           },
           {
            "bin_end": 10.5,
            "bin_start": 9,
            "count": 425
           },
           {
            "bin_end": 12,
            "bin_start": 10.5,
            "count": 85
           },
           {
            "bin_end": 13.5,
            "bin_start": 12,
            "count": 53
           },
           {
            "bin_end": 15,
            "bin_start": 13.5,
            "count": 13
           }
          ],
          "max": "15",
          "min": "0",
          "nan_count": 0,
          "unique_count": 16
         }
        },
        {
         "dtype": "int64",
         "name": "x-bar"
        },
        {
         "dtype": "int64",
         "name": "y-bar"
        },
        {
         "dtype": "int64",
         "name": "x2bar"
        },
        {
         "dtype": "int64",
         "name": "y2bar"
        },
        {
         "dtype": "int64",
         "name": "xybar"
        },
        {
         "dtype": "int64",
         "name": "x2ybr"
        },
        {
         "dtype": "int64",
         "name": "xy2br"
        },
        {
         "dtype": "int64",
         "name": "x-ege"
        },
        {
         "dtype": "int64",
         "name": "xegvy"
        },
        {
         "dtype": "int64",
         "name": "y-ege"
        },
        {
         "dtype": "int64",
         "name": "yegvx"
        },
        {
         "dtype": "int64",
         "name": "Outlier"
        },
        {
         "dtype": "int64",
         "name": "lettr"
        },
        {
         "dtype": "int64",
         "name": "_deepnote_index_column"
        }
       ],
       "row_count": 20000,
       "rows": [
        {
         "Outlier": 1,
         "_deepnote_index_column": 0,
         "high": 5,
         "lettr": 20,
         "onpix": 1,
         "width": 3,
         "x-bar": 8,
         "x-box": 2,
         "x-ege": 0,
         "x2bar": 0,
         "x2ybr": 10,
         "xegvy": 8,
         "xy2br": 8,
         "xybar": 6,
         "y-bar": 13,
         "y-box": 8,
         "y-ege": 0,
         "y2bar": 6,
         "yegvx": 8
        },
        {
         "Outlier": 1,
         "_deepnote_index_column": 1,
         "high": 7,
         "lettr": 9,
         "onpix": 2,
         "width": 3,
         "x-bar": 10,
         "x-box": 5,
         "x-ege": 2,
         "x2bar": 5,
         "x2ybr": 3,
         "xegvy": 8,
         "xy2br": 9,
         "xybar": 13,
         "y-bar": 5,
         "y-box": 12,
         "y-ege": 4,
         "y2bar": 4,
         "yegvx": 10
        },
        {
         "Outlier": 1,
         "_deepnote_index_column": 2,
         "high": 8,
         "lettr": 4,
         "onpix": 6,
         "width": 6,
         "x-bar": 10,
         "x-box": 4,
         "x-ege": 3,
         "x2bar": 2,
         "x2ybr": 3,
         "xegvy": 7,
         "xy2br": 7,
         "xybar": 10,
         "y-bar": 6,
         "y-box": 11,
         "y-ege": 3,
         "y2bar": 6,
         "yegvx": 9
        },
        {
         "Outlier": 1,
         "_deepnote_index_column": 3,
         "high": 6,
         "lettr": 14,
         "onpix": 3,
         "width": 6,
         "x-bar": 5,
         "x-box": 7,
         "x-ege": 6,
         "x2bar": 4,
         "x2ybr": 4,
         "xegvy": 10,
         "xy2br": 10,
         "xybar": 4,
         "y-bar": 9,
         "y-box": 11,
         "y-ege": 2,
         "y2bar": 6,
         "yegvx": 8
        },
        {
         "Outlier": -1,
         "_deepnote_index_column": 4,
         "high": 1,
         "lettr": 7,
         "onpix": 1,
         "width": 3,
         "x-bar": 8,
         "x-box": 2,
         "x-ege": 1,
         "x2bar": 6,
         "x2ybr": 5,
         "xegvy": 7,
         "xy2br": 9,
         "xybar": 6,
         "y-bar": 6,
         "y-box": 1,
         "y-ege": 5,
         "y2bar": 6,
         "yegvx": 10
        },
        {
         "Outlier": 1,
         "_deepnote_index_column": 5,
         "high": 8,
         "lettr": 19,
         "onpix": 3,
         "width": 5,
         "x-bar": 8,
         "x-box": 4,
         "x-ege": 0,
         "x2bar": 6,
         "x2ybr": 6,
         "xegvy": 8,
         "xy2br": 6,
         "xybar": 5,
         "y-bar": 8,
         "y-box": 11,
         "y-ege": 9,
         "y2bar": 9,
         "yegvx": 7
        },
        {
         "Outlier": 1,
         "_deepnote_index_column": 6,
         "high": 4,
         "lettr": 2,
         "onpix": 4,
         "width": 5,
         "x-bar": 8,
         "x-box": 4,
         "x-ege": 2,
         "x2bar": 6,
         "x2ybr": 6,
         "xegvy": 8,
         "xy2br": 6,
         "xybar": 7,
         "y-bar": 7,
         "y-box": 2,
         "y-ege": 7,
         "y2bar": 6,
         "yegvx": 10
        },
        {
         "Outlier": 1,
         "_deepnote_index_column": 7,
         "high": 2,
         "lettr": 1,
         "onpix": 1,
         "width": 3,
         "x-bar": 8,
         "x-box": 1,
         "x-ege": 1,
         "x2bar": 2,
         "x2ybr": 2,
         "xegvy": 6,
         "xy2br": 8,
         "xybar": 8,
         "y-bar": 2,
         "y-box": 1,
         "y-ege": 2,
         "y2bar": 2,
         "yegvx": 7
        },
        {
         "Outlier": 1,
         "_deepnote_index_column": 8,
         "high": 4,
         "lettr": 10,
         "onpix": 2,
         "width": 4,
         "x-bar": 10,
         "x-box": 2,
         "x-ege": 1,
         "x2bar": 2,
         "x2ybr": 4,
         "xegvy": 6,
         "xy2br": 8,
         "xybar": 12,
         "y-bar": 6,
         "y-box": 2,
         "y-ege": 1,
         "y2bar": 6,
         "yegvx": 7
        },
        {
         "Outlier": 1,
         "_deepnote_index_column": 9,
         "high": 9,
         "lettr": 13,
         "onpix": 7,
         "width": 13,
         "x-bar": 13,
         "x-box": 11,
         "x-ege": 8,
         "x2bar": 6,
         "x2ybr": 1,
         "xegvy": 1,
         "xy2br": 9,
         "xybar": 12,
         "y-bar": 2,
         "y-box": 15,
         "y-ege": 1,
         "y2bar": 2,
         "yegvx": 8
        }
       ]
      },
      "text/html": [
       "<div>\n",
       "<style scoped>\n",
       "    .dataframe tbody tr th:only-of-type {\n",
       "        vertical-align: middle;\n",
       "    }\n",
       "\n",
       "    .dataframe tbody tr th {\n",
       "        vertical-align: top;\n",
       "    }\n",
       "\n",
       "    .dataframe thead th {\n",
       "        text-align: right;\n",
       "    }\n",
       "</style>\n",
       "<table border=\"1\" class=\"dataframe\">\n",
       "  <thead>\n",
       "    <tr style=\"text-align: right;\">\n",
       "      <th></th>\n",
       "      <th>x-box</th>\n",
       "      <th>y-box</th>\n",
       "      <th>width</th>\n",
       "      <th>high</th>\n",
       "      <th>onpix</th>\n",
       "      <th>x-bar</th>\n",
       "      <th>y-bar</th>\n",
       "      <th>x2bar</th>\n",
       "      <th>y2bar</th>\n",
       "      <th>xybar</th>\n",
       "      <th>x2ybr</th>\n",
       "      <th>xy2br</th>\n",
       "      <th>x-ege</th>\n",
       "      <th>xegvy</th>\n",
       "      <th>y-ege</th>\n",
       "      <th>yegvx</th>\n",
       "      <th>Outlier</th>\n",
       "      <th>lettr</th>\n",
       "    </tr>\n",
       "  </thead>\n",
       "  <tbody>\n",
       "    <tr>\n",
       "      <th>0</th>\n",
       "      <td>2</td>\n",
       "      <td>8</td>\n",
       "      <td>3</td>\n",
       "      <td>5</td>\n",
       "      <td>1</td>\n",
       "      <td>8</td>\n",
       "      <td>13</td>\n",
       "      <td>0</td>\n",
       "      <td>6</td>\n",
       "      <td>6</td>\n",
       "      <td>10</td>\n",
       "      <td>8</td>\n",
       "      <td>0</td>\n",
       "      <td>8</td>\n",
       "      <td>0</td>\n",
       "      <td>8</td>\n",
       "      <td>1</td>\n",
       "      <td>20</td>\n",
       "    </tr>\n",
       "    <tr>\n",
       "      <th>1</th>\n",
       "      <td>5</td>\n",
       "      <td>12</td>\n",
       "      <td>3</td>\n",
       "      <td>7</td>\n",
       "      <td>2</td>\n",
       "      <td>10</td>\n",
       "      <td>5</td>\n",
       "      <td>5</td>\n",
       "      <td>4</td>\n",
       "      <td>13</td>\n",
       "      <td>3</td>\n",
       "      <td>9</td>\n",
       "      <td>2</td>\n",
       "      <td>8</td>\n",
       "      <td>4</td>\n",
       "      <td>10</td>\n",
       "      <td>1</td>\n",
       "      <td>9</td>\n",
       "    </tr>\n",
       "    <tr>\n",
       "      <th>2</th>\n",
       "      <td>4</td>\n",
       "      <td>11</td>\n",
       "      <td>6</td>\n",
       "      <td>8</td>\n",
       "      <td>6</td>\n",
       "      <td>10</td>\n",
       "      <td>6</td>\n",
       "      <td>2</td>\n",
       "      <td>6</td>\n",
       "      <td>10</td>\n",
       "      <td>3</td>\n",
       "      <td>7</td>\n",
       "      <td>3</td>\n",
       "      <td>7</td>\n",
       "      <td>3</td>\n",
       "      <td>9</td>\n",
       "      <td>1</td>\n",
       "      <td>4</td>\n",
       "    </tr>\n",
       "    <tr>\n",
       "      <th>3</th>\n",
       "      <td>7</td>\n",
       "      <td>11</td>\n",
       "      <td>6</td>\n",
       "      <td>6</td>\n",
       "      <td>3</td>\n",
       "      <td>5</td>\n",
       "      <td>9</td>\n",
       "      <td>4</td>\n",
       "      <td>6</td>\n",
       "      <td>4</td>\n",
       "      <td>4</td>\n",
       "      <td>10</td>\n",
       "      <td>6</td>\n",
       "      <td>10</td>\n",
       "      <td>2</td>\n",
       "      <td>8</td>\n",
       "      <td>1</td>\n",
       "      <td>14</td>\n",
       "    </tr>\n",
       "    <tr>\n",
       "      <th>4</th>\n",
       "      <td>2</td>\n",
       "      <td>1</td>\n",
       "      <td>3</td>\n",
       "      <td>1</td>\n",
       "      <td>1</td>\n",
       "      <td>8</td>\n",
       "      <td>6</td>\n",
       "      <td>6</td>\n",
       "      <td>6</td>\n",
       "      <td>6</td>\n",
       "      <td>5</td>\n",
       "      <td>9</td>\n",
       "      <td>1</td>\n",
       "      <td>7</td>\n",
       "      <td>5</td>\n",
       "      <td>10</td>\n",
       "      <td>-1</td>\n",
       "      <td>7</td>\n",
       "    </tr>\n",
       "    <tr>\n",
       "      <th>...</th>\n",
       "      <td>...</td>\n",
       "      <td>...</td>\n",
       "      <td>...</td>\n",
       "      <td>...</td>\n",
       "      <td>...</td>\n",
       "      <td>...</td>\n",
       "      <td>...</td>\n",
       "      <td>...</td>\n",
       "      <td>...</td>\n",
       "      <td>...</td>\n",
       "      <td>...</td>\n",
       "      <td>...</td>\n",
       "      <td>...</td>\n",
       "      <td>...</td>\n",
       "      <td>...</td>\n",
       "      <td>...</td>\n",
       "      <td>...</td>\n",
       "      <td>...</td>\n",
       "    </tr>\n",
       "    <tr>\n",
       "      <th>19995</th>\n",
       "      <td>2</td>\n",
       "      <td>2</td>\n",
       "      <td>3</td>\n",
       "      <td>3</td>\n",
       "      <td>2</td>\n",
       "      <td>7</td>\n",
       "      <td>7</td>\n",
       "      <td>7</td>\n",
       "      <td>6</td>\n",
       "      <td>6</td>\n",
       "      <td>6</td>\n",
       "      <td>4</td>\n",
       "      <td>2</td>\n",
       "      <td>8</td>\n",
       "      <td>3</td>\n",
       "      <td>7</td>\n",
       "      <td>1</td>\n",
       "      <td>4</td>\n",
       "    </tr>\n",
       "    <tr>\n",
       "      <th>19996</th>\n",
       "      <td>7</td>\n",
       "      <td>10</td>\n",
       "      <td>8</td>\n",
       "      <td>8</td>\n",
       "      <td>4</td>\n",
       "      <td>4</td>\n",
       "      <td>8</td>\n",
       "      <td>6</td>\n",
       "      <td>9</td>\n",
       "      <td>12</td>\n",
       "      <td>9</td>\n",
       "      <td>13</td>\n",
       "      <td>2</td>\n",
       "      <td>9</td>\n",
       "      <td>3</td>\n",
       "      <td>7</td>\n",
       "      <td>1</td>\n",
       "      <td>3</td>\n",
       "    </tr>\n",
       "    <tr>\n",
       "      <th>19997</th>\n",
       "      <td>6</td>\n",
       "      <td>9</td>\n",
       "      <td>6</td>\n",
       "      <td>7</td>\n",
       "      <td>5</td>\n",
       "      <td>6</td>\n",
       "      <td>11</td>\n",
       "      <td>3</td>\n",
       "      <td>7</td>\n",
       "      <td>11</td>\n",
       "      <td>9</td>\n",
       "      <td>5</td>\n",
       "      <td>2</td>\n",
       "      <td>12</td>\n",
       "      <td>2</td>\n",
       "      <td>4</td>\n",
       "      <td>1</td>\n",
       "      <td>20</td>\n",
       "    </tr>\n",
       "    <tr>\n",
       "      <th>19998</th>\n",
       "      <td>2</td>\n",
       "      <td>3</td>\n",
       "      <td>4</td>\n",
       "      <td>2</td>\n",
       "      <td>1</td>\n",
       "      <td>8</td>\n",
       "      <td>7</td>\n",
       "      <td>2</td>\n",
       "      <td>6</td>\n",
       "      <td>10</td>\n",
       "      <td>6</td>\n",
       "      <td>8</td>\n",
       "      <td>1</td>\n",
       "      <td>9</td>\n",
       "      <td>5</td>\n",
       "      <td>8</td>\n",
       "      <td>1</td>\n",
       "      <td>19</td>\n",
       "    </tr>\n",
       "    <tr>\n",
       "      <th>19999</th>\n",
       "      <td>4</td>\n",
       "      <td>9</td>\n",
       "      <td>6</td>\n",
       "      <td>6</td>\n",
       "      <td>2</td>\n",
       "      <td>9</td>\n",
       "      <td>5</td>\n",
       "      <td>3</td>\n",
       "      <td>1</td>\n",
       "      <td>8</td>\n",
       "      <td>1</td>\n",
       "      <td>8</td>\n",
       "      <td>2</td>\n",
       "      <td>7</td>\n",
       "      <td>2</td>\n",
       "      <td>8</td>\n",
       "      <td>1</td>\n",
       "      <td>1</td>\n",
       "    </tr>\n",
       "  </tbody>\n",
       "</table>\n",
       "<p>20000 rows × 18 columns</p>\n",
       "</div>"
      ],
      "text/plain": [
       "       x-box  y-box  width  high  onpix  x-bar  y-bar  x2bar  y2bar  xybar  \\\n",
       "0          2      8      3     5      1      8     13      0      6      6   \n",
       "1          5     12      3     7      2     10      5      5      4     13   \n",
       "2          4     11      6     8      6     10      6      2      6     10   \n",
       "3          7     11      6     6      3      5      9      4      6      4   \n",
       "4          2      1      3     1      1      8      6      6      6      6   \n",
       "...      ...    ...    ...   ...    ...    ...    ...    ...    ...    ...   \n",
       "19995      2      2      3     3      2      7      7      7      6      6   \n",
       "19996      7     10      8     8      4      4      8      6      9     12   \n",
       "19997      6      9      6     7      5      6     11      3      7     11   \n",
       "19998      2      3      4     2      1      8      7      2      6     10   \n",
       "19999      4      9      6     6      2      9      5      3      1      8   \n",
       "\n",
       "       x2ybr  xy2br  x-ege  xegvy  y-ege  yegvx  Outlier  lettr  \n",
       "0         10      8      0      8      0      8        1     20  \n",
       "1          3      9      2      8      4     10        1      9  \n",
       "2          3      7      3      7      3      9        1      4  \n",
       "3          4     10      6     10      2      8        1     14  \n",
       "4          5      9      1      7      5     10       -1      7  \n",
       "...      ...    ...    ...    ...    ...    ...      ...    ...  \n",
       "19995      6      4      2      8      3      7        1      4  \n",
       "19996      9     13      2      9      3      7        1      3  \n",
       "19997      9      5      2     12      2      4        1     20  \n",
       "19998      6      8      1      9      5      8        1     19  \n",
       "19999      1      8      2      7      2      8        1      1  \n",
       "\n",
       "[20000 rows x 18 columns]"
      ]
     },
     "execution_count": 29,
     "metadata": {},
     "output_type": "execute_result"
    }
   ],
   "outputs_reference": "s3:deepnote-cell-outputs-production/7d6df1a9-8d86-46d4-8f63-0e53d5fd4077",
   "source": [
    "import pandas as pd\n",
    "import numpy as np\n",
    "\n",
    "df = pd.read_csv('letter-recognition.csv')\n",
    "# df.drop(\"Unnamed: 0\", axis=1, inplace=True)\n",
    "# df.drop(\"Outlier\", axis=1, inplace=True)\n",
    "df"
   ]
  },
  {
   "block_group": "95b68a986f0945eb91dfaafc6d0c5e4f",
   "cell_type": "markdown",
   "metadata": {
    "cell_id": "ad89764cdf574e9e8c6bb4b2acccf05d",
    "deepnote_cell_type": "text-cell-p",
    "formattedRanges": []
   },
   "source": [
    "Penjelasan code"
   ]
  },
  {
   "block_group": "c84bfe1f6f234c15b7179ff4d6b98e92",
   "cell_type": "markdown",
   "metadata": {
    "cell_id": "9abce369de884bfd900fa37d87438203",
    "deepnote_cell_type": "text-cell-p",
    "formattedRanges": []
   },
   "source": [
    "Kode tersebut membaca file CSV `letter-recognition.csv` ke dalam DataFrame `df` menggunakan pustaka `pandas`. Baris-baris yang dikomentari (`df.drop(\"Unnamed: 0\", axis=1, inplace=True)` dan `df.drop(\"Outlier\", axis=1, inplace=True)`) berfungsi untuk menghapus kolom `Unnamed: 0` dan `Outlier` jika tidak dikomentari. Setelah itu, DataFrame `df` ditampilkan."
   ]
  },
  {
   "block_group": "f7d7b9099e034e6583ca639727d5b773",
   "cell_type": "markdown",
   "metadata": {
    "cell_id": "c6621e0caace40348f88a4b2e9f78adb",
    "deepnote_cell_type": "text-cell-h1",
    "formattedRanges": []
   },
   "source": [
    "# Bagging Classifier"
   ]
  },
  {
   "block_group": "179ad8420d4c4a2087ba4fae3fa78e49",
   "cell_type": "code",
   "content_dependencies": {
    "codeHash": "a294578",
    "definedVariables": [
     "pred_majority_vote",
     "df",
     "pred",
     "estimators",
     "gnb_model",
     "class_counts",
     "y_train_bootstrap",
     "accuracies",
     "X_train_bootstrap",
     "bootstrap_indices",
     "X",
     "average_accuracy",
     "X_train",
     "i",
     "accuracy",
     "X_test",
     "y_train",
     "bebas",
     "n_samples",
     "X_new",
     "y",
     "y_test",
     "n_estimators",
     "class_label",
     "y_pred"
    ],
    "importedModules": [
     "train_test_split",
     "pd",
     "GaussianNB",
     "np",
     "accuracy_score"
    ],
    "usedVariables": [
     "train_test_split",
     "pred_majority_vote",
     "df",
     "GaussianNB",
     "pred",
     "gnb_model",
     "estimators",
     "class_counts",
     "y_train_bootstrap",
     "accuracies",
     "X_train_bootstrap",
     "np",
     "bootstrap_indices",
     "accuracy_score",
     "X",
     "average_accuracy",
     "X_train",
     "i",
     "accuracy",
     "X_test",
     "y_train",
     "bebas",
     "pd",
     "n_samples",
     "X_new",
     "y",
     "y_test",
     "n_estimators",
     "class_label",
     "y_pred"
    ]
   },
   "execution_count": null,
   "metadata": {
    "cell_id": "da887e99ba9c4eccaf432e13129ccebb",
    "deepnote_cell_type": "code",
    "deepnote_to_be_reexecuted": false,
    "execution_millis": 273,
    "execution_start": 1719397078533,
    "source_hash": null
   },
   "outputs": [
    {
     "name": "stdout",
     "output_type": "stream",
     "text": [
      "Nilai unik dalam kolom 'class': [20  9  4 14  7 19  2  1 10 13 24 15 18  6  3  8 23 12 16  5 22 25 17 21\n",
      " 11 26]\n",
      "Prediction for estimator 1: 24\n",
      "Estimator 1 accuracy: 0.5880\n",
      "Prediction for estimator 2: 24\n",
      "Estimator 2 accuracy: 0.6072\n",
      "Prediction for estimator 3: 24\n",
      "Estimator 3 accuracy: 0.5962\n",
      "Prediction for estimator 4: 24\n",
      "Estimator 4 accuracy: 0.5860\n",
      "Prediction for estimator 5: 4\n",
      "Estimator 5 accuracy: 0.5825\n",
      "Prediction for estimator 6: 24\n",
      "Estimator 6 accuracy: 0.5840\n",
      "Prediction for estimator 7: 24\n",
      "Estimator 7 accuracy: 0.5847\n",
      "Prediction for estimator 8: 24\n",
      "Estimator 8 accuracy: 0.5567\n",
      "Prediction for estimator 9: 24\n",
      "Estimator 9 accuracy: 0.5750\n",
      "Prediction for estimator 10: 24\n",
      "Estimator 10 accuracy: 0.5857\n",
      "Prediction for estimator 11: 24\n",
      "Estimator 11 accuracy: 0.5835\n",
      "Prediction for estimator 12: 24\n",
      "Estimator 12 accuracy: 0.5705\n",
      "Prediction for estimator 13: 24\n",
      "Estimator 13 accuracy: 0.5797\n",
      "Prediction for estimator 14: 24\n",
      "Estimator 14 accuracy: 0.6002\n",
      "Prediction for estimator 15: 24\n",
      "Estimator 15 accuracy: 0.5800\n",
      "Prediction for estimator 16: 24\n",
      "Estimator 16 accuracy: 0.6010\n",
      "Prediction for estimator 17: 24\n",
      "Estimator 17 accuracy: 0.5823\n",
      "Prediction for estimator 18: 24\n",
      "Estimator 18 accuracy: 0.5895\n",
      "Prediction for estimator 19: 24\n",
      "Estimator 19 accuracy: 0.5777\n",
      "Prediction for estimator 20: 24\n",
      "Estimator 20 accuracy: 0.5645\n",
      "Majority vote prediction for new data: 24\n",
      "Jumlah prediksi kelas 0: 0\n",
      "Jumlah prediksi kelas 1: 0\n",
      "Jumlah prediksi kelas 2: 0\n",
      "Jumlah prediksi kelas 3: 0\n",
      "Jumlah prediksi kelas 4: 1\n",
      "Jumlah prediksi kelas 5: 0\n",
      "Jumlah prediksi kelas 6: 0\n",
      "Jumlah prediksi kelas 7: 0\n",
      "Jumlah prediksi kelas 8: 0\n",
      "Jumlah prediksi kelas 9: 0\n",
      "Jumlah prediksi kelas 10: 0\n",
      "Jumlah prediksi kelas 11: 0\n",
      "Jumlah prediksi kelas 12: 0\n",
      "Jumlah prediksi kelas 13: 0\n",
      "Jumlah prediksi kelas 14: 0\n",
      "Jumlah prediksi kelas 15: 0\n",
      "Jumlah prediksi kelas 16: 0\n",
      "Jumlah prediksi kelas 17: 0\n",
      "Jumlah prediksi kelas 18: 0\n",
      "Jumlah prediksi kelas 19: 0\n",
      "Jumlah prediksi kelas 20: 0\n",
      "Jumlah prediksi kelas 21: 0\n",
      "Jumlah prediksi kelas 22: 0\n",
      "Jumlah prediksi kelas 23: 0\n",
      "Jumlah prediksi kelas 24: 19\n",
      "Average accuracy of all estimators: 0.5838\n",
      "/shared-libs/python3.9/py/lib/python3.9/site-packages/sklearn/base.py:450: UserWarning: X does not have valid feature names, but GaussianNB was fitted with feature names\n",
      "  warnings.warn(\n",
      "/shared-libs/python3.9/py/lib/python3.9/site-packages/sklearn/base.py:450: UserWarning: X does not have valid feature names, but GaussianNB was fitted with feature names\n",
      "  warnings.warn(\n",
      "/shared-libs/python3.9/py/lib/python3.9/site-packages/sklearn/base.py:450: UserWarning: X does not have valid feature names, but GaussianNB was fitted with feature names\n",
      "  warnings.warn(\n",
      "/shared-libs/python3.9/py/lib/python3.9/site-packages/sklearn/base.py:450: UserWarning: X does not have valid feature names, but GaussianNB was fitted with feature names\n",
      "  warnings.warn(\n",
      "/shared-libs/python3.9/py/lib/python3.9/site-packages/sklearn/base.py:450: UserWarning: X does not have valid feature names, but GaussianNB was fitted with feature names\n",
      "  warnings.warn(\n",
      "/shared-libs/python3.9/py/lib/python3.9/site-packages/sklearn/base.py:450: UserWarning: X does not have valid feature names, but GaussianNB was fitted with feature names\n",
      "  warnings.warn(\n",
      "/shared-libs/python3.9/py/lib/python3.9/site-packages/sklearn/base.py:450: UserWarning: X does not have valid feature names, but GaussianNB was fitted with feature names\n",
      "  warnings.warn(\n",
      "/shared-libs/python3.9/py/lib/python3.9/site-packages/sklearn/base.py:450: UserWarning: X does not have valid feature names, but GaussianNB was fitted with feature names\n",
      "  warnings.warn(\n",
      "/shared-libs/python3.9/py/lib/python3.9/site-packages/sklearn/base.py:450: UserWarning: X does not have valid feature names, but GaussianNB was fitted with feature names\n",
      "  warnings.warn(\n",
      "/shared-libs/python3.9/py/lib/python3.9/site-packages/sklearn/base.py:450: UserWarning: X does not have valid feature names, but GaussianNB was fitted with feature names\n",
      "  warnings.warn(\n",
      "/shared-libs/python3.9/py/lib/python3.9/site-packages/sklearn/base.py:450: UserWarning: X does not have valid feature names, but GaussianNB was fitted with feature names\n",
      "  warnings.warn(\n",
      "/shared-libs/python3.9/py/lib/python3.9/site-packages/sklearn/base.py:450: UserWarning: X does not have valid feature names, but GaussianNB was fitted with feature names\n",
      "  warnings.warn(\n",
      "/shared-libs/python3.9/py/lib/python3.9/site-packages/sklearn/base.py:450: UserWarning: X does not have valid feature names, but GaussianNB was fitted with feature names\n",
      "  warnings.warn(\n",
      "/shared-libs/python3.9/py/lib/python3.9/site-packages/sklearn/base.py:450: UserWarning: X does not have valid feature names, but GaussianNB was fitted with feature names\n",
      "  warnings.warn(\n",
      "/shared-libs/python3.9/py/lib/python3.9/site-packages/sklearn/base.py:450: UserWarning: X does not have valid feature names, but GaussianNB was fitted with feature names\n",
      "  warnings.warn(\n",
      "/shared-libs/python3.9/py/lib/python3.9/site-packages/sklearn/base.py:450: UserWarning: X does not have valid feature names, but GaussianNB was fitted with feature names\n",
      "  warnings.warn(\n",
      "/shared-libs/python3.9/py/lib/python3.9/site-packages/sklearn/base.py:450: UserWarning: X does not have valid feature names, but GaussianNB was fitted with feature names\n",
      "  warnings.warn(\n",
      "/shared-libs/python3.9/py/lib/python3.9/site-packages/sklearn/base.py:450: UserWarning: X does not have valid feature names, but GaussianNB was fitted with feature names\n",
      "  warnings.warn(\n",
      "/shared-libs/python3.9/py/lib/python3.9/site-packages/sklearn/base.py:450: UserWarning: X does not have valid feature names, but GaussianNB was fitted with feature names\n",
      "  warnings.warn(\n",
      "/shared-libs/python3.9/py/lib/python3.9/site-packages/sklearn/base.py:450: UserWarning: X does not have valid feature names, but GaussianNB was fitted with feature names\n",
      "  warnings.warn(\n"
     ]
    }
   ],
   "outputs_reference": "s3:deepnote-cell-outputs-production/fef94eba-1b83-4e71-852a-17e440e32c85",
   "source": [
    "import pandas as pd\n",
    "import numpy as np\n",
    "from sklearn.naive_bayes import GaussianNB\n",
    "from sklearn.model_selection import train_test_split\n",
    "from sklearn.metrics import accuracy_score\n",
    "\n",
    "# Memuat dataset\n",
    "df = pd.read_csv('letter-recognition.csv')\n",
    "\n",
    "# Periksa nilai unik dalam kolom 'class'\n",
    "print(\"Nilai unik dalam kolom 'class':\", df['lettr'].unique())\n",
    "\n",
    "# Memisahkan fitur dan target\n",
    "X = df[['x-box', 'y-box', 'width', 'high', 'onpix', 'x-bar', 'y-bar', 'x2bar', 'y2bar', 'xybar', 'x2ybr', 'xy2br', 'x-ege', 'xegvy', 'y-ege', 'yegvx']]\n",
    "y = df['lettr']\n",
    "\n",
    "# Membagi dataset menjadi data pelatihan dan pengujian\n",
    "X_train, X_test, y_train, y_test = train_test_split(X, y, test_size=0.2, random_state=25)\n",
    "\n",
    "# Parameter bagging\n",
    "n_estimators = 20\n",
    "n_samples = int(len(X_train) / n_estimators)\n",
    "\n",
    "# Inisialisasi list untuk menyimpan model dan akurasi\n",
    "estimators = []\n",
    "accuracies = []\n",
    "pred = []\n",
    "X_new = [[5, 11, 8, 8, 4, 8, 8, 1, 8, 10, 5, 7, 3, 8, 4, 8]]\n",
    "\n",
    "np.random.seed(0)\n",
    "\n",
    "# Membuat model Gaussian Naive Bayes untuk setiap subset\n",
    "for i in range(n_estimators):\n",
    "    # Membuat bootstrap sample\n",
    "    bootstrap_indices = np.random.randint(0, len(X_train), n_samples)\n",
    "    X_train_bootstrap = X_train.iloc[bootstrap_indices]\n",
    "    y_train_bootstrap = y_train.iloc[bootstrap_indices]\n",
    "    \n",
    "    # Melatih model\n",
    "    gnb_model = GaussianNB()\n",
    "    gnb_model.fit(X_train_bootstrap, y_train_bootstrap)\n",
    "    estimators.append(gnb_model)\n",
    "\n",
    "    # Evaluasi model    \n",
    "    bebas = gnb_model.predict(X_new)\n",
    "    pred.append(bebas[0])  # Mengambil nilai prediksi dan menyimpannya di list pred\n",
    "    print(f\"Prediction for estimator {i + 1}: {bebas[0]}\")\n",
    "    \n",
    "    y_pred = gnb_model.predict(X_test)\n",
    "    accuracy = accuracy_score(y_test, y_pred)\n",
    "    accuracies.append(accuracy)\n",
    "    print(f\"Estimator {i + 1} accuracy: {accuracy:.4f}\")\n",
    "\n",
    "# Majority vote untuk prediksi data baru\n",
    "pred_majority_vote = np.bincount(pred).argmax()\n",
    "print(f\"Majority vote prediction for new data: {pred_majority_vote}\")\n",
    "\n",
    "# Menghitung jumlah dari masing-masing kelas dalam pred\n",
    "class_counts = np.bincount(pred)\n",
    "for class_label in range(len(class_counts)):\n",
    "    print(f\"Jumlah prediksi kelas {class_label}: {class_counts[class_label]}\")\n",
    "\n",
    "# Menghitung rata-rata akurasi dari semua estimators\n",
    "average_accuracy = np.mean(accuracies)\n",
    "print(f\"Average accuracy of all estimators: {average_accuracy:.4f}\")\n"
   ]
  },
  {
   "block_group": "487a989a1f7d43ca8d04b205ce0dce00",
   "cell_type": "markdown",
   "metadata": {
    "cell_id": "8457cf03336143139452bae945a2624a",
    "deepnote_cell_type": "text-cell-p",
    "formattedRanges": []
   },
   "source": [
    "Penjelasan code"
   ]
  },
  {
   "block_group": "73e20c8a154b486a9a906f77da931f98",
   "cell_type": "markdown",
   "metadata": {
    "cell_id": "3b513090572f4b2b8761427b37311c24",
    "deepnote_cell_type": "text-cell-p",
    "formattedRanges": []
   },
   "source": [
    "Bagging (Bootstrap Aggregating) adalah teknik ensemble yang bertujuan untuk meningkatkan akurasi prediksi dengan mengkombinasikan hasil dari beberapa model yang dilatih pada subset acak dari dataset asli. Teknik ini membantu mengurangi overfitting dan membuat model lebih stabil. Pada studi kasus ini, data yang telah dilatih menggunakan metode KNN dipakai sebagai fitur baru dalam perhitungan dengan menggunakan bagging classifier."
   ]
  },
  {
   "cell_type": "markdown",
   "metadata": {
    "created_in_deepnote_cell": true,
    "deepnote_cell_type": "markdown"
   },
   "source": [
    "<a style='text-decoration:none;line-height:16px;display:flex;color:#5B5B62;padding:10px;justify-content:end;' href='https://deepnote.com?utm_source=created-in-deepnote-cell&projectId=0ebf5bcc-908a-44a3-a323-23010d32709e' target=\"_blank\">\n",
    "<img alt='Created in deepnote.com' style='display:inline;max-height:16px;margin:0px;margin-right:7.5px;' src='data:image/svg+xml;base64,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' > </img>\n",
    "Created in <span style='font-weight:600;margin-left:4px;'>Deepnote</span></a>"
   ]
  }
 ],
 "metadata": {
  "deepnote_execution_queue": [],
  "deepnote_notebook_id": "eceb44f7d5364b2fafa5edff3ebbaaf9",
  "language_info": {
   "codemirror_mode": {
    "name": "ipython",
    "version": 3
   },
   "file_extension": ".py",
   "mimetype": "text/x-python",
   "name": "python",
   "nbconvert_exporter": "python",
   "pygments_lexer": "ipython3",
   "version": "3.10.6"
  }
 },
 "nbformat": 4,
 "nbformat_minor": 0
}